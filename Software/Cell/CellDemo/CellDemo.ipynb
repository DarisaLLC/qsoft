{
 "metadata": {
  "name": ""
 },
 "nbformat": 3,
 "nbformat_minor": 0,
 "worksheets": [
  {
   "cells": [
    {
     "cell_type": "code",
     "collapsed": false,
     "input": [
      "%pylab inline\n",
      "from IPython.core.display import Image"
     ],
     "language": "python",
     "metadata": {},
     "outputs": [
      {
       "output_type": "stream",
       "stream": "stdout",
       "text": [
        "Populating the interactive namespace from numpy and matplotlib\n"
       ]
      }
     ],
     "prompt_number": 18
    },
    {
     "cell_type": "code",
     "collapsed": false,
     "input": [
      "from Cell import Migration\n",
      "import os"
     ],
     "language": "python",
     "metadata": {},
     "outputs": [],
     "prompt_number": 19
    },
    {
     "cell_type": "code",
     "collapsed": false,
     "input": [
      "# define the Source EXtractor configuration file path\n",
      "configpath=\"/Users/amorgan/qsoft/Software/Cell/sexconfig/\""
     ],
     "language": "python",
     "metadata": {},
     "outputs": [],
     "prompt_number": 20
    },
    {
     "cell_type": "markdown",
     "metadata": {},
     "source": [
      "### SERIES OF TIFF FILES"
     ]
    },
    {
     "cell_type": "code",
     "collapsed": false,
     "input": [
      "inpath=\"/Users/amorgan/qsoft/Software/Cell/CellDemo/20140119_sample/day1/gel2/ZSeries-01192014-1407-208/\"\n",
      "outpath=\"/Users/amorgan/qsoft/Software/Cell/CellDemo/20140119_output/day1/gel2/ZSeries-01192014-1407-208/\"\n"
     ],
     "language": "python",
     "metadata": {},
     "outputs": [],
     "prompt_number": 21
    },
    {
     "cell_type": "code",
     "collapsed": false,
     "input": [
      "# initialize the stack with TiffStack\n",
      "imgstack = Migration.TiffStack(image_directory=inpath,output_directory=outpath,config_directory=configpath)"
     ],
     "language": "python",
     "metadata": {},
     "outputs": [],
     "prompt_number": 22
    },
    {
     "cell_type": "code",
     "collapsed": false,
     "input": [
      "# convert the images to .fits files\n",
      "imgstack.PrepareImages()"
     ],
     "language": "python",
     "metadata": {},
     "outputs": [
      {
       "output_type": "stream",
       "stream": "stdout",
       "text": [
        "Converting tiff files to fits files...\n",
        "Converting tiff files to fits files\n",
        "Done. Ready to FindDetections()"
       ]
      },
      {
       "output_type": "stream",
       "stream": "stdout",
       "text": [
        "\n"
       ]
      }
     ],
     "prompt_number": 23
    },
    {
     "cell_type": "code",
     "collapsed": false,
     "input": [
      "# run sextractor on the images (set checkimages=True for additional output images)\n",
      "imgstack.FindDetections(checkimages=True)"
     ],
     "language": "python",
     "metadata": {},
     "outputs": [
      {
       "output_type": "stream",
       "stream": "stdout",
       "text": [
        "sex /Users/amorgan/qsoft/Software/Cell/CellDemo/20140119_output/day1/gel2/ZSeries-01192014-1407-208//000001.fits -c /Users/amorgan/qsoft/Software/Cell/sexconfig/cell.sex  -CATALOG_NAME /Users/amorgan/qsoft/Software/Cell/CellDemo/20140119_output/day1/gel2/ZSeries-01192014-1407-208/cat000001.txt -PARAMETERS_NAME  /Users/amorgan/qsoft/Software/Cell/sexconfig/cell.param  -FILTER_NAME /Users/amorgan/qsoft/Software/Cell/sexconfig/gauss_3.0_7x7.conv  -CHECKIMAGE_TYPE APERTURES,SEGMENTATION,BACKGROUND  -CHECKIMAGE_NAME /Users/amorgan/qsoft/Software/Cell/CellDemo/20140119_output/day1/gel2/ZSeries-01192014-1407-208/ap_000001.fits,/Users/amorgan/qsoft/Software/Cell/CellDemo/20140119_output/day1/gel2/ZSeries-01192014-1407-208/seg_000001.fits,/Users/amorgan/qsoft/Software/Cell/CellDemo/20140119_output/day1/gel2/ZSeries-01192014-1407-208/back_000001.fits \n",
        "sex /Users/amorgan/qsoft/Software/Cell/CellDemo/20140119_output/day1/gel2/ZSeries-01192014-1407-208//000002.fits -c /Users/amorgan/qsoft/Software/Cell/sexconfig/cell.sex  -CATALOG_NAME /Users/amorgan/qsoft/Software/Cell/CellDemo/20140119_output/day1/gel2/ZSeries-01192014-1407-208/cat000002.txt -PARAMETERS_NAME  /Users/amorgan/qsoft/Software/Cell/sexconfig/cell.param  -FILTER_NAME /Users/amorgan/qsoft/Software/Cell/sexconfig/gauss_3.0_7x7.conv  -CHECKIMAGE_TYPE APERTURES,SEGMENTATION,BACKGROUND  -CHECKIMAGE_NAME /Users/amorgan/qsoft/Software/Cell/CellDemo/20140119_output/day1/gel2/ZSeries-01192014-1407-208/ap_000002.fits,/Users/amorgan/qsoft/Software/Cell/CellDemo/20140119_output/day1/gel2/ZSeries-01192014-1407-208/seg_000002.fits,/Users/amorgan/qsoft/Software/Cell/CellDemo/20140119_output/day1/gel2/ZSeries-01192014-1407-208/back_000002.fits "
       ]
      },
      {
       "output_type": "stream",
       "stream": "stdout",
       "text": [
        "\n",
        "sex /Users/amorgan/qsoft/Software/Cell/CellDemo/20140119_output/day1/gel2/ZSeries-01192014-1407-208//000003.fits -c /Users/amorgan/qsoft/Software/Cell/sexconfig/cell.sex  -CATALOG_NAME /Users/amorgan/qsoft/Software/Cell/CellDemo/20140119_output/day1/gel2/ZSeries-01192014-1407-208/cat000003.txt -PARAMETERS_NAME  /Users/amorgan/qsoft/Software/Cell/sexconfig/cell.param  -FILTER_NAME /Users/amorgan/qsoft/Software/Cell/sexconfig/gauss_3.0_7x7.conv  -CHECKIMAGE_TYPE APERTURES,SEGMENTATION,BACKGROUND  -CHECKIMAGE_NAME /Users/amorgan/qsoft/Software/Cell/CellDemo/20140119_output/day1/gel2/ZSeries-01192014-1407-208/ap_000003.fits,/Users/amorgan/qsoft/Software/Cell/CellDemo/20140119_output/day1/gel2/ZSeries-01192014-1407-208/seg_000003.fits,/Users/amorgan/qsoft/Software/Cell/CellDemo/20140119_output/day1/gel2/ZSeries-01192014-1407-208/back_000003.fits "
       ]
      },
      {
       "output_type": "stream",
       "stream": "stdout",
       "text": [
        "\n",
        "sex /Users/amorgan/qsoft/Software/Cell/CellDemo/20140119_output/day1/gel2/ZSeries-01192014-1407-208//000004.fits -c /Users/amorgan/qsoft/Software/Cell/sexconfig/cell.sex  -CATALOG_NAME /Users/amorgan/qsoft/Software/Cell/CellDemo/20140119_output/day1/gel2/ZSeries-01192014-1407-208/cat000004.txt -PARAMETERS_NAME  /Users/amorgan/qsoft/Software/Cell/sexconfig/cell.param  -FILTER_NAME /Users/amorgan/qsoft/Software/Cell/sexconfig/gauss_3.0_7x7.conv  -CHECKIMAGE_TYPE APERTURES,SEGMENTATION,BACKGROUND  -CHECKIMAGE_NAME /Users/amorgan/qsoft/Software/Cell/CellDemo/20140119_output/day1/gel2/ZSeries-01192014-1407-208/ap_000004.fits,/Users/amorgan/qsoft/Software/Cell/CellDemo/20140119_output/day1/gel2/ZSeries-01192014-1407-208/seg_000004.fits,/Users/amorgan/qsoft/Software/Cell/CellDemo/20140119_output/day1/gel2/ZSeries-01192014-1407-208/back_000004.fits "
       ]
      },
      {
       "output_type": "stream",
       "stream": "stdout",
       "text": [
        "\n",
        "sex /Users/amorgan/qsoft/Software/Cell/CellDemo/20140119_output/day1/gel2/ZSeries-01192014-1407-208//000005.fits -c /Users/amorgan/qsoft/Software/Cell/sexconfig/cell.sex  -CATALOG_NAME /Users/amorgan/qsoft/Software/Cell/CellDemo/20140119_output/day1/gel2/ZSeries-01192014-1407-208/cat000005.txt -PARAMETERS_NAME  /Users/amorgan/qsoft/Software/Cell/sexconfig/cell.param  -FILTER_NAME /Users/amorgan/qsoft/Software/Cell/sexconfig/gauss_3.0_7x7.conv  -CHECKIMAGE_TYPE APERTURES,SEGMENTATION,BACKGROUND  -CHECKIMAGE_NAME /Users/amorgan/qsoft/Software/Cell/CellDemo/20140119_output/day1/gel2/ZSeries-01192014-1407-208/ap_000005.fits,/Users/amorgan/qsoft/Software/Cell/CellDemo/20140119_output/day1/gel2/ZSeries-01192014-1407-208/seg_000005.fits,/Users/amorgan/qsoft/Software/Cell/CellDemo/20140119_output/day1/gel2/ZSeries-01192014-1407-208/back_000005.fits "
       ]
      },
      {
       "output_type": "stream",
       "stream": "stdout",
       "text": [
        "\n",
        "sex /Users/amorgan/qsoft/Software/Cell/CellDemo/20140119_output/day1/gel2/ZSeries-01192014-1407-208//000006.fits -c /Users/amorgan/qsoft/Software/Cell/sexconfig/cell.sex  -CATALOG_NAME /Users/amorgan/qsoft/Software/Cell/CellDemo/20140119_output/day1/gel2/ZSeries-01192014-1407-208/cat000006.txt -PARAMETERS_NAME  /Users/amorgan/qsoft/Software/Cell/sexconfig/cell.param  -FILTER_NAME /Users/amorgan/qsoft/Software/Cell/sexconfig/gauss_3.0_7x7.conv  -CHECKIMAGE_TYPE APERTURES,SEGMENTATION,BACKGROUND  -CHECKIMAGE_NAME /Users/amorgan/qsoft/Software/Cell/CellDemo/20140119_output/day1/gel2/ZSeries-01192014-1407-208/ap_000006.fits,/Users/amorgan/qsoft/Software/Cell/CellDemo/20140119_output/day1/gel2/ZSeries-01192014-1407-208/seg_000006.fits,/Users/amorgan/qsoft/Software/Cell/CellDemo/20140119_output/day1/gel2/ZSeries-01192014-1407-208/back_000006.fits "
       ]
      },
      {
       "output_type": "stream",
       "stream": "stdout",
       "text": [
        "\n",
        "sex /Users/amorgan/qsoft/Software/Cell/CellDemo/20140119_output/day1/gel2/ZSeries-01192014-1407-208//000007.fits -c /Users/amorgan/qsoft/Software/Cell/sexconfig/cell.sex  -CATALOG_NAME /Users/amorgan/qsoft/Software/Cell/CellDemo/20140119_output/day1/gel2/ZSeries-01192014-1407-208/cat000007.txt -PARAMETERS_NAME  /Users/amorgan/qsoft/Software/Cell/sexconfig/cell.param  -FILTER_NAME /Users/amorgan/qsoft/Software/Cell/sexconfig/gauss_3.0_7x7.conv  -CHECKIMAGE_TYPE APERTURES,SEGMENTATION,BACKGROUND  -CHECKIMAGE_NAME /Users/amorgan/qsoft/Software/Cell/CellDemo/20140119_output/day1/gel2/ZSeries-01192014-1407-208/ap_000007.fits,/Users/amorgan/qsoft/Software/Cell/CellDemo/20140119_output/day1/gel2/ZSeries-01192014-1407-208/seg_000007.fits,/Users/amorgan/qsoft/Software/Cell/CellDemo/20140119_output/day1/gel2/ZSeries-01192014-1407-208/back_000007.fits "
       ]
      },
      {
       "output_type": "stream",
       "stream": "stdout",
       "text": [
        "\n",
        "sex /Users/amorgan/qsoft/Software/Cell/CellDemo/20140119_output/day1/gel2/ZSeries-01192014-1407-208//000008.fits -c /Users/amorgan/qsoft/Software/Cell/sexconfig/cell.sex  -CATALOG_NAME /Users/amorgan/qsoft/Software/Cell/CellDemo/20140119_output/day1/gel2/ZSeries-01192014-1407-208/cat000008.txt -PARAMETERS_NAME  /Users/amorgan/qsoft/Software/Cell/sexconfig/cell.param  -FILTER_NAME /Users/amorgan/qsoft/Software/Cell/sexconfig/gauss_3.0_7x7.conv  -CHECKIMAGE_TYPE APERTURES,SEGMENTATION,BACKGROUND  -CHECKIMAGE_NAME /Users/amorgan/qsoft/Software/Cell/CellDemo/20140119_output/day1/gel2/ZSeries-01192014-1407-208/ap_000008.fits,/Users/amorgan/qsoft/Software/Cell/CellDemo/20140119_output/day1/gel2/ZSeries-01192014-1407-208/seg_000008.fits,/Users/amorgan/qsoft/Software/Cell/CellDemo/20140119_output/day1/gel2/ZSeries-01192014-1407-208/back_000008.fits "
       ]
      },
      {
       "output_type": "stream",
       "stream": "stdout",
       "text": [
        "\n",
        "sex /Users/amorgan/qsoft/Software/Cell/CellDemo/20140119_output/day1/gel2/ZSeries-01192014-1407-208//000009.fits -c /Users/amorgan/qsoft/Software/Cell/sexconfig/cell.sex  -CATALOG_NAME /Users/amorgan/qsoft/Software/Cell/CellDemo/20140119_output/day1/gel2/ZSeries-01192014-1407-208/cat000009.txt -PARAMETERS_NAME  /Users/amorgan/qsoft/Software/Cell/sexconfig/cell.param  -FILTER_NAME /Users/amorgan/qsoft/Software/Cell/sexconfig/gauss_3.0_7x7.conv  -CHECKIMAGE_TYPE APERTURES,SEGMENTATION,BACKGROUND  -CHECKIMAGE_NAME /Users/amorgan/qsoft/Software/Cell/CellDemo/20140119_output/day1/gel2/ZSeries-01192014-1407-208/ap_000009.fits,/Users/amorgan/qsoft/Software/Cell/CellDemo/20140119_output/day1/gel2/ZSeries-01192014-1407-208/seg_000009.fits,/Users/amorgan/qsoft/Software/Cell/CellDemo/20140119_output/day1/gel2/ZSeries-01192014-1407-208/back_000009.fits "
       ]
      },
      {
       "output_type": "stream",
       "stream": "stdout",
       "text": [
        "\n",
        "sex /Users/amorgan/qsoft/Software/Cell/CellDemo/20140119_output/day1/gel2/ZSeries-01192014-1407-208//000010.fits -c /Users/amorgan/qsoft/Software/Cell/sexconfig/cell.sex  -CATALOG_NAME /Users/amorgan/qsoft/Software/Cell/CellDemo/20140119_output/day1/gel2/ZSeries-01192014-1407-208/cat000010.txt -PARAMETERS_NAME  /Users/amorgan/qsoft/Software/Cell/sexconfig/cell.param  -FILTER_NAME /Users/amorgan/qsoft/Software/Cell/sexconfig/gauss_3.0_7x7.conv  -CHECKIMAGE_TYPE APERTURES,SEGMENTATION,BACKGROUND  -CHECKIMAGE_NAME /Users/amorgan/qsoft/Software/Cell/CellDemo/20140119_output/day1/gel2/ZSeries-01192014-1407-208/ap_000010.fits,/Users/amorgan/qsoft/Software/Cell/CellDemo/20140119_output/day1/gel2/ZSeries-01192014-1407-208/seg_000010.fits,/Users/amorgan/qsoft/Software/Cell/CellDemo/20140119_output/day1/gel2/ZSeries-01192014-1407-208/back_000010.fits "
       ]
      },
      {
       "output_type": "stream",
       "stream": "stdout",
       "text": [
        "\n",
        "sex /Users/amorgan/qsoft/Software/Cell/CellDemo/20140119_output/day1/gel2/ZSeries-01192014-1407-208//000011.fits -c /Users/amorgan/qsoft/Software/Cell/sexconfig/cell.sex  -CATALOG_NAME /Users/amorgan/qsoft/Software/Cell/CellDemo/20140119_output/day1/gel2/ZSeries-01192014-1407-208/cat000011.txt -PARAMETERS_NAME  /Users/amorgan/qsoft/Software/Cell/sexconfig/cell.param  -FILTER_NAME /Users/amorgan/qsoft/Software/Cell/sexconfig/gauss_3.0_7x7.conv  -CHECKIMAGE_TYPE APERTURES,SEGMENTATION,BACKGROUND  -CHECKIMAGE_NAME /Users/amorgan/qsoft/Software/Cell/CellDemo/20140119_output/day1/gel2/ZSeries-01192014-1407-208/ap_000011.fits,/Users/amorgan/qsoft/Software/Cell/CellDemo/20140119_output/day1/gel2/ZSeries-01192014-1407-208/seg_000011.fits,/Users/amorgan/qsoft/Software/Cell/CellDemo/20140119_output/day1/gel2/ZSeries-01192014-1407-208/back_000011.fits "
       ]
      },
      {
       "output_type": "stream",
       "stream": "stdout",
       "text": [
        "\n",
        "sex /Users/amorgan/qsoft/Software/Cell/CellDemo/20140119_output/day1/gel2/ZSeries-01192014-1407-208//000012.fits -c /Users/amorgan/qsoft/Software/Cell/sexconfig/cell.sex  -CATALOG_NAME /Users/amorgan/qsoft/Software/Cell/CellDemo/20140119_output/day1/gel2/ZSeries-01192014-1407-208/cat000012.txt -PARAMETERS_NAME  /Users/amorgan/qsoft/Software/Cell/sexconfig/cell.param  -FILTER_NAME /Users/amorgan/qsoft/Software/Cell/sexconfig/gauss_3.0_7x7.conv  -CHECKIMAGE_TYPE APERTURES,SEGMENTATION,BACKGROUND  -CHECKIMAGE_NAME /Users/amorgan/qsoft/Software/Cell/CellDemo/20140119_output/day1/gel2/ZSeries-01192014-1407-208/ap_000012.fits,/Users/amorgan/qsoft/Software/Cell/CellDemo/20140119_output/day1/gel2/ZSeries-01192014-1407-208/seg_000012.fits,/Users/amorgan/qsoft/Software/Cell/CellDemo/20140119_output/day1/gel2/ZSeries-01192014-1407-208/back_000012.fits "
       ]
      },
      {
       "output_type": "stream",
       "stream": "stdout",
       "text": [
        "\n",
        "sex /Users/amorgan/qsoft/Software/Cell/CellDemo/20140119_output/day1/gel2/ZSeries-01192014-1407-208//000013.fits -c /Users/amorgan/qsoft/Software/Cell/sexconfig/cell.sex  -CATALOG_NAME /Users/amorgan/qsoft/Software/Cell/CellDemo/20140119_output/day1/gel2/ZSeries-01192014-1407-208/cat000013.txt -PARAMETERS_NAME  /Users/amorgan/qsoft/Software/Cell/sexconfig/cell.param  -FILTER_NAME /Users/amorgan/qsoft/Software/Cell/sexconfig/gauss_3.0_7x7.conv  -CHECKIMAGE_TYPE APERTURES,SEGMENTATION,BACKGROUND  -CHECKIMAGE_NAME /Users/amorgan/qsoft/Software/Cell/CellDemo/20140119_output/day1/gel2/ZSeries-01192014-1407-208/ap_000013.fits,/Users/amorgan/qsoft/Software/Cell/CellDemo/20140119_output/day1/gel2/ZSeries-01192014-1407-208/seg_000013.fits,/Users/amorgan/qsoft/Software/Cell/CellDemo/20140119_output/day1/gel2/ZSeries-01192014-1407-208/back_000013.fits "
       ]
      },
      {
       "output_type": "stream",
       "stream": "stdout",
       "text": [
        "\n",
        "sex /Users/amorgan/qsoft/Software/Cell/CellDemo/20140119_output/day1/gel2/ZSeries-01192014-1407-208//000014.fits -c /Users/amorgan/qsoft/Software/Cell/sexconfig/cell.sex  -CATALOG_NAME /Users/amorgan/qsoft/Software/Cell/CellDemo/20140119_output/day1/gel2/ZSeries-01192014-1407-208/cat000014.txt -PARAMETERS_NAME  /Users/amorgan/qsoft/Software/Cell/sexconfig/cell.param  -FILTER_NAME /Users/amorgan/qsoft/Software/Cell/sexconfig/gauss_3.0_7x7.conv  -CHECKIMAGE_TYPE APERTURES,SEGMENTATION,BACKGROUND  -CHECKIMAGE_NAME /Users/amorgan/qsoft/Software/Cell/CellDemo/20140119_output/day1/gel2/ZSeries-01192014-1407-208/ap_000014.fits,/Users/amorgan/qsoft/Software/Cell/CellDemo/20140119_output/day1/gel2/ZSeries-01192014-1407-208/seg_000014.fits,/Users/amorgan/qsoft/Software/Cell/CellDemo/20140119_output/day1/gel2/ZSeries-01192014-1407-208/back_000014.fits "
       ]
      },
      {
       "output_type": "stream",
       "stream": "stdout",
       "text": [
        "\n",
        "sex /Users/amorgan/qsoft/Software/Cell/CellDemo/20140119_output/day1/gel2/ZSeries-01192014-1407-208//000015.fits -c /Users/amorgan/qsoft/Software/Cell/sexconfig/cell.sex  -CATALOG_NAME /Users/amorgan/qsoft/Software/Cell/CellDemo/20140119_output/day1/gel2/ZSeries-01192014-1407-208/cat000015.txt -PARAMETERS_NAME  /Users/amorgan/qsoft/Software/Cell/sexconfig/cell.param  -FILTER_NAME /Users/amorgan/qsoft/Software/Cell/sexconfig/gauss_3.0_7x7.conv  -CHECKIMAGE_TYPE APERTURES,SEGMENTATION,BACKGROUND  -CHECKIMAGE_NAME /Users/amorgan/qsoft/Software/Cell/CellDemo/20140119_output/day1/gel2/ZSeries-01192014-1407-208/ap_000015.fits,/Users/amorgan/qsoft/Software/Cell/CellDemo/20140119_output/day1/gel2/ZSeries-01192014-1407-208/seg_000015.fits,/Users/amorgan/qsoft/Software/Cell/CellDemo/20140119_output/day1/gel2/ZSeries-01192014-1407-208/back_000015.fits "
       ]
      },
      {
       "output_type": "stream",
       "stream": "stdout",
       "text": [
        "\n",
        "sex /Users/amorgan/qsoft/Software/Cell/CellDemo/20140119_output/day1/gel2/ZSeries-01192014-1407-208//000016.fits -c /Users/amorgan/qsoft/Software/Cell/sexconfig/cell.sex  -CATALOG_NAME /Users/amorgan/qsoft/Software/Cell/CellDemo/20140119_output/day1/gel2/ZSeries-01192014-1407-208/cat000016.txt -PARAMETERS_NAME  /Users/amorgan/qsoft/Software/Cell/sexconfig/cell.param  -FILTER_NAME /Users/amorgan/qsoft/Software/Cell/sexconfig/gauss_3.0_7x7.conv  -CHECKIMAGE_TYPE APERTURES,SEGMENTATION,BACKGROUND  -CHECKIMAGE_NAME /Users/amorgan/qsoft/Software/Cell/CellDemo/20140119_output/day1/gel2/ZSeries-01192014-1407-208/ap_000016.fits,/Users/amorgan/qsoft/Software/Cell/CellDemo/20140119_output/day1/gel2/ZSeries-01192014-1407-208/seg_000016.fits,/Users/amorgan/qsoft/Software/Cell/CellDemo/20140119_output/day1/gel2/ZSeries-01192014-1407-208/back_000016.fits "
       ]
      },
      {
       "output_type": "stream",
       "stream": "stdout",
       "text": [
        "\n",
        "sex /Users/amorgan/qsoft/Software/Cell/CellDemo/20140119_output/day1/gel2/ZSeries-01192014-1407-208//000017.fits -c /Users/amorgan/qsoft/Software/Cell/sexconfig/cell.sex  -CATALOG_NAME /Users/amorgan/qsoft/Software/Cell/CellDemo/20140119_output/day1/gel2/ZSeries-01192014-1407-208/cat000017.txt -PARAMETERS_NAME  /Users/amorgan/qsoft/Software/Cell/sexconfig/cell.param  -FILTER_NAME /Users/amorgan/qsoft/Software/Cell/sexconfig/gauss_3.0_7x7.conv  -CHECKIMAGE_TYPE APERTURES,SEGMENTATION,BACKGROUND  -CHECKIMAGE_NAME /Users/amorgan/qsoft/Software/Cell/CellDemo/20140119_output/day1/gel2/ZSeries-01192014-1407-208/ap_000017.fits,/Users/amorgan/qsoft/Software/Cell/CellDemo/20140119_output/day1/gel2/ZSeries-01192014-1407-208/seg_000017.fits,/Users/amorgan/qsoft/Software/Cell/CellDemo/20140119_output/day1/gel2/ZSeries-01192014-1407-208/back_000017.fits "
       ]
      },
      {
       "output_type": "stream",
       "stream": "stdout",
       "text": [
        "\n",
        "sex /Users/amorgan/qsoft/Software/Cell/CellDemo/20140119_output/day1/gel2/ZSeries-01192014-1407-208//000018.fits -c /Users/amorgan/qsoft/Software/Cell/sexconfig/cell.sex  -CATALOG_NAME /Users/amorgan/qsoft/Software/Cell/CellDemo/20140119_output/day1/gel2/ZSeries-01192014-1407-208/cat000018.txt -PARAMETERS_NAME  /Users/amorgan/qsoft/Software/Cell/sexconfig/cell.param  -FILTER_NAME /Users/amorgan/qsoft/Software/Cell/sexconfig/gauss_3.0_7x7.conv  -CHECKIMAGE_TYPE APERTURES,SEGMENTATION,BACKGROUND  -CHECKIMAGE_NAME /Users/amorgan/qsoft/Software/Cell/CellDemo/20140119_output/day1/gel2/ZSeries-01192014-1407-208/ap_000018.fits,/Users/amorgan/qsoft/Software/Cell/CellDemo/20140119_output/day1/gel2/ZSeries-01192014-1407-208/seg_000018.fits,/Users/amorgan/qsoft/Software/Cell/CellDemo/20140119_output/day1/gel2/ZSeries-01192014-1407-208/back_000018.fits "
       ]
      },
      {
       "output_type": "stream",
       "stream": "stdout",
       "text": [
        "\n",
        "sex /Users/amorgan/qsoft/Software/Cell/CellDemo/20140119_output/day1/gel2/ZSeries-01192014-1407-208//000019.fits -c /Users/amorgan/qsoft/Software/Cell/sexconfig/cell.sex  -CATALOG_NAME /Users/amorgan/qsoft/Software/Cell/CellDemo/20140119_output/day1/gel2/ZSeries-01192014-1407-208/cat000019.txt -PARAMETERS_NAME  /Users/amorgan/qsoft/Software/Cell/sexconfig/cell.param  -FILTER_NAME /Users/amorgan/qsoft/Software/Cell/sexconfig/gauss_3.0_7x7.conv  -CHECKIMAGE_TYPE APERTURES,SEGMENTATION,BACKGROUND  -CHECKIMAGE_NAME /Users/amorgan/qsoft/Software/Cell/CellDemo/20140119_output/day1/gel2/ZSeries-01192014-1407-208/ap_000019.fits,/Users/amorgan/qsoft/Software/Cell/CellDemo/20140119_output/day1/gel2/ZSeries-01192014-1407-208/seg_000019.fits,/Users/amorgan/qsoft/Software/Cell/CellDemo/20140119_output/day1/gel2/ZSeries-01192014-1407-208/back_000019.fits "
       ]
      },
      {
       "output_type": "stream",
       "stream": "stdout",
       "text": [
        "\n",
        "sex /Users/amorgan/qsoft/Software/Cell/CellDemo/20140119_output/day1/gel2/ZSeries-01192014-1407-208//000020.fits -c /Users/amorgan/qsoft/Software/Cell/sexconfig/cell.sex  -CATALOG_NAME /Users/amorgan/qsoft/Software/Cell/CellDemo/20140119_output/day1/gel2/ZSeries-01192014-1407-208/cat000020.txt -PARAMETERS_NAME  /Users/amorgan/qsoft/Software/Cell/sexconfig/cell.param  -FILTER_NAME /Users/amorgan/qsoft/Software/Cell/sexconfig/gauss_3.0_7x7.conv  -CHECKIMAGE_TYPE APERTURES,SEGMENTATION,BACKGROUND  -CHECKIMAGE_NAME /Users/amorgan/qsoft/Software/Cell/CellDemo/20140119_output/day1/gel2/ZSeries-01192014-1407-208/ap_000020.fits,/Users/amorgan/qsoft/Software/Cell/CellDemo/20140119_output/day1/gel2/ZSeries-01192014-1407-208/seg_000020.fits,/Users/amorgan/qsoft/Software/Cell/CellDemo/20140119_output/day1/gel2/ZSeries-01192014-1407-208/back_000020.fits "
       ]
      },
      {
       "output_type": "stream",
       "stream": "stdout",
       "text": [
        "\n",
        "sex /Users/amorgan/qsoft/Software/Cell/CellDemo/20140119_output/day1/gel2/ZSeries-01192014-1407-208//000021.fits -c /Users/amorgan/qsoft/Software/Cell/sexconfig/cell.sex  -CATALOG_NAME /Users/amorgan/qsoft/Software/Cell/CellDemo/20140119_output/day1/gel2/ZSeries-01192014-1407-208/cat000021.txt -PARAMETERS_NAME  /Users/amorgan/qsoft/Software/Cell/sexconfig/cell.param  -FILTER_NAME /Users/amorgan/qsoft/Software/Cell/sexconfig/gauss_3.0_7x7.conv  -CHECKIMAGE_TYPE APERTURES,SEGMENTATION,BACKGROUND  -CHECKIMAGE_NAME /Users/amorgan/qsoft/Software/Cell/CellDemo/20140119_output/day1/gel2/ZSeries-01192014-1407-208/ap_000021.fits,/Users/amorgan/qsoft/Software/Cell/CellDemo/20140119_output/day1/gel2/ZSeries-01192014-1407-208/seg_000021.fits,/Users/amorgan/qsoft/Software/Cell/CellDemo/20140119_output/day1/gel2/ZSeries-01192014-1407-208/back_000021.fits "
       ]
      },
      {
       "output_type": "stream",
       "stream": "stdout",
       "text": [
        "\n",
        "sex /Users/amorgan/qsoft/Software/Cell/CellDemo/20140119_output/day1/gel2/ZSeries-01192014-1407-208//000022.fits -c /Users/amorgan/qsoft/Software/Cell/sexconfig/cell.sex  -CATALOG_NAME /Users/amorgan/qsoft/Software/Cell/CellDemo/20140119_output/day1/gel2/ZSeries-01192014-1407-208/cat000022.txt -PARAMETERS_NAME  /Users/amorgan/qsoft/Software/Cell/sexconfig/cell.param  -FILTER_NAME /Users/amorgan/qsoft/Software/Cell/sexconfig/gauss_3.0_7x7.conv  -CHECKIMAGE_TYPE APERTURES,SEGMENTATION,BACKGROUND  -CHECKIMAGE_NAME /Users/amorgan/qsoft/Software/Cell/CellDemo/20140119_output/day1/gel2/ZSeries-01192014-1407-208/ap_000022.fits,/Users/amorgan/qsoft/Software/Cell/CellDemo/20140119_output/day1/gel2/ZSeries-01192014-1407-208/seg_000022.fits,/Users/amorgan/qsoft/Software/Cell/CellDemo/20140119_output/day1/gel2/ZSeries-01192014-1407-208/back_000022.fits "
       ]
      },
      {
       "output_type": "stream",
       "stream": "stdout",
       "text": [
        "\n",
        "sex /Users/amorgan/qsoft/Software/Cell/CellDemo/20140119_output/day1/gel2/ZSeries-01192014-1407-208//000023.fits -c /Users/amorgan/qsoft/Software/Cell/sexconfig/cell.sex  -CATALOG_NAME /Users/amorgan/qsoft/Software/Cell/CellDemo/20140119_output/day1/gel2/ZSeries-01192014-1407-208/cat000023.txt -PARAMETERS_NAME  /Users/amorgan/qsoft/Software/Cell/sexconfig/cell.param  -FILTER_NAME /Users/amorgan/qsoft/Software/Cell/sexconfig/gauss_3.0_7x7.conv  -CHECKIMAGE_TYPE APERTURES,SEGMENTATION,BACKGROUND  -CHECKIMAGE_NAME /Users/amorgan/qsoft/Software/Cell/CellDemo/20140119_output/day1/gel2/ZSeries-01192014-1407-208/ap_000023.fits,/Users/amorgan/qsoft/Software/Cell/CellDemo/20140119_output/day1/gel2/ZSeries-01192014-1407-208/seg_000023.fits,/Users/amorgan/qsoft/Software/Cell/CellDemo/20140119_output/day1/gel2/ZSeries-01192014-1407-208/back_000023.fits "
       ]
      },
      {
       "output_type": "stream",
       "stream": "stdout",
       "text": [
        "\n",
        "sex /Users/amorgan/qsoft/Software/Cell/CellDemo/20140119_output/day1/gel2/ZSeries-01192014-1407-208//000024.fits -c /Users/amorgan/qsoft/Software/Cell/sexconfig/cell.sex  -CATALOG_NAME /Users/amorgan/qsoft/Software/Cell/CellDemo/20140119_output/day1/gel2/ZSeries-01192014-1407-208/cat000024.txt -PARAMETERS_NAME  /Users/amorgan/qsoft/Software/Cell/sexconfig/cell.param  -FILTER_NAME /Users/amorgan/qsoft/Software/Cell/sexconfig/gauss_3.0_7x7.conv  -CHECKIMAGE_TYPE APERTURES,SEGMENTATION,BACKGROUND  -CHECKIMAGE_NAME /Users/amorgan/qsoft/Software/Cell/CellDemo/20140119_output/day1/gel2/ZSeries-01192014-1407-208/ap_000024.fits,/Users/amorgan/qsoft/Software/Cell/CellDemo/20140119_output/day1/gel2/ZSeries-01192014-1407-208/seg_000024.fits,/Users/amorgan/qsoft/Software/Cell/CellDemo/20140119_output/day1/gel2/ZSeries-01192014-1407-208/back_000024.fits "
       ]
      },
      {
       "output_type": "stream",
       "stream": "stdout",
       "text": [
        "\n",
        "sex /Users/amorgan/qsoft/Software/Cell/CellDemo/20140119_output/day1/gel2/ZSeries-01192014-1407-208//000025.fits -c /Users/amorgan/qsoft/Software/Cell/sexconfig/cell.sex  -CATALOG_NAME /Users/amorgan/qsoft/Software/Cell/CellDemo/20140119_output/day1/gel2/ZSeries-01192014-1407-208/cat000025.txt -PARAMETERS_NAME  /Users/amorgan/qsoft/Software/Cell/sexconfig/cell.param  -FILTER_NAME /Users/amorgan/qsoft/Software/Cell/sexconfig/gauss_3.0_7x7.conv  -CHECKIMAGE_TYPE APERTURES,SEGMENTATION,BACKGROUND  -CHECKIMAGE_NAME /Users/amorgan/qsoft/Software/Cell/CellDemo/20140119_output/day1/gel2/ZSeries-01192014-1407-208/ap_000025.fits,/Users/amorgan/qsoft/Software/Cell/CellDemo/20140119_output/day1/gel2/ZSeries-01192014-1407-208/seg_000025.fits,/Users/amorgan/qsoft/Software/Cell/CellDemo/20140119_output/day1/gel2/ZSeries-01192014-1407-208/back_000025.fits "
       ]
      },
      {
       "output_type": "stream",
       "stream": "stdout",
       "text": [
        "\n",
        "sex /Users/amorgan/qsoft/Software/Cell/CellDemo/20140119_output/day1/gel2/ZSeries-01192014-1407-208//000026.fits -c /Users/amorgan/qsoft/Software/Cell/sexconfig/cell.sex  -CATALOG_NAME /Users/amorgan/qsoft/Software/Cell/CellDemo/20140119_output/day1/gel2/ZSeries-01192014-1407-208/cat000026.txt -PARAMETERS_NAME  /Users/amorgan/qsoft/Software/Cell/sexconfig/cell.param  -FILTER_NAME /Users/amorgan/qsoft/Software/Cell/sexconfig/gauss_3.0_7x7.conv  -CHECKIMAGE_TYPE APERTURES,SEGMENTATION,BACKGROUND  -CHECKIMAGE_NAME /Users/amorgan/qsoft/Software/Cell/CellDemo/20140119_output/day1/gel2/ZSeries-01192014-1407-208/ap_000026.fits,/Users/amorgan/qsoft/Software/Cell/CellDemo/20140119_output/day1/gel2/ZSeries-01192014-1407-208/seg_000026.fits,/Users/amorgan/qsoft/Software/Cell/CellDemo/20140119_output/day1/gel2/ZSeries-01192014-1407-208/back_000026.fits "
       ]
      },
      {
       "output_type": "stream",
       "stream": "stdout",
       "text": [
        "\n",
        "sex /Users/amorgan/qsoft/Software/Cell/CellDemo/20140119_output/day1/gel2/ZSeries-01192014-1407-208//000027.fits -c /Users/amorgan/qsoft/Software/Cell/sexconfig/cell.sex  -CATALOG_NAME /Users/amorgan/qsoft/Software/Cell/CellDemo/20140119_output/day1/gel2/ZSeries-01192014-1407-208/cat000027.txt -PARAMETERS_NAME  /Users/amorgan/qsoft/Software/Cell/sexconfig/cell.param  -FILTER_NAME /Users/amorgan/qsoft/Software/Cell/sexconfig/gauss_3.0_7x7.conv  -CHECKIMAGE_TYPE APERTURES,SEGMENTATION,BACKGROUND  -CHECKIMAGE_NAME /Users/amorgan/qsoft/Software/Cell/CellDemo/20140119_output/day1/gel2/ZSeries-01192014-1407-208/ap_000027.fits,/Users/amorgan/qsoft/Software/Cell/CellDemo/20140119_output/day1/gel2/ZSeries-01192014-1407-208/seg_000027.fits,/Users/amorgan/qsoft/Software/Cell/CellDemo/20140119_output/day1/gel2/ZSeries-01192014-1407-208/back_000027.fits "
       ]
      },
      {
       "output_type": "stream",
       "stream": "stdout",
       "text": [
        "\n",
        "sex /Users/amorgan/qsoft/Software/Cell/CellDemo/20140119_output/day1/gel2/ZSeries-01192014-1407-208//000028.fits -c /Users/amorgan/qsoft/Software/Cell/sexconfig/cell.sex  -CATALOG_NAME /Users/amorgan/qsoft/Software/Cell/CellDemo/20140119_output/day1/gel2/ZSeries-01192014-1407-208/cat000028.txt -PARAMETERS_NAME  /Users/amorgan/qsoft/Software/Cell/sexconfig/cell.param  -FILTER_NAME /Users/amorgan/qsoft/Software/Cell/sexconfig/gauss_3.0_7x7.conv  -CHECKIMAGE_TYPE APERTURES,SEGMENTATION,BACKGROUND  -CHECKIMAGE_NAME /Users/amorgan/qsoft/Software/Cell/CellDemo/20140119_output/day1/gel2/ZSeries-01192014-1407-208/ap_000028.fits,/Users/amorgan/qsoft/Software/Cell/CellDemo/20140119_output/day1/gel2/ZSeries-01192014-1407-208/seg_000028.fits,/Users/amorgan/qsoft/Software/Cell/CellDemo/20140119_output/day1/gel2/ZSeries-01192014-1407-208/back_000028.fits "
       ]
      },
      {
       "output_type": "stream",
       "stream": "stdout",
       "text": [
        "\n",
        "sex /Users/amorgan/qsoft/Software/Cell/CellDemo/20140119_output/day1/gel2/ZSeries-01192014-1407-208//000029.fits -c /Users/amorgan/qsoft/Software/Cell/sexconfig/cell.sex  -CATALOG_NAME /Users/amorgan/qsoft/Software/Cell/CellDemo/20140119_output/day1/gel2/ZSeries-01192014-1407-208/cat000029.txt -PARAMETERS_NAME  /Users/amorgan/qsoft/Software/Cell/sexconfig/cell.param  -FILTER_NAME /Users/amorgan/qsoft/Software/Cell/sexconfig/gauss_3.0_7x7.conv  -CHECKIMAGE_TYPE APERTURES,SEGMENTATION,BACKGROUND  -CHECKIMAGE_NAME /Users/amorgan/qsoft/Software/Cell/CellDemo/20140119_output/day1/gel2/ZSeries-01192014-1407-208/ap_000029.fits,/Users/amorgan/qsoft/Software/Cell/CellDemo/20140119_output/day1/gel2/ZSeries-01192014-1407-208/seg_000029.fits,/Users/amorgan/qsoft/Software/Cell/CellDemo/20140119_output/day1/gel2/ZSeries-01192014-1407-208/back_000029.fits "
       ]
      },
      {
       "output_type": "stream",
       "stream": "stdout",
       "text": [
        "\n",
        "sex /Users/amorgan/qsoft/Software/Cell/CellDemo/20140119_output/day1/gel2/ZSeries-01192014-1407-208//000030.fits -c /Users/amorgan/qsoft/Software/Cell/sexconfig/cell.sex  -CATALOG_NAME /Users/amorgan/qsoft/Software/Cell/CellDemo/20140119_output/day1/gel2/ZSeries-01192014-1407-208/cat000030.txt -PARAMETERS_NAME  /Users/amorgan/qsoft/Software/Cell/sexconfig/cell.param  -FILTER_NAME /Users/amorgan/qsoft/Software/Cell/sexconfig/gauss_3.0_7x7.conv  -CHECKIMAGE_TYPE APERTURES,SEGMENTATION,BACKGROUND  -CHECKIMAGE_NAME /Users/amorgan/qsoft/Software/Cell/CellDemo/20140119_output/day1/gel2/ZSeries-01192014-1407-208/ap_000030.fits,/Users/amorgan/qsoft/Software/Cell/CellDemo/20140119_output/day1/gel2/ZSeries-01192014-1407-208/seg_000030.fits,/Users/amorgan/qsoft/Software/Cell/CellDemo/20140119_output/day1/gel2/ZSeries-01192014-1407-208/back_000030.fits "
       ]
      },
      {
       "output_type": "stream",
       "stream": "stdout",
       "text": [
        "\n",
        "sex /Users/amorgan/qsoft/Software/Cell/CellDemo/20140119_output/day1/gel2/ZSeries-01192014-1407-208//000031.fits -c /Users/amorgan/qsoft/Software/Cell/sexconfig/cell.sex  -CATALOG_NAME /Users/amorgan/qsoft/Software/Cell/CellDemo/20140119_output/day1/gel2/ZSeries-01192014-1407-208/cat000031.txt -PARAMETERS_NAME  /Users/amorgan/qsoft/Software/Cell/sexconfig/cell.param  -FILTER_NAME /Users/amorgan/qsoft/Software/Cell/sexconfig/gauss_3.0_7x7.conv  -CHECKIMAGE_TYPE APERTURES,SEGMENTATION,BACKGROUND  -CHECKIMAGE_NAME /Users/amorgan/qsoft/Software/Cell/CellDemo/20140119_output/day1/gel2/ZSeries-01192014-1407-208/ap_000031.fits,/Users/amorgan/qsoft/Software/Cell/CellDemo/20140119_output/day1/gel2/ZSeries-01192014-1407-208/seg_000031.fits,/Users/amorgan/qsoft/Software/Cell/CellDemo/20140119_output/day1/gel2/ZSeries-01192014-1407-208/back_000031.fits "
       ]
      },
      {
       "output_type": "stream",
       "stream": "stdout",
       "text": [
        "\n",
        "sex /Users/amorgan/qsoft/Software/Cell/CellDemo/20140119_output/day1/gel2/ZSeries-01192014-1407-208//000032.fits -c /Users/amorgan/qsoft/Software/Cell/sexconfig/cell.sex  -CATALOG_NAME /Users/amorgan/qsoft/Software/Cell/CellDemo/20140119_output/day1/gel2/ZSeries-01192014-1407-208/cat000032.txt -PARAMETERS_NAME  /Users/amorgan/qsoft/Software/Cell/sexconfig/cell.param  -FILTER_NAME /Users/amorgan/qsoft/Software/Cell/sexconfig/gauss_3.0_7x7.conv  -CHECKIMAGE_TYPE APERTURES,SEGMENTATION,BACKGROUND  -CHECKIMAGE_NAME /Users/amorgan/qsoft/Software/Cell/CellDemo/20140119_output/day1/gel2/ZSeries-01192014-1407-208/ap_000032.fits,/Users/amorgan/qsoft/Software/Cell/CellDemo/20140119_output/day1/gel2/ZSeries-01192014-1407-208/seg_000032.fits,/Users/amorgan/qsoft/Software/Cell/CellDemo/20140119_output/day1/gel2/ZSeries-01192014-1407-208/back_000032.fits "
       ]
      },
      {
       "output_type": "stream",
       "stream": "stdout",
       "text": [
        "\n",
        "sex /Users/amorgan/qsoft/Software/Cell/CellDemo/20140119_output/day1/gel2/ZSeries-01192014-1407-208//000033.fits -c /Users/amorgan/qsoft/Software/Cell/sexconfig/cell.sex  -CATALOG_NAME /Users/amorgan/qsoft/Software/Cell/CellDemo/20140119_output/day1/gel2/ZSeries-01192014-1407-208/cat000033.txt -PARAMETERS_NAME  /Users/amorgan/qsoft/Software/Cell/sexconfig/cell.param  -FILTER_NAME /Users/amorgan/qsoft/Software/Cell/sexconfig/gauss_3.0_7x7.conv  -CHECKIMAGE_TYPE APERTURES,SEGMENTATION,BACKGROUND  -CHECKIMAGE_NAME /Users/amorgan/qsoft/Software/Cell/CellDemo/20140119_output/day1/gel2/ZSeries-01192014-1407-208/ap_000033.fits,/Users/amorgan/qsoft/Software/Cell/CellDemo/20140119_output/day1/gel2/ZSeries-01192014-1407-208/seg_000033.fits,/Users/amorgan/qsoft/Software/Cell/CellDemo/20140119_output/day1/gel2/ZSeries-01192014-1407-208/back_000033.fits "
       ]
      },
      {
       "output_type": "stream",
       "stream": "stdout",
       "text": [
        "\n",
        "sex /Users/amorgan/qsoft/Software/Cell/CellDemo/20140119_output/day1/gel2/ZSeries-01192014-1407-208//000034.fits -c /Users/amorgan/qsoft/Software/Cell/sexconfig/cell.sex  -CATALOG_NAME /Users/amorgan/qsoft/Software/Cell/CellDemo/20140119_output/day1/gel2/ZSeries-01192014-1407-208/cat000034.txt -PARAMETERS_NAME  /Users/amorgan/qsoft/Software/Cell/sexconfig/cell.param  -FILTER_NAME /Users/amorgan/qsoft/Software/Cell/sexconfig/gauss_3.0_7x7.conv  -CHECKIMAGE_TYPE APERTURES,SEGMENTATION,BACKGROUND  -CHECKIMAGE_NAME /Users/amorgan/qsoft/Software/Cell/CellDemo/20140119_output/day1/gel2/ZSeries-01192014-1407-208/ap_000034.fits,/Users/amorgan/qsoft/Software/Cell/CellDemo/20140119_output/day1/gel2/ZSeries-01192014-1407-208/seg_000034.fits,/Users/amorgan/qsoft/Software/Cell/CellDemo/20140119_output/day1/gel2/ZSeries-01192014-1407-208/back_000034.fits "
       ]
      },
      {
       "output_type": "stream",
       "stream": "stdout",
       "text": [
        "\n",
        "sex /Users/amorgan/qsoft/Software/Cell/CellDemo/20140119_output/day1/gel2/ZSeries-01192014-1407-208//000035.fits -c /Users/amorgan/qsoft/Software/Cell/sexconfig/cell.sex  -CATALOG_NAME /Users/amorgan/qsoft/Software/Cell/CellDemo/20140119_output/day1/gel2/ZSeries-01192014-1407-208/cat000035.txt -PARAMETERS_NAME  /Users/amorgan/qsoft/Software/Cell/sexconfig/cell.param  -FILTER_NAME /Users/amorgan/qsoft/Software/Cell/sexconfig/gauss_3.0_7x7.conv  -CHECKIMAGE_TYPE APERTURES,SEGMENTATION,BACKGROUND  -CHECKIMAGE_NAME /Users/amorgan/qsoft/Software/Cell/CellDemo/20140119_output/day1/gel2/ZSeries-01192014-1407-208/ap_000035.fits,/Users/amorgan/qsoft/Software/Cell/CellDemo/20140119_output/day1/gel2/ZSeries-01192014-1407-208/seg_000035.fits,/Users/amorgan/qsoft/Software/Cell/CellDemo/20140119_output/day1/gel2/ZSeries-01192014-1407-208/back_000035.fits "
       ]
      },
      {
       "output_type": "stream",
       "stream": "stdout",
       "text": [
        "\n",
        "sex /Users/amorgan/qsoft/Software/Cell/CellDemo/20140119_output/day1/gel2/ZSeries-01192014-1407-208//000036.fits -c /Users/amorgan/qsoft/Software/Cell/sexconfig/cell.sex  -CATALOG_NAME /Users/amorgan/qsoft/Software/Cell/CellDemo/20140119_output/day1/gel2/ZSeries-01192014-1407-208/cat000036.txt -PARAMETERS_NAME  /Users/amorgan/qsoft/Software/Cell/sexconfig/cell.param  -FILTER_NAME /Users/amorgan/qsoft/Software/Cell/sexconfig/gauss_3.0_7x7.conv  -CHECKIMAGE_TYPE APERTURES,SEGMENTATION,BACKGROUND  -CHECKIMAGE_NAME /Users/amorgan/qsoft/Software/Cell/CellDemo/20140119_output/day1/gel2/ZSeries-01192014-1407-208/ap_000036.fits,/Users/amorgan/qsoft/Software/Cell/CellDemo/20140119_output/day1/gel2/ZSeries-01192014-1407-208/seg_000036.fits,/Users/amorgan/qsoft/Software/Cell/CellDemo/20140119_output/day1/gel2/ZSeries-01192014-1407-208/back_000036.fits "
       ]
      },
      {
       "output_type": "stream",
       "stream": "stdout",
       "text": [
        "\n",
        "sex /Users/amorgan/qsoft/Software/Cell/CellDemo/20140119_output/day1/gel2/ZSeries-01192014-1407-208//000037.fits -c /Users/amorgan/qsoft/Software/Cell/sexconfig/cell.sex  -CATALOG_NAME /Users/amorgan/qsoft/Software/Cell/CellDemo/20140119_output/day1/gel2/ZSeries-01192014-1407-208/cat000037.txt -PARAMETERS_NAME  /Users/amorgan/qsoft/Software/Cell/sexconfig/cell.param  -FILTER_NAME /Users/amorgan/qsoft/Software/Cell/sexconfig/gauss_3.0_7x7.conv  -CHECKIMAGE_TYPE APERTURES,SEGMENTATION,BACKGROUND  -CHECKIMAGE_NAME /Users/amorgan/qsoft/Software/Cell/CellDemo/20140119_output/day1/gel2/ZSeries-01192014-1407-208/ap_000037.fits,/Users/amorgan/qsoft/Software/Cell/CellDemo/20140119_output/day1/gel2/ZSeries-01192014-1407-208/seg_000037.fits,/Users/amorgan/qsoft/Software/Cell/CellDemo/20140119_output/day1/gel2/ZSeries-01192014-1407-208/back_000037.fits "
       ]
      },
      {
       "output_type": "stream",
       "stream": "stdout",
       "text": [
        "\n",
        "sex /Users/amorgan/qsoft/Software/Cell/CellDemo/20140119_output/day1/gel2/ZSeries-01192014-1407-208//000038.fits -c /Users/amorgan/qsoft/Software/Cell/sexconfig/cell.sex  -CATALOG_NAME /Users/amorgan/qsoft/Software/Cell/CellDemo/20140119_output/day1/gel2/ZSeries-01192014-1407-208/cat000038.txt -PARAMETERS_NAME  /Users/amorgan/qsoft/Software/Cell/sexconfig/cell.param  -FILTER_NAME /Users/amorgan/qsoft/Software/Cell/sexconfig/gauss_3.0_7x7.conv  -CHECKIMAGE_TYPE APERTURES,SEGMENTATION,BACKGROUND  -CHECKIMAGE_NAME /Users/amorgan/qsoft/Software/Cell/CellDemo/20140119_output/day1/gel2/ZSeries-01192014-1407-208/ap_000038.fits,/Users/amorgan/qsoft/Software/Cell/CellDemo/20140119_output/day1/gel2/ZSeries-01192014-1407-208/seg_000038.fits,/Users/amorgan/qsoft/Software/Cell/CellDemo/20140119_output/day1/gel2/ZSeries-01192014-1407-208/back_000038.fits "
       ]
      },
      {
       "output_type": "stream",
       "stream": "stdout",
       "text": [
        "\n",
        "sex /Users/amorgan/qsoft/Software/Cell/CellDemo/20140119_output/day1/gel2/ZSeries-01192014-1407-208//000039.fits -c /Users/amorgan/qsoft/Software/Cell/sexconfig/cell.sex  -CATALOG_NAME /Users/amorgan/qsoft/Software/Cell/CellDemo/20140119_output/day1/gel2/ZSeries-01192014-1407-208/cat000039.txt -PARAMETERS_NAME  /Users/amorgan/qsoft/Software/Cell/sexconfig/cell.param  -FILTER_NAME /Users/amorgan/qsoft/Software/Cell/sexconfig/gauss_3.0_7x7.conv  -CHECKIMAGE_TYPE APERTURES,SEGMENTATION,BACKGROUND  -CHECKIMAGE_NAME /Users/amorgan/qsoft/Software/Cell/CellDemo/20140119_output/day1/gel2/ZSeries-01192014-1407-208/ap_000039.fits,/Users/amorgan/qsoft/Software/Cell/CellDemo/20140119_output/day1/gel2/ZSeries-01192014-1407-208/seg_000039.fits,/Users/amorgan/qsoft/Software/Cell/CellDemo/20140119_output/day1/gel2/ZSeries-01192014-1407-208/back_000039.fits "
       ]
      },
      {
       "output_type": "stream",
       "stream": "stdout",
       "text": [
        "\n",
        "sex /Users/amorgan/qsoft/Software/Cell/CellDemo/20140119_output/day1/gel2/ZSeries-01192014-1407-208//000040.fits -c /Users/amorgan/qsoft/Software/Cell/sexconfig/cell.sex  -CATALOG_NAME /Users/amorgan/qsoft/Software/Cell/CellDemo/20140119_output/day1/gel2/ZSeries-01192014-1407-208/cat000040.txt -PARAMETERS_NAME  /Users/amorgan/qsoft/Software/Cell/sexconfig/cell.param  -FILTER_NAME /Users/amorgan/qsoft/Software/Cell/sexconfig/gauss_3.0_7x7.conv  -CHECKIMAGE_TYPE APERTURES,SEGMENTATION,BACKGROUND  -CHECKIMAGE_NAME /Users/amorgan/qsoft/Software/Cell/CellDemo/20140119_output/day1/gel2/ZSeries-01192014-1407-208/ap_000040.fits,/Users/amorgan/qsoft/Software/Cell/CellDemo/20140119_output/day1/gel2/ZSeries-01192014-1407-208/seg_000040.fits,/Users/amorgan/qsoft/Software/Cell/CellDemo/20140119_output/day1/gel2/ZSeries-01192014-1407-208/back_000040.fits "
       ]
      },
      {
       "output_type": "stream",
       "stream": "stdout",
       "text": [
        "\n",
        "sex /Users/amorgan/qsoft/Software/Cell/CellDemo/20140119_output/day1/gel2/ZSeries-01192014-1407-208//000041.fits -c /Users/amorgan/qsoft/Software/Cell/sexconfig/cell.sex  -CATALOG_NAME /Users/amorgan/qsoft/Software/Cell/CellDemo/20140119_output/day1/gel2/ZSeries-01192014-1407-208/cat000041.txt -PARAMETERS_NAME  /Users/amorgan/qsoft/Software/Cell/sexconfig/cell.param  -FILTER_NAME /Users/amorgan/qsoft/Software/Cell/sexconfig/gauss_3.0_7x7.conv  -CHECKIMAGE_TYPE APERTURES,SEGMENTATION,BACKGROUND  -CHECKIMAGE_NAME /Users/amorgan/qsoft/Software/Cell/CellDemo/20140119_output/day1/gel2/ZSeries-01192014-1407-208/ap_000041.fits,/Users/amorgan/qsoft/Software/Cell/CellDemo/20140119_output/day1/gel2/ZSeries-01192014-1407-208/seg_000041.fits,/Users/amorgan/qsoft/Software/Cell/CellDemo/20140119_output/day1/gel2/ZSeries-01192014-1407-208/back_000041.fits "
       ]
      },
      {
       "output_type": "stream",
       "stream": "stdout",
       "text": [
        "\n",
        "sex /Users/amorgan/qsoft/Software/Cell/CellDemo/20140119_output/day1/gel2/ZSeries-01192014-1407-208//000042.fits -c /Users/amorgan/qsoft/Software/Cell/sexconfig/cell.sex  -CATALOG_NAME /Users/amorgan/qsoft/Software/Cell/CellDemo/20140119_output/day1/gel2/ZSeries-01192014-1407-208/cat000042.txt -PARAMETERS_NAME  /Users/amorgan/qsoft/Software/Cell/sexconfig/cell.param  -FILTER_NAME /Users/amorgan/qsoft/Software/Cell/sexconfig/gauss_3.0_7x7.conv  -CHECKIMAGE_TYPE APERTURES,SEGMENTATION,BACKGROUND  -CHECKIMAGE_NAME /Users/amorgan/qsoft/Software/Cell/CellDemo/20140119_output/day1/gel2/ZSeries-01192014-1407-208/ap_000042.fits,/Users/amorgan/qsoft/Software/Cell/CellDemo/20140119_output/day1/gel2/ZSeries-01192014-1407-208/seg_000042.fits,/Users/amorgan/qsoft/Software/Cell/CellDemo/20140119_output/day1/gel2/ZSeries-01192014-1407-208/back_000042.fits "
       ]
      },
      {
       "output_type": "stream",
       "stream": "stdout",
       "text": [
        "\n",
        "sex /Users/amorgan/qsoft/Software/Cell/CellDemo/20140119_output/day1/gel2/ZSeries-01192014-1407-208//000043.fits -c /Users/amorgan/qsoft/Software/Cell/sexconfig/cell.sex  -CATALOG_NAME /Users/amorgan/qsoft/Software/Cell/CellDemo/20140119_output/day1/gel2/ZSeries-01192014-1407-208/cat000043.txt -PARAMETERS_NAME  /Users/amorgan/qsoft/Software/Cell/sexconfig/cell.param  -FILTER_NAME /Users/amorgan/qsoft/Software/Cell/sexconfig/gauss_3.0_7x7.conv  -CHECKIMAGE_TYPE APERTURES,SEGMENTATION,BACKGROUND  -CHECKIMAGE_NAME /Users/amorgan/qsoft/Software/Cell/CellDemo/20140119_output/day1/gel2/ZSeries-01192014-1407-208/ap_000043.fits,/Users/amorgan/qsoft/Software/Cell/CellDemo/20140119_output/day1/gel2/ZSeries-01192014-1407-208/seg_000043.fits,/Users/amorgan/qsoft/Software/Cell/CellDemo/20140119_output/day1/gel2/ZSeries-01192014-1407-208/back_000043.fits "
       ]
      },
      {
       "output_type": "stream",
       "stream": "stdout",
       "text": [
        "\n",
        "sex /Users/amorgan/qsoft/Software/Cell/CellDemo/20140119_output/day1/gel2/ZSeries-01192014-1407-208//000044.fits -c /Users/amorgan/qsoft/Software/Cell/sexconfig/cell.sex  -CATALOG_NAME /Users/amorgan/qsoft/Software/Cell/CellDemo/20140119_output/day1/gel2/ZSeries-01192014-1407-208/cat000044.txt -PARAMETERS_NAME  /Users/amorgan/qsoft/Software/Cell/sexconfig/cell.param  -FILTER_NAME /Users/amorgan/qsoft/Software/Cell/sexconfig/gauss_3.0_7x7.conv  -CHECKIMAGE_TYPE APERTURES,SEGMENTATION,BACKGROUND  -CHECKIMAGE_NAME /Users/amorgan/qsoft/Software/Cell/CellDemo/20140119_output/day1/gel2/ZSeries-01192014-1407-208/ap_000044.fits,/Users/amorgan/qsoft/Software/Cell/CellDemo/20140119_output/day1/gel2/ZSeries-01192014-1407-208/seg_000044.fits,/Users/amorgan/qsoft/Software/Cell/CellDemo/20140119_output/day1/gel2/ZSeries-01192014-1407-208/back_000044.fits "
       ]
      },
      {
       "output_type": "stream",
       "stream": "stdout",
       "text": [
        "\n",
        "sex /Users/amorgan/qsoft/Software/Cell/CellDemo/20140119_output/day1/gel2/ZSeries-01192014-1407-208//000045.fits -c /Users/amorgan/qsoft/Software/Cell/sexconfig/cell.sex  -CATALOG_NAME /Users/amorgan/qsoft/Software/Cell/CellDemo/20140119_output/day1/gel2/ZSeries-01192014-1407-208/cat000045.txt -PARAMETERS_NAME  /Users/amorgan/qsoft/Software/Cell/sexconfig/cell.param  -FILTER_NAME /Users/amorgan/qsoft/Software/Cell/sexconfig/gauss_3.0_7x7.conv  -CHECKIMAGE_TYPE APERTURES,SEGMENTATION,BACKGROUND  -CHECKIMAGE_NAME /Users/amorgan/qsoft/Software/Cell/CellDemo/20140119_output/day1/gel2/ZSeries-01192014-1407-208/ap_000045.fits,/Users/amorgan/qsoft/Software/Cell/CellDemo/20140119_output/day1/gel2/ZSeries-01192014-1407-208/seg_000045.fits,/Users/amorgan/qsoft/Software/Cell/CellDemo/20140119_output/day1/gel2/ZSeries-01192014-1407-208/back_000045.fits "
       ]
      },
      {
       "output_type": "stream",
       "stream": "stdout",
       "text": [
        "\n",
        "sex /Users/amorgan/qsoft/Software/Cell/CellDemo/20140119_output/day1/gel2/ZSeries-01192014-1407-208//000046.fits -c /Users/amorgan/qsoft/Software/Cell/sexconfig/cell.sex  -CATALOG_NAME /Users/amorgan/qsoft/Software/Cell/CellDemo/20140119_output/day1/gel2/ZSeries-01192014-1407-208/cat000046.txt -PARAMETERS_NAME  /Users/amorgan/qsoft/Software/Cell/sexconfig/cell.param  -FILTER_NAME /Users/amorgan/qsoft/Software/Cell/sexconfig/gauss_3.0_7x7.conv  -CHECKIMAGE_TYPE APERTURES,SEGMENTATION,BACKGROUND  -CHECKIMAGE_NAME /Users/amorgan/qsoft/Software/Cell/CellDemo/20140119_output/day1/gel2/ZSeries-01192014-1407-208/ap_000046.fits,/Users/amorgan/qsoft/Software/Cell/CellDemo/20140119_output/day1/gel2/ZSeries-01192014-1407-208/seg_000046.fits,/Users/amorgan/qsoft/Software/Cell/CellDemo/20140119_output/day1/gel2/ZSeries-01192014-1407-208/back_000046.fits "
       ]
      },
      {
       "output_type": "stream",
       "stream": "stdout",
       "text": [
        "\n",
        "sex /Users/amorgan/qsoft/Software/Cell/CellDemo/20140119_output/day1/gel2/ZSeries-01192014-1407-208//000047.fits -c /Users/amorgan/qsoft/Software/Cell/sexconfig/cell.sex  -CATALOG_NAME /Users/amorgan/qsoft/Software/Cell/CellDemo/20140119_output/day1/gel2/ZSeries-01192014-1407-208/cat000047.txt -PARAMETERS_NAME  /Users/amorgan/qsoft/Software/Cell/sexconfig/cell.param  -FILTER_NAME /Users/amorgan/qsoft/Software/Cell/sexconfig/gauss_3.0_7x7.conv  -CHECKIMAGE_TYPE APERTURES,SEGMENTATION,BACKGROUND  -CHECKIMAGE_NAME /Users/amorgan/qsoft/Software/Cell/CellDemo/20140119_output/day1/gel2/ZSeries-01192014-1407-208/ap_000047.fits,/Users/amorgan/qsoft/Software/Cell/CellDemo/20140119_output/day1/gel2/ZSeries-01192014-1407-208/seg_000047.fits,/Users/amorgan/qsoft/Software/Cell/CellDemo/20140119_output/day1/gel2/ZSeries-01192014-1407-208/back_000047.fits "
       ]
      },
      {
       "output_type": "stream",
       "stream": "stdout",
       "text": [
        "\n",
        "sex /Users/amorgan/qsoft/Software/Cell/CellDemo/20140119_output/day1/gel2/ZSeries-01192014-1407-208//000048.fits -c /Users/amorgan/qsoft/Software/Cell/sexconfig/cell.sex  -CATALOG_NAME /Users/amorgan/qsoft/Software/Cell/CellDemo/20140119_output/day1/gel2/ZSeries-01192014-1407-208/cat000048.txt -PARAMETERS_NAME  /Users/amorgan/qsoft/Software/Cell/sexconfig/cell.param  -FILTER_NAME /Users/amorgan/qsoft/Software/Cell/sexconfig/gauss_3.0_7x7.conv  -CHECKIMAGE_TYPE APERTURES,SEGMENTATION,BACKGROUND  -CHECKIMAGE_NAME /Users/amorgan/qsoft/Software/Cell/CellDemo/20140119_output/day1/gel2/ZSeries-01192014-1407-208/ap_000048.fits,/Users/amorgan/qsoft/Software/Cell/CellDemo/20140119_output/day1/gel2/ZSeries-01192014-1407-208/seg_000048.fits,/Users/amorgan/qsoft/Software/Cell/CellDemo/20140119_output/day1/gel2/ZSeries-01192014-1407-208/back_000048.fits "
       ]
      },
      {
       "output_type": "stream",
       "stream": "stdout",
       "text": [
        "\n",
        "sex /Users/amorgan/qsoft/Software/Cell/CellDemo/20140119_output/day1/gel2/ZSeries-01192014-1407-208//000049.fits -c /Users/amorgan/qsoft/Software/Cell/sexconfig/cell.sex  -CATALOG_NAME /Users/amorgan/qsoft/Software/Cell/CellDemo/20140119_output/day1/gel2/ZSeries-01192014-1407-208/cat000049.txt -PARAMETERS_NAME  /Users/amorgan/qsoft/Software/Cell/sexconfig/cell.param  -FILTER_NAME /Users/amorgan/qsoft/Software/Cell/sexconfig/gauss_3.0_7x7.conv  -CHECKIMAGE_TYPE APERTURES,SEGMENTATION,BACKGROUND  -CHECKIMAGE_NAME /Users/amorgan/qsoft/Software/Cell/CellDemo/20140119_output/day1/gel2/ZSeries-01192014-1407-208/ap_000049.fits,/Users/amorgan/qsoft/Software/Cell/CellDemo/20140119_output/day1/gel2/ZSeries-01192014-1407-208/seg_000049.fits,/Users/amorgan/qsoft/Software/Cell/CellDemo/20140119_output/day1/gel2/ZSeries-01192014-1407-208/back_000049.fits "
       ]
      },
      {
       "output_type": "stream",
       "stream": "stdout",
       "text": [
        "\n",
        "sex /Users/amorgan/qsoft/Software/Cell/CellDemo/20140119_output/day1/gel2/ZSeries-01192014-1407-208//000050.fits -c /Users/amorgan/qsoft/Software/Cell/sexconfig/cell.sex  -CATALOG_NAME /Users/amorgan/qsoft/Software/Cell/CellDemo/20140119_output/day1/gel2/ZSeries-01192014-1407-208/cat000050.txt -PARAMETERS_NAME  /Users/amorgan/qsoft/Software/Cell/sexconfig/cell.param  -FILTER_NAME /Users/amorgan/qsoft/Software/Cell/sexconfig/gauss_3.0_7x7.conv  -CHECKIMAGE_TYPE APERTURES,SEGMENTATION,BACKGROUND  -CHECKIMAGE_NAME /Users/amorgan/qsoft/Software/Cell/CellDemo/20140119_output/day1/gel2/ZSeries-01192014-1407-208/ap_000050.fits,/Users/amorgan/qsoft/Software/Cell/CellDemo/20140119_output/day1/gel2/ZSeries-01192014-1407-208/seg_000050.fits,/Users/amorgan/qsoft/Software/Cell/CellDemo/20140119_output/day1/gel2/ZSeries-01192014-1407-208/back_000050.fits "
       ]
      },
      {
       "output_type": "stream",
       "stream": "stdout",
       "text": [
        "\n",
        "sex /Users/amorgan/qsoft/Software/Cell/CellDemo/20140119_output/day1/gel2/ZSeries-01192014-1407-208//000051.fits -c /Users/amorgan/qsoft/Software/Cell/sexconfig/cell.sex  -CATALOG_NAME /Users/amorgan/qsoft/Software/Cell/CellDemo/20140119_output/day1/gel2/ZSeries-01192014-1407-208/cat000051.txt -PARAMETERS_NAME  /Users/amorgan/qsoft/Software/Cell/sexconfig/cell.param  -FILTER_NAME /Users/amorgan/qsoft/Software/Cell/sexconfig/gauss_3.0_7x7.conv  -CHECKIMAGE_TYPE APERTURES,SEGMENTATION,BACKGROUND  -CHECKIMAGE_NAME /Users/amorgan/qsoft/Software/Cell/CellDemo/20140119_output/day1/gel2/ZSeries-01192014-1407-208/ap_000051.fits,/Users/amorgan/qsoft/Software/Cell/CellDemo/20140119_output/day1/gel2/ZSeries-01192014-1407-208/seg_000051.fits,/Users/amorgan/qsoft/Software/Cell/CellDemo/20140119_output/day1/gel2/ZSeries-01192014-1407-208/back_000051.fits "
       ]
      },
      {
       "output_type": "stream",
       "stream": "stdout",
       "text": [
        "\n",
        "sex /Users/amorgan/qsoft/Software/Cell/CellDemo/20140119_output/day1/gel2/ZSeries-01192014-1407-208//000052.fits -c /Users/amorgan/qsoft/Software/Cell/sexconfig/cell.sex  -CATALOG_NAME /Users/amorgan/qsoft/Software/Cell/CellDemo/20140119_output/day1/gel2/ZSeries-01192014-1407-208/cat000052.txt -PARAMETERS_NAME  /Users/amorgan/qsoft/Software/Cell/sexconfig/cell.param  -FILTER_NAME /Users/amorgan/qsoft/Software/Cell/sexconfig/gauss_3.0_7x7.conv  -CHECKIMAGE_TYPE APERTURES,SEGMENTATION,BACKGROUND  -CHECKIMAGE_NAME /Users/amorgan/qsoft/Software/Cell/CellDemo/20140119_output/day1/gel2/ZSeries-01192014-1407-208/ap_000052.fits,/Users/amorgan/qsoft/Software/Cell/CellDemo/20140119_output/day1/gel2/ZSeries-01192014-1407-208/seg_000052.fits,/Users/amorgan/qsoft/Software/Cell/CellDemo/20140119_output/day1/gel2/ZSeries-01192014-1407-208/back_000052.fits "
       ]
      },
      {
       "output_type": "stream",
       "stream": "stdout",
       "text": [
        "\n",
        "sex /Users/amorgan/qsoft/Software/Cell/CellDemo/20140119_output/day1/gel2/ZSeries-01192014-1407-208//000053.fits -c /Users/amorgan/qsoft/Software/Cell/sexconfig/cell.sex  -CATALOG_NAME /Users/amorgan/qsoft/Software/Cell/CellDemo/20140119_output/day1/gel2/ZSeries-01192014-1407-208/cat000053.txt -PARAMETERS_NAME  /Users/amorgan/qsoft/Software/Cell/sexconfig/cell.param  -FILTER_NAME /Users/amorgan/qsoft/Software/Cell/sexconfig/gauss_3.0_7x7.conv  -CHECKIMAGE_TYPE APERTURES,SEGMENTATION,BACKGROUND  -CHECKIMAGE_NAME /Users/amorgan/qsoft/Software/Cell/CellDemo/20140119_output/day1/gel2/ZSeries-01192014-1407-208/ap_000053.fits,/Users/amorgan/qsoft/Software/Cell/CellDemo/20140119_output/day1/gel2/ZSeries-01192014-1407-208/seg_000053.fits,/Users/amorgan/qsoft/Software/Cell/CellDemo/20140119_output/day1/gel2/ZSeries-01192014-1407-208/back_000053.fits "
       ]
      },
      {
       "output_type": "stream",
       "stream": "stdout",
       "text": [
        "\n",
        "sex /Users/amorgan/qsoft/Software/Cell/CellDemo/20140119_output/day1/gel2/ZSeries-01192014-1407-208//000054.fits -c /Users/amorgan/qsoft/Software/Cell/sexconfig/cell.sex  -CATALOG_NAME /Users/amorgan/qsoft/Software/Cell/CellDemo/20140119_output/day1/gel2/ZSeries-01192014-1407-208/cat000054.txt -PARAMETERS_NAME  /Users/amorgan/qsoft/Software/Cell/sexconfig/cell.param  -FILTER_NAME /Users/amorgan/qsoft/Software/Cell/sexconfig/gauss_3.0_7x7.conv  -CHECKIMAGE_TYPE APERTURES,SEGMENTATION,BACKGROUND  -CHECKIMAGE_NAME /Users/amorgan/qsoft/Software/Cell/CellDemo/20140119_output/day1/gel2/ZSeries-01192014-1407-208/ap_000054.fits,/Users/amorgan/qsoft/Software/Cell/CellDemo/20140119_output/day1/gel2/ZSeries-01192014-1407-208/seg_000054.fits,/Users/amorgan/qsoft/Software/Cell/CellDemo/20140119_output/day1/gel2/ZSeries-01192014-1407-208/back_000054.fits "
       ]
      },
      {
       "output_type": "stream",
       "stream": "stdout",
       "text": [
        "\n",
        "sex /Users/amorgan/qsoft/Software/Cell/CellDemo/20140119_output/day1/gel2/ZSeries-01192014-1407-208//000055.fits -c /Users/amorgan/qsoft/Software/Cell/sexconfig/cell.sex  -CATALOG_NAME /Users/amorgan/qsoft/Software/Cell/CellDemo/20140119_output/day1/gel2/ZSeries-01192014-1407-208/cat000055.txt -PARAMETERS_NAME  /Users/amorgan/qsoft/Software/Cell/sexconfig/cell.param  -FILTER_NAME /Users/amorgan/qsoft/Software/Cell/sexconfig/gauss_3.0_7x7.conv  -CHECKIMAGE_TYPE APERTURES,SEGMENTATION,BACKGROUND  -CHECKIMAGE_NAME /Users/amorgan/qsoft/Software/Cell/CellDemo/20140119_output/day1/gel2/ZSeries-01192014-1407-208/ap_000055.fits,/Users/amorgan/qsoft/Software/Cell/CellDemo/20140119_output/day1/gel2/ZSeries-01192014-1407-208/seg_000055.fits,/Users/amorgan/qsoft/Software/Cell/CellDemo/20140119_output/day1/gel2/ZSeries-01192014-1407-208/back_000055.fits "
       ]
      },
      {
       "output_type": "stream",
       "stream": "stdout",
       "text": [
        "\n",
        "sex /Users/amorgan/qsoft/Software/Cell/CellDemo/20140119_output/day1/gel2/ZSeries-01192014-1407-208//000056.fits -c /Users/amorgan/qsoft/Software/Cell/sexconfig/cell.sex  -CATALOG_NAME /Users/amorgan/qsoft/Software/Cell/CellDemo/20140119_output/day1/gel2/ZSeries-01192014-1407-208/cat000056.txt -PARAMETERS_NAME  /Users/amorgan/qsoft/Software/Cell/sexconfig/cell.param  -FILTER_NAME /Users/amorgan/qsoft/Software/Cell/sexconfig/gauss_3.0_7x7.conv  -CHECKIMAGE_TYPE APERTURES,SEGMENTATION,BACKGROUND  -CHECKIMAGE_NAME /Users/amorgan/qsoft/Software/Cell/CellDemo/20140119_output/day1/gel2/ZSeries-01192014-1407-208/ap_000056.fits,/Users/amorgan/qsoft/Software/Cell/CellDemo/20140119_output/day1/gel2/ZSeries-01192014-1407-208/seg_000056.fits,/Users/amorgan/qsoft/Software/Cell/CellDemo/20140119_output/day1/gel2/ZSeries-01192014-1407-208/back_000056.fits "
       ]
      },
      {
       "output_type": "stream",
       "stream": "stdout",
       "text": [
        "\n",
        "sex /Users/amorgan/qsoft/Software/Cell/CellDemo/20140119_output/day1/gel2/ZSeries-01192014-1407-208//000057.fits -c /Users/amorgan/qsoft/Software/Cell/sexconfig/cell.sex  -CATALOG_NAME /Users/amorgan/qsoft/Software/Cell/CellDemo/20140119_output/day1/gel2/ZSeries-01192014-1407-208/cat000057.txt -PARAMETERS_NAME  /Users/amorgan/qsoft/Software/Cell/sexconfig/cell.param  -FILTER_NAME /Users/amorgan/qsoft/Software/Cell/sexconfig/gauss_3.0_7x7.conv  -CHECKIMAGE_TYPE APERTURES,SEGMENTATION,BACKGROUND  -CHECKIMAGE_NAME /Users/amorgan/qsoft/Software/Cell/CellDemo/20140119_output/day1/gel2/ZSeries-01192014-1407-208/ap_000057.fits,/Users/amorgan/qsoft/Software/Cell/CellDemo/20140119_output/day1/gel2/ZSeries-01192014-1407-208/seg_000057.fits,/Users/amorgan/qsoft/Software/Cell/CellDemo/20140119_output/day1/gel2/ZSeries-01192014-1407-208/back_000057.fits "
       ]
      },
      {
       "output_type": "stream",
       "stream": "stdout",
       "text": [
        "\n",
        "sex /Users/amorgan/qsoft/Software/Cell/CellDemo/20140119_output/day1/gel2/ZSeries-01192014-1407-208//000058.fits -c /Users/amorgan/qsoft/Software/Cell/sexconfig/cell.sex  -CATALOG_NAME /Users/amorgan/qsoft/Software/Cell/CellDemo/20140119_output/day1/gel2/ZSeries-01192014-1407-208/cat000058.txt -PARAMETERS_NAME  /Users/amorgan/qsoft/Software/Cell/sexconfig/cell.param  -FILTER_NAME /Users/amorgan/qsoft/Software/Cell/sexconfig/gauss_3.0_7x7.conv  -CHECKIMAGE_TYPE APERTURES,SEGMENTATION,BACKGROUND  -CHECKIMAGE_NAME /Users/amorgan/qsoft/Software/Cell/CellDemo/20140119_output/day1/gel2/ZSeries-01192014-1407-208/ap_000058.fits,/Users/amorgan/qsoft/Software/Cell/CellDemo/20140119_output/day1/gel2/ZSeries-01192014-1407-208/seg_000058.fits,/Users/amorgan/qsoft/Software/Cell/CellDemo/20140119_output/day1/gel2/ZSeries-01192014-1407-208/back_000058.fits "
       ]
      },
      {
       "output_type": "stream",
       "stream": "stdout",
       "text": [
        "\n",
        "sex /Users/amorgan/qsoft/Software/Cell/CellDemo/20140119_output/day1/gel2/ZSeries-01192014-1407-208//000059.fits -c /Users/amorgan/qsoft/Software/Cell/sexconfig/cell.sex  -CATALOG_NAME /Users/amorgan/qsoft/Software/Cell/CellDemo/20140119_output/day1/gel2/ZSeries-01192014-1407-208/cat000059.txt -PARAMETERS_NAME  /Users/amorgan/qsoft/Software/Cell/sexconfig/cell.param  -FILTER_NAME /Users/amorgan/qsoft/Software/Cell/sexconfig/gauss_3.0_7x7.conv  -CHECKIMAGE_TYPE APERTURES,SEGMENTATION,BACKGROUND  -CHECKIMAGE_NAME /Users/amorgan/qsoft/Software/Cell/CellDemo/20140119_output/day1/gel2/ZSeries-01192014-1407-208/ap_000059.fits,/Users/amorgan/qsoft/Software/Cell/CellDemo/20140119_output/day1/gel2/ZSeries-01192014-1407-208/seg_000059.fits,/Users/amorgan/qsoft/Software/Cell/CellDemo/20140119_output/day1/gel2/ZSeries-01192014-1407-208/back_000059.fits "
       ]
      },
      {
       "output_type": "stream",
       "stream": "stdout",
       "text": [
        "\n",
        "sex /Users/amorgan/qsoft/Software/Cell/CellDemo/20140119_output/day1/gel2/ZSeries-01192014-1407-208//000060.fits -c /Users/amorgan/qsoft/Software/Cell/sexconfig/cell.sex  -CATALOG_NAME /Users/amorgan/qsoft/Software/Cell/CellDemo/20140119_output/day1/gel2/ZSeries-01192014-1407-208/cat000060.txt -PARAMETERS_NAME  /Users/amorgan/qsoft/Software/Cell/sexconfig/cell.param  -FILTER_NAME /Users/amorgan/qsoft/Software/Cell/sexconfig/gauss_3.0_7x7.conv  -CHECKIMAGE_TYPE APERTURES,SEGMENTATION,BACKGROUND  -CHECKIMAGE_NAME /Users/amorgan/qsoft/Software/Cell/CellDemo/20140119_output/day1/gel2/ZSeries-01192014-1407-208/ap_000060.fits,/Users/amorgan/qsoft/Software/Cell/CellDemo/20140119_output/day1/gel2/ZSeries-01192014-1407-208/seg_000060.fits,/Users/amorgan/qsoft/Software/Cell/CellDemo/20140119_output/day1/gel2/ZSeries-01192014-1407-208/back_000060.fits "
       ]
      },
      {
       "output_type": "stream",
       "stream": "stdout",
       "text": [
        "\n",
        "sex /Users/amorgan/qsoft/Software/Cell/CellDemo/20140119_output/day1/gel2/ZSeries-01192014-1407-208//000061.fits -c /Users/amorgan/qsoft/Software/Cell/sexconfig/cell.sex  -CATALOG_NAME /Users/amorgan/qsoft/Software/Cell/CellDemo/20140119_output/day1/gel2/ZSeries-01192014-1407-208/cat000061.txt -PARAMETERS_NAME  /Users/amorgan/qsoft/Software/Cell/sexconfig/cell.param  -FILTER_NAME /Users/amorgan/qsoft/Software/Cell/sexconfig/gauss_3.0_7x7.conv  -CHECKIMAGE_TYPE APERTURES,SEGMENTATION,BACKGROUND  -CHECKIMAGE_NAME /Users/amorgan/qsoft/Software/Cell/CellDemo/20140119_output/day1/gel2/ZSeries-01192014-1407-208/ap_000061.fits,/Users/amorgan/qsoft/Software/Cell/CellDemo/20140119_output/day1/gel2/ZSeries-01192014-1407-208/seg_000061.fits,/Users/amorgan/qsoft/Software/Cell/CellDemo/20140119_output/day1/gel2/ZSeries-01192014-1407-208/back_000061.fits "
       ]
      },
      {
       "output_type": "stream",
       "stream": "stdout",
       "text": [
        "\n",
        "sex /Users/amorgan/qsoft/Software/Cell/CellDemo/20140119_output/day1/gel2/ZSeries-01192014-1407-208//000062.fits -c /Users/amorgan/qsoft/Software/Cell/sexconfig/cell.sex  -CATALOG_NAME /Users/amorgan/qsoft/Software/Cell/CellDemo/20140119_output/day1/gel2/ZSeries-01192014-1407-208/cat000062.txt -PARAMETERS_NAME  /Users/amorgan/qsoft/Software/Cell/sexconfig/cell.param  -FILTER_NAME /Users/amorgan/qsoft/Software/Cell/sexconfig/gauss_3.0_7x7.conv  -CHECKIMAGE_TYPE APERTURES,SEGMENTATION,BACKGROUND  -CHECKIMAGE_NAME /Users/amorgan/qsoft/Software/Cell/CellDemo/20140119_output/day1/gel2/ZSeries-01192014-1407-208/ap_000062.fits,/Users/amorgan/qsoft/Software/Cell/CellDemo/20140119_output/day1/gel2/ZSeries-01192014-1407-208/seg_000062.fits,/Users/amorgan/qsoft/Software/Cell/CellDemo/20140119_output/day1/gel2/ZSeries-01192014-1407-208/back_000062.fits "
       ]
      },
      {
       "output_type": "stream",
       "stream": "stdout",
       "text": [
        "\n",
        "sex /Users/amorgan/qsoft/Software/Cell/CellDemo/20140119_output/day1/gel2/ZSeries-01192014-1407-208//000063.fits -c /Users/amorgan/qsoft/Software/Cell/sexconfig/cell.sex  -CATALOG_NAME /Users/amorgan/qsoft/Software/Cell/CellDemo/20140119_output/day1/gel2/ZSeries-01192014-1407-208/cat000063.txt -PARAMETERS_NAME  /Users/amorgan/qsoft/Software/Cell/sexconfig/cell.param  -FILTER_NAME /Users/amorgan/qsoft/Software/Cell/sexconfig/gauss_3.0_7x7.conv  -CHECKIMAGE_TYPE APERTURES,SEGMENTATION,BACKGROUND  -CHECKIMAGE_NAME /Users/amorgan/qsoft/Software/Cell/CellDemo/20140119_output/day1/gel2/ZSeries-01192014-1407-208/ap_000063.fits,/Users/amorgan/qsoft/Software/Cell/CellDemo/20140119_output/day1/gel2/ZSeries-01192014-1407-208/seg_000063.fits,/Users/amorgan/qsoft/Software/Cell/CellDemo/20140119_output/day1/gel2/ZSeries-01192014-1407-208/back_000063.fits "
       ]
      },
      {
       "output_type": "stream",
       "stream": "stdout",
       "text": [
        "\n",
        "sex /Users/amorgan/qsoft/Software/Cell/CellDemo/20140119_output/day1/gel2/ZSeries-01192014-1407-208//000064.fits -c /Users/amorgan/qsoft/Software/Cell/sexconfig/cell.sex  -CATALOG_NAME /Users/amorgan/qsoft/Software/Cell/CellDemo/20140119_output/day1/gel2/ZSeries-01192014-1407-208/cat000064.txt -PARAMETERS_NAME  /Users/amorgan/qsoft/Software/Cell/sexconfig/cell.param  -FILTER_NAME /Users/amorgan/qsoft/Software/Cell/sexconfig/gauss_3.0_7x7.conv  -CHECKIMAGE_TYPE APERTURES,SEGMENTATION,BACKGROUND  -CHECKIMAGE_NAME /Users/amorgan/qsoft/Software/Cell/CellDemo/20140119_output/day1/gel2/ZSeries-01192014-1407-208/ap_000064.fits,/Users/amorgan/qsoft/Software/Cell/CellDemo/20140119_output/day1/gel2/ZSeries-01192014-1407-208/seg_000064.fits,/Users/amorgan/qsoft/Software/Cell/CellDemo/20140119_output/day1/gel2/ZSeries-01192014-1407-208/back_000064.fits "
       ]
      },
      {
       "output_type": "stream",
       "stream": "stdout",
       "text": [
        "\n",
        "sex /Users/amorgan/qsoft/Software/Cell/CellDemo/20140119_output/day1/gel2/ZSeries-01192014-1407-208//000065.fits -c /Users/amorgan/qsoft/Software/Cell/sexconfig/cell.sex  -CATALOG_NAME /Users/amorgan/qsoft/Software/Cell/CellDemo/20140119_output/day1/gel2/ZSeries-01192014-1407-208/cat000065.txt -PARAMETERS_NAME  /Users/amorgan/qsoft/Software/Cell/sexconfig/cell.param  -FILTER_NAME /Users/amorgan/qsoft/Software/Cell/sexconfig/gauss_3.0_7x7.conv  -CHECKIMAGE_TYPE APERTURES,SEGMENTATION,BACKGROUND  -CHECKIMAGE_NAME /Users/amorgan/qsoft/Software/Cell/CellDemo/20140119_output/day1/gel2/ZSeries-01192014-1407-208/ap_000065.fits,/Users/amorgan/qsoft/Software/Cell/CellDemo/20140119_output/day1/gel2/ZSeries-01192014-1407-208/seg_000065.fits,/Users/amorgan/qsoft/Software/Cell/CellDemo/20140119_output/day1/gel2/ZSeries-01192014-1407-208/back_000065.fits "
       ]
      },
      {
       "output_type": "stream",
       "stream": "stdout",
       "text": [
        "\n",
        "sex /Users/amorgan/qsoft/Software/Cell/CellDemo/20140119_output/day1/gel2/ZSeries-01192014-1407-208//000066.fits -c /Users/amorgan/qsoft/Software/Cell/sexconfig/cell.sex  -CATALOG_NAME /Users/amorgan/qsoft/Software/Cell/CellDemo/20140119_output/day1/gel2/ZSeries-01192014-1407-208/cat000066.txt -PARAMETERS_NAME  /Users/amorgan/qsoft/Software/Cell/sexconfig/cell.param  -FILTER_NAME /Users/amorgan/qsoft/Software/Cell/sexconfig/gauss_3.0_7x7.conv  -CHECKIMAGE_TYPE APERTURES,SEGMENTATION,BACKGROUND  -CHECKIMAGE_NAME /Users/amorgan/qsoft/Software/Cell/CellDemo/20140119_output/day1/gel2/ZSeries-01192014-1407-208/ap_000066.fits,/Users/amorgan/qsoft/Software/Cell/CellDemo/20140119_output/day1/gel2/ZSeries-01192014-1407-208/seg_000066.fits,/Users/amorgan/qsoft/Software/Cell/CellDemo/20140119_output/day1/gel2/ZSeries-01192014-1407-208/back_000066.fits "
       ]
      },
      {
       "output_type": "stream",
       "stream": "stdout",
       "text": [
        "\n",
        "sex /Users/amorgan/qsoft/Software/Cell/CellDemo/20140119_output/day1/gel2/ZSeries-01192014-1407-208//000067.fits -c /Users/amorgan/qsoft/Software/Cell/sexconfig/cell.sex  -CATALOG_NAME /Users/amorgan/qsoft/Software/Cell/CellDemo/20140119_output/day1/gel2/ZSeries-01192014-1407-208/cat000067.txt -PARAMETERS_NAME  /Users/amorgan/qsoft/Software/Cell/sexconfig/cell.param  -FILTER_NAME /Users/amorgan/qsoft/Software/Cell/sexconfig/gauss_3.0_7x7.conv  -CHECKIMAGE_TYPE APERTURES,SEGMENTATION,BACKGROUND  -CHECKIMAGE_NAME /Users/amorgan/qsoft/Software/Cell/CellDemo/20140119_output/day1/gel2/ZSeries-01192014-1407-208/ap_000067.fits,/Users/amorgan/qsoft/Software/Cell/CellDemo/20140119_output/day1/gel2/ZSeries-01192014-1407-208/seg_000067.fits,/Users/amorgan/qsoft/Software/Cell/CellDemo/20140119_output/day1/gel2/ZSeries-01192014-1407-208/back_000067.fits "
       ]
      },
      {
       "output_type": "stream",
       "stream": "stdout",
       "text": [
        "\n",
        "sex /Users/amorgan/qsoft/Software/Cell/CellDemo/20140119_output/day1/gel2/ZSeries-01192014-1407-208//000068.fits -c /Users/amorgan/qsoft/Software/Cell/sexconfig/cell.sex  -CATALOG_NAME /Users/amorgan/qsoft/Software/Cell/CellDemo/20140119_output/day1/gel2/ZSeries-01192014-1407-208/cat000068.txt -PARAMETERS_NAME  /Users/amorgan/qsoft/Software/Cell/sexconfig/cell.param  -FILTER_NAME /Users/amorgan/qsoft/Software/Cell/sexconfig/gauss_3.0_7x7.conv  -CHECKIMAGE_TYPE APERTURES,SEGMENTATION,BACKGROUND  -CHECKIMAGE_NAME /Users/amorgan/qsoft/Software/Cell/CellDemo/20140119_output/day1/gel2/ZSeries-01192014-1407-208/ap_000068.fits,/Users/amorgan/qsoft/Software/Cell/CellDemo/20140119_output/day1/gel2/ZSeries-01192014-1407-208/seg_000068.fits,/Users/amorgan/qsoft/Software/Cell/CellDemo/20140119_output/day1/gel2/ZSeries-01192014-1407-208/back_000068.fits "
       ]
      },
      {
       "output_type": "stream",
       "stream": "stdout",
       "text": [
        "\n",
        "sex /Users/amorgan/qsoft/Software/Cell/CellDemo/20140119_output/day1/gel2/ZSeries-01192014-1407-208//000069.fits -c /Users/amorgan/qsoft/Software/Cell/sexconfig/cell.sex  -CATALOG_NAME /Users/amorgan/qsoft/Software/Cell/CellDemo/20140119_output/day1/gel2/ZSeries-01192014-1407-208/cat000069.txt -PARAMETERS_NAME  /Users/amorgan/qsoft/Software/Cell/sexconfig/cell.param  -FILTER_NAME /Users/amorgan/qsoft/Software/Cell/sexconfig/gauss_3.0_7x7.conv  -CHECKIMAGE_TYPE APERTURES,SEGMENTATION,BACKGROUND  -CHECKIMAGE_NAME /Users/amorgan/qsoft/Software/Cell/CellDemo/20140119_output/day1/gel2/ZSeries-01192014-1407-208/ap_000069.fits,/Users/amorgan/qsoft/Software/Cell/CellDemo/20140119_output/day1/gel2/ZSeries-01192014-1407-208/seg_000069.fits,/Users/amorgan/qsoft/Software/Cell/CellDemo/20140119_output/day1/gel2/ZSeries-01192014-1407-208/back_000069.fits "
       ]
      },
      {
       "output_type": "stream",
       "stream": "stdout",
       "text": [
        "\n",
        "sex /Users/amorgan/qsoft/Software/Cell/CellDemo/20140119_output/day1/gel2/ZSeries-01192014-1407-208//000070.fits -c /Users/amorgan/qsoft/Software/Cell/sexconfig/cell.sex  -CATALOG_NAME /Users/amorgan/qsoft/Software/Cell/CellDemo/20140119_output/day1/gel2/ZSeries-01192014-1407-208/cat000070.txt -PARAMETERS_NAME  /Users/amorgan/qsoft/Software/Cell/sexconfig/cell.param  -FILTER_NAME /Users/amorgan/qsoft/Software/Cell/sexconfig/gauss_3.0_7x7.conv  -CHECKIMAGE_TYPE APERTURES,SEGMENTATION,BACKGROUND  -CHECKIMAGE_NAME /Users/amorgan/qsoft/Software/Cell/CellDemo/20140119_output/day1/gel2/ZSeries-01192014-1407-208/ap_000070.fits,/Users/amorgan/qsoft/Software/Cell/CellDemo/20140119_output/day1/gel2/ZSeries-01192014-1407-208/seg_000070.fits,/Users/amorgan/qsoft/Software/Cell/CellDemo/20140119_output/day1/gel2/ZSeries-01192014-1407-208/back_000070.fits "
       ]
      },
      {
       "output_type": "stream",
       "stream": "stdout",
       "text": [
        "\n",
        "sex /Users/amorgan/qsoft/Software/Cell/CellDemo/20140119_output/day1/gel2/ZSeries-01192014-1407-208//000071.fits -c /Users/amorgan/qsoft/Software/Cell/sexconfig/cell.sex  -CATALOG_NAME /Users/amorgan/qsoft/Software/Cell/CellDemo/20140119_output/day1/gel2/ZSeries-01192014-1407-208/cat000071.txt -PARAMETERS_NAME  /Users/amorgan/qsoft/Software/Cell/sexconfig/cell.param  -FILTER_NAME /Users/amorgan/qsoft/Software/Cell/sexconfig/gauss_3.0_7x7.conv  -CHECKIMAGE_TYPE APERTURES,SEGMENTATION,BACKGROUND  -CHECKIMAGE_NAME /Users/amorgan/qsoft/Software/Cell/CellDemo/20140119_output/day1/gel2/ZSeries-01192014-1407-208/ap_000071.fits,/Users/amorgan/qsoft/Software/Cell/CellDemo/20140119_output/day1/gel2/ZSeries-01192014-1407-208/seg_000071.fits,/Users/amorgan/qsoft/Software/Cell/CellDemo/20140119_output/day1/gel2/ZSeries-01192014-1407-208/back_000071.fits "
       ]
      },
      {
       "output_type": "stream",
       "stream": "stdout",
       "text": [
        "\n",
        "sex /Users/amorgan/qsoft/Software/Cell/CellDemo/20140119_output/day1/gel2/ZSeries-01192014-1407-208//000072.fits -c /Users/amorgan/qsoft/Software/Cell/sexconfig/cell.sex  -CATALOG_NAME /Users/amorgan/qsoft/Software/Cell/CellDemo/20140119_output/day1/gel2/ZSeries-01192014-1407-208/cat000072.txt -PARAMETERS_NAME  /Users/amorgan/qsoft/Software/Cell/sexconfig/cell.param  -FILTER_NAME /Users/amorgan/qsoft/Software/Cell/sexconfig/gauss_3.0_7x7.conv  -CHECKIMAGE_TYPE APERTURES,SEGMENTATION,BACKGROUND  -CHECKIMAGE_NAME /Users/amorgan/qsoft/Software/Cell/CellDemo/20140119_output/day1/gel2/ZSeries-01192014-1407-208/ap_000072.fits,/Users/amorgan/qsoft/Software/Cell/CellDemo/20140119_output/day1/gel2/ZSeries-01192014-1407-208/seg_000072.fits,/Users/amorgan/qsoft/Software/Cell/CellDemo/20140119_output/day1/gel2/ZSeries-01192014-1407-208/back_000072.fits "
       ]
      },
      {
       "output_type": "stream",
       "stream": "stdout",
       "text": [
        "\n",
        "sex /Users/amorgan/qsoft/Software/Cell/CellDemo/20140119_output/day1/gel2/ZSeries-01192014-1407-208//000073.fits -c /Users/amorgan/qsoft/Software/Cell/sexconfig/cell.sex  -CATALOG_NAME /Users/amorgan/qsoft/Software/Cell/CellDemo/20140119_output/day1/gel2/ZSeries-01192014-1407-208/cat000073.txt -PARAMETERS_NAME  /Users/amorgan/qsoft/Software/Cell/sexconfig/cell.param  -FILTER_NAME /Users/amorgan/qsoft/Software/Cell/sexconfig/gauss_3.0_7x7.conv  -CHECKIMAGE_TYPE APERTURES,SEGMENTATION,BACKGROUND  -CHECKIMAGE_NAME /Users/amorgan/qsoft/Software/Cell/CellDemo/20140119_output/day1/gel2/ZSeries-01192014-1407-208/ap_000073.fits,/Users/amorgan/qsoft/Software/Cell/CellDemo/20140119_output/day1/gel2/ZSeries-01192014-1407-208/seg_000073.fits,/Users/amorgan/qsoft/Software/Cell/CellDemo/20140119_output/day1/gel2/ZSeries-01192014-1407-208/back_000073.fits "
       ]
      },
      {
       "output_type": "stream",
       "stream": "stdout",
       "text": [
        "\n",
        "sex /Users/amorgan/qsoft/Software/Cell/CellDemo/20140119_output/day1/gel2/ZSeries-01192014-1407-208//000074.fits -c /Users/amorgan/qsoft/Software/Cell/sexconfig/cell.sex  -CATALOG_NAME /Users/amorgan/qsoft/Software/Cell/CellDemo/20140119_output/day1/gel2/ZSeries-01192014-1407-208/cat000074.txt -PARAMETERS_NAME  /Users/amorgan/qsoft/Software/Cell/sexconfig/cell.param  -FILTER_NAME /Users/amorgan/qsoft/Software/Cell/sexconfig/gauss_3.0_7x7.conv  -CHECKIMAGE_TYPE APERTURES,SEGMENTATION,BACKGROUND  -CHECKIMAGE_NAME /Users/amorgan/qsoft/Software/Cell/CellDemo/20140119_output/day1/gel2/ZSeries-01192014-1407-208/ap_000074.fits,/Users/amorgan/qsoft/Software/Cell/CellDemo/20140119_output/day1/gel2/ZSeries-01192014-1407-208/seg_000074.fits,/Users/amorgan/qsoft/Software/Cell/CellDemo/20140119_output/day1/gel2/ZSeries-01192014-1407-208/back_000074.fits "
       ]
      },
      {
       "output_type": "stream",
       "stream": "stdout",
       "text": [
        "\n",
        "sex /Users/amorgan/qsoft/Software/Cell/CellDemo/20140119_output/day1/gel2/ZSeries-01192014-1407-208//000075.fits -c /Users/amorgan/qsoft/Software/Cell/sexconfig/cell.sex  -CATALOG_NAME /Users/amorgan/qsoft/Software/Cell/CellDemo/20140119_output/day1/gel2/ZSeries-01192014-1407-208/cat000075.txt -PARAMETERS_NAME  /Users/amorgan/qsoft/Software/Cell/sexconfig/cell.param  -FILTER_NAME /Users/amorgan/qsoft/Software/Cell/sexconfig/gauss_3.0_7x7.conv  -CHECKIMAGE_TYPE APERTURES,SEGMENTATION,BACKGROUND  -CHECKIMAGE_NAME /Users/amorgan/qsoft/Software/Cell/CellDemo/20140119_output/day1/gel2/ZSeries-01192014-1407-208/ap_000075.fits,/Users/amorgan/qsoft/Software/Cell/CellDemo/20140119_output/day1/gel2/ZSeries-01192014-1407-208/seg_000075.fits,/Users/amorgan/qsoft/Software/Cell/CellDemo/20140119_output/day1/gel2/ZSeries-01192014-1407-208/back_000075.fits "
       ]
      },
      {
       "output_type": "stream",
       "stream": "stdout",
       "text": [
        "\n",
        "sex /Users/amorgan/qsoft/Software/Cell/CellDemo/20140119_output/day1/gel2/ZSeries-01192014-1407-208//000076.fits -c /Users/amorgan/qsoft/Software/Cell/sexconfig/cell.sex  -CATALOG_NAME /Users/amorgan/qsoft/Software/Cell/CellDemo/20140119_output/day1/gel2/ZSeries-01192014-1407-208/cat000076.txt -PARAMETERS_NAME  /Users/amorgan/qsoft/Software/Cell/sexconfig/cell.param  -FILTER_NAME /Users/amorgan/qsoft/Software/Cell/sexconfig/gauss_3.0_7x7.conv  -CHECKIMAGE_TYPE APERTURES,SEGMENTATION,BACKGROUND  -CHECKIMAGE_NAME /Users/amorgan/qsoft/Software/Cell/CellDemo/20140119_output/day1/gel2/ZSeries-01192014-1407-208/ap_000076.fits,/Users/amorgan/qsoft/Software/Cell/CellDemo/20140119_output/day1/gel2/ZSeries-01192014-1407-208/seg_000076.fits,/Users/amorgan/qsoft/Software/Cell/CellDemo/20140119_output/day1/gel2/ZSeries-01192014-1407-208/back_000076.fits "
       ]
      },
      {
       "output_type": "stream",
       "stream": "stdout",
       "text": [
        "\n",
        "sex /Users/amorgan/qsoft/Software/Cell/CellDemo/20140119_output/day1/gel2/ZSeries-01192014-1407-208//000077.fits -c /Users/amorgan/qsoft/Software/Cell/sexconfig/cell.sex  -CATALOG_NAME /Users/amorgan/qsoft/Software/Cell/CellDemo/20140119_output/day1/gel2/ZSeries-01192014-1407-208/cat000077.txt -PARAMETERS_NAME  /Users/amorgan/qsoft/Software/Cell/sexconfig/cell.param  -FILTER_NAME /Users/amorgan/qsoft/Software/Cell/sexconfig/gauss_3.0_7x7.conv  -CHECKIMAGE_TYPE APERTURES,SEGMENTATION,BACKGROUND  -CHECKIMAGE_NAME /Users/amorgan/qsoft/Software/Cell/CellDemo/20140119_output/day1/gel2/ZSeries-01192014-1407-208/ap_000077.fits,/Users/amorgan/qsoft/Software/Cell/CellDemo/20140119_output/day1/gel2/ZSeries-01192014-1407-208/seg_000077.fits,/Users/amorgan/qsoft/Software/Cell/CellDemo/20140119_output/day1/gel2/ZSeries-01192014-1407-208/back_000077.fits "
       ]
      },
      {
       "output_type": "stream",
       "stream": "stdout",
       "text": [
        "\n",
        "sex /Users/amorgan/qsoft/Software/Cell/CellDemo/20140119_output/day1/gel2/ZSeries-01192014-1407-208//000078.fits -c /Users/amorgan/qsoft/Software/Cell/sexconfig/cell.sex  -CATALOG_NAME /Users/amorgan/qsoft/Software/Cell/CellDemo/20140119_output/day1/gel2/ZSeries-01192014-1407-208/cat000078.txt -PARAMETERS_NAME  /Users/amorgan/qsoft/Software/Cell/sexconfig/cell.param  -FILTER_NAME /Users/amorgan/qsoft/Software/Cell/sexconfig/gauss_3.0_7x7.conv  -CHECKIMAGE_TYPE APERTURES,SEGMENTATION,BACKGROUND  -CHECKIMAGE_NAME /Users/amorgan/qsoft/Software/Cell/CellDemo/20140119_output/day1/gel2/ZSeries-01192014-1407-208/ap_000078.fits,/Users/amorgan/qsoft/Software/Cell/CellDemo/20140119_output/day1/gel2/ZSeries-01192014-1407-208/seg_000078.fits,/Users/amorgan/qsoft/Software/Cell/CellDemo/20140119_output/day1/gel2/ZSeries-01192014-1407-208/back_000078.fits "
       ]
      },
      {
       "output_type": "stream",
       "stream": "stdout",
       "text": [
        "\n",
        "sex /Users/amorgan/qsoft/Software/Cell/CellDemo/20140119_output/day1/gel2/ZSeries-01192014-1407-208//000079.fits -c /Users/amorgan/qsoft/Software/Cell/sexconfig/cell.sex  -CATALOG_NAME /Users/amorgan/qsoft/Software/Cell/CellDemo/20140119_output/day1/gel2/ZSeries-01192014-1407-208/cat000079.txt -PARAMETERS_NAME  /Users/amorgan/qsoft/Software/Cell/sexconfig/cell.param  -FILTER_NAME /Users/amorgan/qsoft/Software/Cell/sexconfig/gauss_3.0_7x7.conv  -CHECKIMAGE_TYPE APERTURES,SEGMENTATION,BACKGROUND  -CHECKIMAGE_NAME /Users/amorgan/qsoft/Software/Cell/CellDemo/20140119_output/day1/gel2/ZSeries-01192014-1407-208/ap_000079.fits,/Users/amorgan/qsoft/Software/Cell/CellDemo/20140119_output/day1/gel2/ZSeries-01192014-1407-208/seg_000079.fits,/Users/amorgan/qsoft/Software/Cell/CellDemo/20140119_output/day1/gel2/ZSeries-01192014-1407-208/back_000079.fits "
       ]
      },
      {
       "output_type": "stream",
       "stream": "stdout",
       "text": [
        "\n",
        "sex /Users/amorgan/qsoft/Software/Cell/CellDemo/20140119_output/day1/gel2/ZSeries-01192014-1407-208//000080.fits -c /Users/amorgan/qsoft/Software/Cell/sexconfig/cell.sex  -CATALOG_NAME /Users/amorgan/qsoft/Software/Cell/CellDemo/20140119_output/day1/gel2/ZSeries-01192014-1407-208/cat000080.txt -PARAMETERS_NAME  /Users/amorgan/qsoft/Software/Cell/sexconfig/cell.param  -FILTER_NAME /Users/amorgan/qsoft/Software/Cell/sexconfig/gauss_3.0_7x7.conv  -CHECKIMAGE_TYPE APERTURES,SEGMENTATION,BACKGROUND  -CHECKIMAGE_NAME /Users/amorgan/qsoft/Software/Cell/CellDemo/20140119_output/day1/gel2/ZSeries-01192014-1407-208/ap_000080.fits,/Users/amorgan/qsoft/Software/Cell/CellDemo/20140119_output/day1/gel2/ZSeries-01192014-1407-208/seg_000080.fits,/Users/amorgan/qsoft/Software/Cell/CellDemo/20140119_output/day1/gel2/ZSeries-01192014-1407-208/back_000080.fits "
       ]
      },
      {
       "output_type": "stream",
       "stream": "stdout",
       "text": [
        "\n",
        "sex /Users/amorgan/qsoft/Software/Cell/CellDemo/20140119_output/day1/gel2/ZSeries-01192014-1407-208//000081.fits -c /Users/amorgan/qsoft/Software/Cell/sexconfig/cell.sex  -CATALOG_NAME /Users/amorgan/qsoft/Software/Cell/CellDemo/20140119_output/day1/gel2/ZSeries-01192014-1407-208/cat000081.txt -PARAMETERS_NAME  /Users/amorgan/qsoft/Software/Cell/sexconfig/cell.param  -FILTER_NAME /Users/amorgan/qsoft/Software/Cell/sexconfig/gauss_3.0_7x7.conv  -CHECKIMAGE_TYPE APERTURES,SEGMENTATION,BACKGROUND  -CHECKIMAGE_NAME /Users/amorgan/qsoft/Software/Cell/CellDemo/20140119_output/day1/gel2/ZSeries-01192014-1407-208/ap_000081.fits,/Users/amorgan/qsoft/Software/Cell/CellDemo/20140119_output/day1/gel2/ZSeries-01192014-1407-208/seg_000081.fits,/Users/amorgan/qsoft/Software/Cell/CellDemo/20140119_output/day1/gel2/ZSeries-01192014-1407-208/back_000081.fits "
       ]
      },
      {
       "output_type": "stream",
       "stream": "stdout",
       "text": [
        "\n",
        "sex /Users/amorgan/qsoft/Software/Cell/CellDemo/20140119_output/day1/gel2/ZSeries-01192014-1407-208//000082.fits -c /Users/amorgan/qsoft/Software/Cell/sexconfig/cell.sex  -CATALOG_NAME /Users/amorgan/qsoft/Software/Cell/CellDemo/20140119_output/day1/gel2/ZSeries-01192014-1407-208/cat000082.txt -PARAMETERS_NAME  /Users/amorgan/qsoft/Software/Cell/sexconfig/cell.param  -FILTER_NAME /Users/amorgan/qsoft/Software/Cell/sexconfig/gauss_3.0_7x7.conv  -CHECKIMAGE_TYPE APERTURES,SEGMENTATION,BACKGROUND  -CHECKIMAGE_NAME /Users/amorgan/qsoft/Software/Cell/CellDemo/20140119_output/day1/gel2/ZSeries-01192014-1407-208/ap_000082.fits,/Users/amorgan/qsoft/Software/Cell/CellDemo/20140119_output/day1/gel2/ZSeries-01192014-1407-208/seg_000082.fits,/Users/amorgan/qsoft/Software/Cell/CellDemo/20140119_output/day1/gel2/ZSeries-01192014-1407-208/back_000082.fits "
       ]
      },
      {
       "output_type": "stream",
       "stream": "stdout",
       "text": [
        "\n",
        "sex /Users/amorgan/qsoft/Software/Cell/CellDemo/20140119_output/day1/gel2/ZSeries-01192014-1407-208//000083.fits -c /Users/amorgan/qsoft/Software/Cell/sexconfig/cell.sex  -CATALOG_NAME /Users/amorgan/qsoft/Software/Cell/CellDemo/20140119_output/day1/gel2/ZSeries-01192014-1407-208/cat000083.txt -PARAMETERS_NAME  /Users/amorgan/qsoft/Software/Cell/sexconfig/cell.param  -FILTER_NAME /Users/amorgan/qsoft/Software/Cell/sexconfig/gauss_3.0_7x7.conv  -CHECKIMAGE_TYPE APERTURES,SEGMENTATION,BACKGROUND  -CHECKIMAGE_NAME /Users/amorgan/qsoft/Software/Cell/CellDemo/20140119_output/day1/gel2/ZSeries-01192014-1407-208/ap_000083.fits,/Users/amorgan/qsoft/Software/Cell/CellDemo/20140119_output/day1/gel2/ZSeries-01192014-1407-208/seg_000083.fits,/Users/amorgan/qsoft/Software/Cell/CellDemo/20140119_output/day1/gel2/ZSeries-01192014-1407-208/back_000083.fits "
       ]
      },
      {
       "output_type": "stream",
       "stream": "stdout",
       "text": [
        "\n",
        "sex /Users/amorgan/qsoft/Software/Cell/CellDemo/20140119_output/day1/gel2/ZSeries-01192014-1407-208//000084.fits -c /Users/amorgan/qsoft/Software/Cell/sexconfig/cell.sex  -CATALOG_NAME /Users/amorgan/qsoft/Software/Cell/CellDemo/20140119_output/day1/gel2/ZSeries-01192014-1407-208/cat000084.txt -PARAMETERS_NAME  /Users/amorgan/qsoft/Software/Cell/sexconfig/cell.param  -FILTER_NAME /Users/amorgan/qsoft/Software/Cell/sexconfig/gauss_3.0_7x7.conv  -CHECKIMAGE_TYPE APERTURES,SEGMENTATION,BACKGROUND  -CHECKIMAGE_NAME /Users/amorgan/qsoft/Software/Cell/CellDemo/20140119_output/day1/gel2/ZSeries-01192014-1407-208/ap_000084.fits,/Users/amorgan/qsoft/Software/Cell/CellDemo/20140119_output/day1/gel2/ZSeries-01192014-1407-208/seg_000084.fits,/Users/amorgan/qsoft/Software/Cell/CellDemo/20140119_output/day1/gel2/ZSeries-01192014-1407-208/back_000084.fits "
       ]
      },
      {
       "output_type": "stream",
       "stream": "stdout",
       "text": [
        "\n",
        "sex /Users/amorgan/qsoft/Software/Cell/CellDemo/20140119_output/day1/gel2/ZSeries-01192014-1407-208//000085.fits -c /Users/amorgan/qsoft/Software/Cell/sexconfig/cell.sex  -CATALOG_NAME /Users/amorgan/qsoft/Software/Cell/CellDemo/20140119_output/day1/gel2/ZSeries-01192014-1407-208/cat000085.txt -PARAMETERS_NAME  /Users/amorgan/qsoft/Software/Cell/sexconfig/cell.param  -FILTER_NAME /Users/amorgan/qsoft/Software/Cell/sexconfig/gauss_3.0_7x7.conv  -CHECKIMAGE_TYPE APERTURES,SEGMENTATION,BACKGROUND  -CHECKIMAGE_NAME /Users/amorgan/qsoft/Software/Cell/CellDemo/20140119_output/day1/gel2/ZSeries-01192014-1407-208/ap_000085.fits,/Users/amorgan/qsoft/Software/Cell/CellDemo/20140119_output/day1/gel2/ZSeries-01192014-1407-208/seg_000085.fits,/Users/amorgan/qsoft/Software/Cell/CellDemo/20140119_output/day1/gel2/ZSeries-01192014-1407-208/back_000085.fits "
       ]
      },
      {
       "output_type": "stream",
       "stream": "stdout",
       "text": [
        "\n",
        "sex /Users/amorgan/qsoft/Software/Cell/CellDemo/20140119_output/day1/gel2/ZSeries-01192014-1407-208//000086.fits -c /Users/amorgan/qsoft/Software/Cell/sexconfig/cell.sex  -CATALOG_NAME /Users/amorgan/qsoft/Software/Cell/CellDemo/20140119_output/day1/gel2/ZSeries-01192014-1407-208/cat000086.txt -PARAMETERS_NAME  /Users/amorgan/qsoft/Software/Cell/sexconfig/cell.param  -FILTER_NAME /Users/amorgan/qsoft/Software/Cell/sexconfig/gauss_3.0_7x7.conv  -CHECKIMAGE_TYPE APERTURES,SEGMENTATION,BACKGROUND  -CHECKIMAGE_NAME /Users/amorgan/qsoft/Software/Cell/CellDemo/20140119_output/day1/gel2/ZSeries-01192014-1407-208/ap_000086.fits,/Users/amorgan/qsoft/Software/Cell/CellDemo/20140119_output/day1/gel2/ZSeries-01192014-1407-208/seg_000086.fits,/Users/amorgan/qsoft/Software/Cell/CellDemo/20140119_output/day1/gel2/ZSeries-01192014-1407-208/back_000086.fits "
       ]
      },
      {
       "output_type": "stream",
       "stream": "stdout",
       "text": [
        "\n",
        "sex /Users/amorgan/qsoft/Software/Cell/CellDemo/20140119_output/day1/gel2/ZSeries-01192014-1407-208//000087.fits -c /Users/amorgan/qsoft/Software/Cell/sexconfig/cell.sex  -CATALOG_NAME /Users/amorgan/qsoft/Software/Cell/CellDemo/20140119_output/day1/gel2/ZSeries-01192014-1407-208/cat000087.txt -PARAMETERS_NAME  /Users/amorgan/qsoft/Software/Cell/sexconfig/cell.param  -FILTER_NAME /Users/amorgan/qsoft/Software/Cell/sexconfig/gauss_3.0_7x7.conv  -CHECKIMAGE_TYPE APERTURES,SEGMENTATION,BACKGROUND  -CHECKIMAGE_NAME /Users/amorgan/qsoft/Software/Cell/CellDemo/20140119_output/day1/gel2/ZSeries-01192014-1407-208/ap_000087.fits,/Users/amorgan/qsoft/Software/Cell/CellDemo/20140119_output/day1/gel2/ZSeries-01192014-1407-208/seg_000087.fits,/Users/amorgan/qsoft/Software/Cell/CellDemo/20140119_output/day1/gel2/ZSeries-01192014-1407-208/back_000087.fits "
       ]
      },
      {
       "output_type": "stream",
       "stream": "stdout",
       "text": [
        "\n",
        "sex /Users/amorgan/qsoft/Software/Cell/CellDemo/20140119_output/day1/gel2/ZSeries-01192014-1407-208//000088.fits -c /Users/amorgan/qsoft/Software/Cell/sexconfig/cell.sex  -CATALOG_NAME /Users/amorgan/qsoft/Software/Cell/CellDemo/20140119_output/day1/gel2/ZSeries-01192014-1407-208/cat000088.txt -PARAMETERS_NAME  /Users/amorgan/qsoft/Software/Cell/sexconfig/cell.param  -FILTER_NAME /Users/amorgan/qsoft/Software/Cell/sexconfig/gauss_3.0_7x7.conv  -CHECKIMAGE_TYPE APERTURES,SEGMENTATION,BACKGROUND  -CHECKIMAGE_NAME /Users/amorgan/qsoft/Software/Cell/CellDemo/20140119_output/day1/gel2/ZSeries-01192014-1407-208/ap_000088.fits,/Users/amorgan/qsoft/Software/Cell/CellDemo/20140119_output/day1/gel2/ZSeries-01192014-1407-208/seg_000088.fits,/Users/amorgan/qsoft/Software/Cell/CellDemo/20140119_output/day1/gel2/ZSeries-01192014-1407-208/back_000088.fits "
       ]
      },
      {
       "output_type": "stream",
       "stream": "stdout",
       "text": [
        "\n",
        "sex /Users/amorgan/qsoft/Software/Cell/CellDemo/20140119_output/day1/gel2/ZSeries-01192014-1407-208//000089.fits -c /Users/amorgan/qsoft/Software/Cell/sexconfig/cell.sex  -CATALOG_NAME /Users/amorgan/qsoft/Software/Cell/CellDemo/20140119_output/day1/gel2/ZSeries-01192014-1407-208/cat000089.txt -PARAMETERS_NAME  /Users/amorgan/qsoft/Software/Cell/sexconfig/cell.param  -FILTER_NAME /Users/amorgan/qsoft/Software/Cell/sexconfig/gauss_3.0_7x7.conv  -CHECKIMAGE_TYPE APERTURES,SEGMENTATION,BACKGROUND  -CHECKIMAGE_NAME /Users/amorgan/qsoft/Software/Cell/CellDemo/20140119_output/day1/gel2/ZSeries-01192014-1407-208/ap_000089.fits,/Users/amorgan/qsoft/Software/Cell/CellDemo/20140119_output/day1/gel2/ZSeries-01192014-1407-208/seg_000089.fits,/Users/amorgan/qsoft/Software/Cell/CellDemo/20140119_output/day1/gel2/ZSeries-01192014-1407-208/back_000089.fits "
       ]
      },
      {
       "output_type": "stream",
       "stream": "stdout",
       "text": [
        "\n",
        "sex /Users/amorgan/qsoft/Software/Cell/CellDemo/20140119_output/day1/gel2/ZSeries-01192014-1407-208//000090.fits -c /Users/amorgan/qsoft/Software/Cell/sexconfig/cell.sex  -CATALOG_NAME /Users/amorgan/qsoft/Software/Cell/CellDemo/20140119_output/day1/gel2/ZSeries-01192014-1407-208/cat000090.txt -PARAMETERS_NAME  /Users/amorgan/qsoft/Software/Cell/sexconfig/cell.param  -FILTER_NAME /Users/amorgan/qsoft/Software/Cell/sexconfig/gauss_3.0_7x7.conv  -CHECKIMAGE_TYPE APERTURES,SEGMENTATION,BACKGROUND  -CHECKIMAGE_NAME /Users/amorgan/qsoft/Software/Cell/CellDemo/20140119_output/day1/gel2/ZSeries-01192014-1407-208/ap_000090.fits,/Users/amorgan/qsoft/Software/Cell/CellDemo/20140119_output/day1/gel2/ZSeries-01192014-1407-208/seg_000090.fits,/Users/amorgan/qsoft/Software/Cell/CellDemo/20140119_output/day1/gel2/ZSeries-01192014-1407-208/back_000090.fits "
       ]
      },
      {
       "output_type": "stream",
       "stream": "stdout",
       "text": [
        "\n",
        "sex /Users/amorgan/qsoft/Software/Cell/CellDemo/20140119_output/day1/gel2/ZSeries-01192014-1407-208//000091.fits -c /Users/amorgan/qsoft/Software/Cell/sexconfig/cell.sex  -CATALOG_NAME /Users/amorgan/qsoft/Software/Cell/CellDemo/20140119_output/day1/gel2/ZSeries-01192014-1407-208/cat000091.txt -PARAMETERS_NAME  /Users/amorgan/qsoft/Software/Cell/sexconfig/cell.param  -FILTER_NAME /Users/amorgan/qsoft/Software/Cell/sexconfig/gauss_3.0_7x7.conv  -CHECKIMAGE_TYPE APERTURES,SEGMENTATION,BACKGROUND  -CHECKIMAGE_NAME /Users/amorgan/qsoft/Software/Cell/CellDemo/20140119_output/day1/gel2/ZSeries-01192014-1407-208/ap_000091.fits,/Users/amorgan/qsoft/Software/Cell/CellDemo/20140119_output/day1/gel2/ZSeries-01192014-1407-208/seg_000091.fits,/Users/amorgan/qsoft/Software/Cell/CellDemo/20140119_output/day1/gel2/ZSeries-01192014-1407-208/back_000091.fits "
       ]
      },
      {
       "output_type": "stream",
       "stream": "stdout",
       "text": [
        "\n",
        "sex /Users/amorgan/qsoft/Software/Cell/CellDemo/20140119_output/day1/gel2/ZSeries-01192014-1407-208//000092.fits -c /Users/amorgan/qsoft/Software/Cell/sexconfig/cell.sex  -CATALOG_NAME /Users/amorgan/qsoft/Software/Cell/CellDemo/20140119_output/day1/gel2/ZSeries-01192014-1407-208/cat000092.txt -PARAMETERS_NAME  /Users/amorgan/qsoft/Software/Cell/sexconfig/cell.param  -FILTER_NAME /Users/amorgan/qsoft/Software/Cell/sexconfig/gauss_3.0_7x7.conv  -CHECKIMAGE_TYPE APERTURES,SEGMENTATION,BACKGROUND  -CHECKIMAGE_NAME /Users/amorgan/qsoft/Software/Cell/CellDemo/20140119_output/day1/gel2/ZSeries-01192014-1407-208/ap_000092.fits,/Users/amorgan/qsoft/Software/Cell/CellDemo/20140119_output/day1/gel2/ZSeries-01192014-1407-208/seg_000092.fits,/Users/amorgan/qsoft/Software/Cell/CellDemo/20140119_output/day1/gel2/ZSeries-01192014-1407-208/back_000092.fits "
       ]
      },
      {
       "output_type": "stream",
       "stream": "stdout",
       "text": [
        "\n",
        "sex /Users/amorgan/qsoft/Software/Cell/CellDemo/20140119_output/day1/gel2/ZSeries-01192014-1407-208//000093.fits -c /Users/amorgan/qsoft/Software/Cell/sexconfig/cell.sex  -CATALOG_NAME /Users/amorgan/qsoft/Software/Cell/CellDemo/20140119_output/day1/gel2/ZSeries-01192014-1407-208/cat000093.txt -PARAMETERS_NAME  /Users/amorgan/qsoft/Software/Cell/sexconfig/cell.param  -FILTER_NAME /Users/amorgan/qsoft/Software/Cell/sexconfig/gauss_3.0_7x7.conv  -CHECKIMAGE_TYPE APERTURES,SEGMENTATION,BACKGROUND  -CHECKIMAGE_NAME /Users/amorgan/qsoft/Software/Cell/CellDemo/20140119_output/day1/gel2/ZSeries-01192014-1407-208/ap_000093.fits,/Users/amorgan/qsoft/Software/Cell/CellDemo/20140119_output/day1/gel2/ZSeries-01192014-1407-208/seg_000093.fits,/Users/amorgan/qsoft/Software/Cell/CellDemo/20140119_output/day1/gel2/ZSeries-01192014-1407-208/back_000093.fits "
       ]
      },
      {
       "output_type": "stream",
       "stream": "stdout",
       "text": [
        "\n",
        "sex /Users/amorgan/qsoft/Software/Cell/CellDemo/20140119_output/day1/gel2/ZSeries-01192014-1407-208//000094.fits -c /Users/amorgan/qsoft/Software/Cell/sexconfig/cell.sex  -CATALOG_NAME /Users/amorgan/qsoft/Software/Cell/CellDemo/20140119_output/day1/gel2/ZSeries-01192014-1407-208/cat000094.txt -PARAMETERS_NAME  /Users/amorgan/qsoft/Software/Cell/sexconfig/cell.param  -FILTER_NAME /Users/amorgan/qsoft/Software/Cell/sexconfig/gauss_3.0_7x7.conv  -CHECKIMAGE_TYPE APERTURES,SEGMENTATION,BACKGROUND  -CHECKIMAGE_NAME /Users/amorgan/qsoft/Software/Cell/CellDemo/20140119_output/day1/gel2/ZSeries-01192014-1407-208/ap_000094.fits,/Users/amorgan/qsoft/Software/Cell/CellDemo/20140119_output/day1/gel2/ZSeries-01192014-1407-208/seg_000094.fits,/Users/amorgan/qsoft/Software/Cell/CellDemo/20140119_output/day1/gel2/ZSeries-01192014-1407-208/back_000094.fits "
       ]
      },
      {
       "output_type": "stream",
       "stream": "stdout",
       "text": [
        "\n",
        "sex /Users/amorgan/qsoft/Software/Cell/CellDemo/20140119_output/day1/gel2/ZSeries-01192014-1407-208//000095.fits -c /Users/amorgan/qsoft/Software/Cell/sexconfig/cell.sex  -CATALOG_NAME /Users/amorgan/qsoft/Software/Cell/CellDemo/20140119_output/day1/gel2/ZSeries-01192014-1407-208/cat000095.txt -PARAMETERS_NAME  /Users/amorgan/qsoft/Software/Cell/sexconfig/cell.param  -FILTER_NAME /Users/amorgan/qsoft/Software/Cell/sexconfig/gauss_3.0_7x7.conv  -CHECKIMAGE_TYPE APERTURES,SEGMENTATION,BACKGROUND  -CHECKIMAGE_NAME /Users/amorgan/qsoft/Software/Cell/CellDemo/20140119_output/day1/gel2/ZSeries-01192014-1407-208/ap_000095.fits,/Users/amorgan/qsoft/Software/Cell/CellDemo/20140119_output/day1/gel2/ZSeries-01192014-1407-208/seg_000095.fits,/Users/amorgan/qsoft/Software/Cell/CellDemo/20140119_output/day1/gel2/ZSeries-01192014-1407-208/back_000095.fits "
       ]
      },
      {
       "output_type": "stream",
       "stream": "stdout",
       "text": [
        "\n",
        "sex /Users/amorgan/qsoft/Software/Cell/CellDemo/20140119_output/day1/gel2/ZSeries-01192014-1407-208//000096.fits -c /Users/amorgan/qsoft/Software/Cell/sexconfig/cell.sex  -CATALOG_NAME /Users/amorgan/qsoft/Software/Cell/CellDemo/20140119_output/day1/gel2/ZSeries-01192014-1407-208/cat000096.txt -PARAMETERS_NAME  /Users/amorgan/qsoft/Software/Cell/sexconfig/cell.param  -FILTER_NAME /Users/amorgan/qsoft/Software/Cell/sexconfig/gauss_3.0_7x7.conv  -CHECKIMAGE_TYPE APERTURES,SEGMENTATION,BACKGROUND  -CHECKIMAGE_NAME /Users/amorgan/qsoft/Software/Cell/CellDemo/20140119_output/day1/gel2/ZSeries-01192014-1407-208/ap_000096.fits,/Users/amorgan/qsoft/Software/Cell/CellDemo/20140119_output/day1/gel2/ZSeries-01192014-1407-208/seg_000096.fits,/Users/amorgan/qsoft/Software/Cell/CellDemo/20140119_output/day1/gel2/ZSeries-01192014-1407-208/back_000096.fits "
       ]
      },
      {
       "output_type": "stream",
       "stream": "stdout",
       "text": [
        "\n",
        "sex /Users/amorgan/qsoft/Software/Cell/CellDemo/20140119_output/day1/gel2/ZSeries-01192014-1407-208//000097.fits -c /Users/amorgan/qsoft/Software/Cell/sexconfig/cell.sex  -CATALOG_NAME /Users/amorgan/qsoft/Software/Cell/CellDemo/20140119_output/day1/gel2/ZSeries-01192014-1407-208/cat000097.txt -PARAMETERS_NAME  /Users/amorgan/qsoft/Software/Cell/sexconfig/cell.param  -FILTER_NAME /Users/amorgan/qsoft/Software/Cell/sexconfig/gauss_3.0_7x7.conv  -CHECKIMAGE_TYPE APERTURES,SEGMENTATION,BACKGROUND  -CHECKIMAGE_NAME /Users/amorgan/qsoft/Software/Cell/CellDemo/20140119_output/day1/gel2/ZSeries-01192014-1407-208/ap_000097.fits,/Users/amorgan/qsoft/Software/Cell/CellDemo/20140119_output/day1/gel2/ZSeries-01192014-1407-208/seg_000097.fits,/Users/amorgan/qsoft/Software/Cell/CellDemo/20140119_output/day1/gel2/ZSeries-01192014-1407-208/back_000097.fits "
       ]
      },
      {
       "output_type": "stream",
       "stream": "stdout",
       "text": [
        "\n",
        "sex /Users/amorgan/qsoft/Software/Cell/CellDemo/20140119_output/day1/gel2/ZSeries-01192014-1407-208//000098.fits -c /Users/amorgan/qsoft/Software/Cell/sexconfig/cell.sex  -CATALOG_NAME /Users/amorgan/qsoft/Software/Cell/CellDemo/20140119_output/day1/gel2/ZSeries-01192014-1407-208/cat000098.txt -PARAMETERS_NAME  /Users/amorgan/qsoft/Software/Cell/sexconfig/cell.param  -FILTER_NAME /Users/amorgan/qsoft/Software/Cell/sexconfig/gauss_3.0_7x7.conv  -CHECKIMAGE_TYPE APERTURES,SEGMENTATION,BACKGROUND  -CHECKIMAGE_NAME /Users/amorgan/qsoft/Software/Cell/CellDemo/20140119_output/day1/gel2/ZSeries-01192014-1407-208/ap_000098.fits,/Users/amorgan/qsoft/Software/Cell/CellDemo/20140119_output/day1/gel2/ZSeries-01192014-1407-208/seg_000098.fits,/Users/amorgan/qsoft/Software/Cell/CellDemo/20140119_output/day1/gel2/ZSeries-01192014-1407-208/back_000098.fits "
       ]
      },
      {
       "output_type": "stream",
       "stream": "stdout",
       "text": [
        "\n",
        "sex /Users/amorgan/qsoft/Software/Cell/CellDemo/20140119_output/day1/gel2/ZSeries-01192014-1407-208//000099.fits -c /Users/amorgan/qsoft/Software/Cell/sexconfig/cell.sex  -CATALOG_NAME /Users/amorgan/qsoft/Software/Cell/CellDemo/20140119_output/day1/gel2/ZSeries-01192014-1407-208/cat000099.txt -PARAMETERS_NAME  /Users/amorgan/qsoft/Software/Cell/sexconfig/cell.param  -FILTER_NAME /Users/amorgan/qsoft/Software/Cell/sexconfig/gauss_3.0_7x7.conv  -CHECKIMAGE_TYPE APERTURES,SEGMENTATION,BACKGROUND  -CHECKIMAGE_NAME /Users/amorgan/qsoft/Software/Cell/CellDemo/20140119_output/day1/gel2/ZSeries-01192014-1407-208/ap_000099.fits,/Users/amorgan/qsoft/Software/Cell/CellDemo/20140119_output/day1/gel2/ZSeries-01192014-1407-208/seg_000099.fits,/Users/amorgan/qsoft/Software/Cell/CellDemo/20140119_output/day1/gel2/ZSeries-01192014-1407-208/back_000099.fits "
       ]
      },
      {
       "output_type": "stream",
       "stream": "stdout",
       "text": [
        "\n",
        "sex /Users/amorgan/qsoft/Software/Cell/CellDemo/20140119_output/day1/gel2/ZSeries-01192014-1407-208//000100.fits -c /Users/amorgan/qsoft/Software/Cell/sexconfig/cell.sex  -CATALOG_NAME /Users/amorgan/qsoft/Software/Cell/CellDemo/20140119_output/day1/gel2/ZSeries-01192014-1407-208/cat000100.txt -PARAMETERS_NAME  /Users/amorgan/qsoft/Software/Cell/sexconfig/cell.param  -FILTER_NAME /Users/amorgan/qsoft/Software/Cell/sexconfig/gauss_3.0_7x7.conv  -CHECKIMAGE_TYPE APERTURES,SEGMENTATION,BACKGROUND  -CHECKIMAGE_NAME /Users/amorgan/qsoft/Software/Cell/CellDemo/20140119_output/day1/gel2/ZSeries-01192014-1407-208/ap_000100.fits,/Users/amorgan/qsoft/Software/Cell/CellDemo/20140119_output/day1/gel2/ZSeries-01192014-1407-208/seg_000100.fits,/Users/amorgan/qsoft/Software/Cell/CellDemo/20140119_output/day1/gel2/ZSeries-01192014-1407-208/back_000100.fits "
       ]
      },
      {
       "output_type": "stream",
       "stream": "stdout",
       "text": [
        "\n",
        "sex /Users/amorgan/qsoft/Software/Cell/CellDemo/20140119_output/day1/gel2/ZSeries-01192014-1407-208//000101.fits -c /Users/amorgan/qsoft/Software/Cell/sexconfig/cell.sex  -CATALOG_NAME /Users/amorgan/qsoft/Software/Cell/CellDemo/20140119_output/day1/gel2/ZSeries-01192014-1407-208/cat000101.txt -PARAMETERS_NAME  /Users/amorgan/qsoft/Software/Cell/sexconfig/cell.param  -FILTER_NAME /Users/amorgan/qsoft/Software/Cell/sexconfig/gauss_3.0_7x7.conv  -CHECKIMAGE_TYPE APERTURES,SEGMENTATION,BACKGROUND  -CHECKIMAGE_NAME /Users/amorgan/qsoft/Software/Cell/CellDemo/20140119_output/day1/gel2/ZSeries-01192014-1407-208/ap_000101.fits,/Users/amorgan/qsoft/Software/Cell/CellDemo/20140119_output/day1/gel2/ZSeries-01192014-1407-208/seg_000101.fits,/Users/amorgan/qsoft/Software/Cell/CellDemo/20140119_output/day1/gel2/ZSeries-01192014-1407-208/back_000101.fits "
       ]
      },
      {
       "output_type": "stream",
       "stream": "stdout",
       "text": [
        "\n",
        "sex /Users/amorgan/qsoft/Software/Cell/CellDemo/20140119_output/day1/gel2/ZSeries-01192014-1407-208//000102.fits -c /Users/amorgan/qsoft/Software/Cell/sexconfig/cell.sex  -CATALOG_NAME /Users/amorgan/qsoft/Software/Cell/CellDemo/20140119_output/day1/gel2/ZSeries-01192014-1407-208/cat000102.txt -PARAMETERS_NAME  /Users/amorgan/qsoft/Software/Cell/sexconfig/cell.param  -FILTER_NAME /Users/amorgan/qsoft/Software/Cell/sexconfig/gauss_3.0_7x7.conv  -CHECKIMAGE_TYPE APERTURES,SEGMENTATION,BACKGROUND  -CHECKIMAGE_NAME /Users/amorgan/qsoft/Software/Cell/CellDemo/20140119_output/day1/gel2/ZSeries-01192014-1407-208/ap_000102.fits,/Users/amorgan/qsoft/Software/Cell/CellDemo/20140119_output/day1/gel2/ZSeries-01192014-1407-208/seg_000102.fits,/Users/amorgan/qsoft/Software/Cell/CellDemo/20140119_output/day1/gel2/ZSeries-01192014-1407-208/back_000102.fits "
       ]
      },
      {
       "output_type": "stream",
       "stream": "stdout",
       "text": [
        "\n",
        "sex /Users/amorgan/qsoft/Software/Cell/CellDemo/20140119_output/day1/gel2/ZSeries-01192014-1407-208//000103.fits -c /Users/amorgan/qsoft/Software/Cell/sexconfig/cell.sex  -CATALOG_NAME /Users/amorgan/qsoft/Software/Cell/CellDemo/20140119_output/day1/gel2/ZSeries-01192014-1407-208/cat000103.txt -PARAMETERS_NAME  /Users/amorgan/qsoft/Software/Cell/sexconfig/cell.param  -FILTER_NAME /Users/amorgan/qsoft/Software/Cell/sexconfig/gauss_3.0_7x7.conv  -CHECKIMAGE_TYPE APERTURES,SEGMENTATION,BACKGROUND  -CHECKIMAGE_NAME /Users/amorgan/qsoft/Software/Cell/CellDemo/20140119_output/day1/gel2/ZSeries-01192014-1407-208/ap_000103.fits,/Users/amorgan/qsoft/Software/Cell/CellDemo/20140119_output/day1/gel2/ZSeries-01192014-1407-208/seg_000103.fits,/Users/amorgan/qsoft/Software/Cell/CellDemo/20140119_output/day1/gel2/ZSeries-01192014-1407-208/back_000103.fits "
       ]
      },
      {
       "output_type": "stream",
       "stream": "stdout",
       "text": [
        "\n",
        "sex /Users/amorgan/qsoft/Software/Cell/CellDemo/20140119_output/day1/gel2/ZSeries-01192014-1407-208//000104.fits -c /Users/amorgan/qsoft/Software/Cell/sexconfig/cell.sex  -CATALOG_NAME /Users/amorgan/qsoft/Software/Cell/CellDemo/20140119_output/day1/gel2/ZSeries-01192014-1407-208/cat000104.txt -PARAMETERS_NAME  /Users/amorgan/qsoft/Software/Cell/sexconfig/cell.param  -FILTER_NAME /Users/amorgan/qsoft/Software/Cell/sexconfig/gauss_3.0_7x7.conv  -CHECKIMAGE_TYPE APERTURES,SEGMENTATION,BACKGROUND  -CHECKIMAGE_NAME /Users/amorgan/qsoft/Software/Cell/CellDemo/20140119_output/day1/gel2/ZSeries-01192014-1407-208/ap_000104.fits,/Users/amorgan/qsoft/Software/Cell/CellDemo/20140119_output/day1/gel2/ZSeries-01192014-1407-208/seg_000104.fits,/Users/amorgan/qsoft/Software/Cell/CellDemo/20140119_output/day1/gel2/ZSeries-01192014-1407-208/back_000104.fits "
       ]
      },
      {
       "output_type": "stream",
       "stream": "stdout",
       "text": [
        "\n",
        "sex /Users/amorgan/qsoft/Software/Cell/CellDemo/20140119_output/day1/gel2/ZSeries-01192014-1407-208//000105.fits -c /Users/amorgan/qsoft/Software/Cell/sexconfig/cell.sex  -CATALOG_NAME /Users/amorgan/qsoft/Software/Cell/CellDemo/20140119_output/day1/gel2/ZSeries-01192014-1407-208/cat000105.txt -PARAMETERS_NAME  /Users/amorgan/qsoft/Software/Cell/sexconfig/cell.param  -FILTER_NAME /Users/amorgan/qsoft/Software/Cell/sexconfig/gauss_3.0_7x7.conv  -CHECKIMAGE_TYPE APERTURES,SEGMENTATION,BACKGROUND  -CHECKIMAGE_NAME /Users/amorgan/qsoft/Software/Cell/CellDemo/20140119_output/day1/gel2/ZSeries-01192014-1407-208/ap_000105.fits,/Users/amorgan/qsoft/Software/Cell/CellDemo/20140119_output/day1/gel2/ZSeries-01192014-1407-208/seg_000105.fits,/Users/amorgan/qsoft/Software/Cell/CellDemo/20140119_output/day1/gel2/ZSeries-01192014-1407-208/back_000105.fits "
       ]
      },
      {
       "output_type": "stream",
       "stream": "stdout",
       "text": [
        "\n",
        "sex /Users/amorgan/qsoft/Software/Cell/CellDemo/20140119_output/day1/gel2/ZSeries-01192014-1407-208//000106.fits -c /Users/amorgan/qsoft/Software/Cell/sexconfig/cell.sex  -CATALOG_NAME /Users/amorgan/qsoft/Software/Cell/CellDemo/20140119_output/day1/gel2/ZSeries-01192014-1407-208/cat000106.txt -PARAMETERS_NAME  /Users/amorgan/qsoft/Software/Cell/sexconfig/cell.param  -FILTER_NAME /Users/amorgan/qsoft/Software/Cell/sexconfig/gauss_3.0_7x7.conv  -CHECKIMAGE_TYPE APERTURES,SEGMENTATION,BACKGROUND  -CHECKIMAGE_NAME /Users/amorgan/qsoft/Software/Cell/CellDemo/20140119_output/day1/gel2/ZSeries-01192014-1407-208/ap_000106.fits,/Users/amorgan/qsoft/Software/Cell/CellDemo/20140119_output/day1/gel2/ZSeries-01192014-1407-208/seg_000106.fits,/Users/amorgan/qsoft/Software/Cell/CellDemo/20140119_output/day1/gel2/ZSeries-01192014-1407-208/back_000106.fits "
       ]
      },
      {
       "output_type": "stream",
       "stream": "stdout",
       "text": [
        "\n",
        "sex /Users/amorgan/qsoft/Software/Cell/CellDemo/20140119_output/day1/gel2/ZSeries-01192014-1407-208//000107.fits -c /Users/amorgan/qsoft/Software/Cell/sexconfig/cell.sex  -CATALOG_NAME /Users/amorgan/qsoft/Software/Cell/CellDemo/20140119_output/day1/gel2/ZSeries-01192014-1407-208/cat000107.txt -PARAMETERS_NAME  /Users/amorgan/qsoft/Software/Cell/sexconfig/cell.param  -FILTER_NAME /Users/amorgan/qsoft/Software/Cell/sexconfig/gauss_3.0_7x7.conv  -CHECKIMAGE_TYPE APERTURES,SEGMENTATION,BACKGROUND  -CHECKIMAGE_NAME /Users/amorgan/qsoft/Software/Cell/CellDemo/20140119_output/day1/gel2/ZSeries-01192014-1407-208/ap_000107.fits,/Users/amorgan/qsoft/Software/Cell/CellDemo/20140119_output/day1/gel2/ZSeries-01192014-1407-208/seg_000107.fits,/Users/amorgan/qsoft/Software/Cell/CellDemo/20140119_output/day1/gel2/ZSeries-01192014-1407-208/back_000107.fits "
       ]
      },
      {
       "output_type": "stream",
       "stream": "stdout",
       "text": [
        "\n",
        "sex /Users/amorgan/qsoft/Software/Cell/CellDemo/20140119_output/day1/gel2/ZSeries-01192014-1407-208//000108.fits -c /Users/amorgan/qsoft/Software/Cell/sexconfig/cell.sex  -CATALOG_NAME /Users/amorgan/qsoft/Software/Cell/CellDemo/20140119_output/day1/gel2/ZSeries-01192014-1407-208/cat000108.txt -PARAMETERS_NAME  /Users/amorgan/qsoft/Software/Cell/sexconfig/cell.param  -FILTER_NAME /Users/amorgan/qsoft/Software/Cell/sexconfig/gauss_3.0_7x7.conv  -CHECKIMAGE_TYPE APERTURES,SEGMENTATION,BACKGROUND  -CHECKIMAGE_NAME /Users/amorgan/qsoft/Software/Cell/CellDemo/20140119_output/day1/gel2/ZSeries-01192014-1407-208/ap_000108.fits,/Users/amorgan/qsoft/Software/Cell/CellDemo/20140119_output/day1/gel2/ZSeries-01192014-1407-208/seg_000108.fits,/Users/amorgan/qsoft/Software/Cell/CellDemo/20140119_output/day1/gel2/ZSeries-01192014-1407-208/back_000108.fits "
       ]
      },
      {
       "output_type": "stream",
       "stream": "stdout",
       "text": [
        "\n",
        "sex /Users/amorgan/qsoft/Software/Cell/CellDemo/20140119_output/day1/gel2/ZSeries-01192014-1407-208//000109.fits -c /Users/amorgan/qsoft/Software/Cell/sexconfig/cell.sex  -CATALOG_NAME /Users/amorgan/qsoft/Software/Cell/CellDemo/20140119_output/day1/gel2/ZSeries-01192014-1407-208/cat000109.txt -PARAMETERS_NAME  /Users/amorgan/qsoft/Software/Cell/sexconfig/cell.param  -FILTER_NAME /Users/amorgan/qsoft/Software/Cell/sexconfig/gauss_3.0_7x7.conv  -CHECKIMAGE_TYPE APERTURES,SEGMENTATION,BACKGROUND  -CHECKIMAGE_NAME /Users/amorgan/qsoft/Software/Cell/CellDemo/20140119_output/day1/gel2/ZSeries-01192014-1407-208/ap_000109.fits,/Users/amorgan/qsoft/Software/Cell/CellDemo/20140119_output/day1/gel2/ZSeries-01192014-1407-208/seg_000109.fits,/Users/amorgan/qsoft/Software/Cell/CellDemo/20140119_output/day1/gel2/ZSeries-01192014-1407-208/back_000109.fits "
       ]
      },
      {
       "output_type": "stream",
       "stream": "stdout",
       "text": [
        "\n",
        "sex /Users/amorgan/qsoft/Software/Cell/CellDemo/20140119_output/day1/gel2/ZSeries-01192014-1407-208//000110.fits -c /Users/amorgan/qsoft/Software/Cell/sexconfig/cell.sex  -CATALOG_NAME /Users/amorgan/qsoft/Software/Cell/CellDemo/20140119_output/day1/gel2/ZSeries-01192014-1407-208/cat000110.txt -PARAMETERS_NAME  /Users/amorgan/qsoft/Software/Cell/sexconfig/cell.param  -FILTER_NAME /Users/amorgan/qsoft/Software/Cell/sexconfig/gauss_3.0_7x7.conv  -CHECKIMAGE_TYPE APERTURES,SEGMENTATION,BACKGROUND  -CHECKIMAGE_NAME /Users/amorgan/qsoft/Software/Cell/CellDemo/20140119_output/day1/gel2/ZSeries-01192014-1407-208/ap_000110.fits,/Users/amorgan/qsoft/Software/Cell/CellDemo/20140119_output/day1/gel2/ZSeries-01192014-1407-208/seg_000110.fits,/Users/amorgan/qsoft/Software/Cell/CellDemo/20140119_output/day1/gel2/ZSeries-01192014-1407-208/back_000110.fits "
       ]
      },
      {
       "output_type": "stream",
       "stream": "stdout",
       "text": [
        "\n",
        "sex /Users/amorgan/qsoft/Software/Cell/CellDemo/20140119_output/day1/gel2/ZSeries-01192014-1407-208//000111.fits -c /Users/amorgan/qsoft/Software/Cell/sexconfig/cell.sex  -CATALOG_NAME /Users/amorgan/qsoft/Software/Cell/CellDemo/20140119_output/day1/gel2/ZSeries-01192014-1407-208/cat000111.txt -PARAMETERS_NAME  /Users/amorgan/qsoft/Software/Cell/sexconfig/cell.param  -FILTER_NAME /Users/amorgan/qsoft/Software/Cell/sexconfig/gauss_3.0_7x7.conv  -CHECKIMAGE_TYPE APERTURES,SEGMENTATION,BACKGROUND  -CHECKIMAGE_NAME /Users/amorgan/qsoft/Software/Cell/CellDemo/20140119_output/day1/gel2/ZSeries-01192014-1407-208/ap_000111.fits,/Users/amorgan/qsoft/Software/Cell/CellDemo/20140119_output/day1/gel2/ZSeries-01192014-1407-208/seg_000111.fits,/Users/amorgan/qsoft/Software/Cell/CellDemo/20140119_output/day1/gel2/ZSeries-01192014-1407-208/back_000111.fits "
       ]
      },
      {
       "output_type": "stream",
       "stream": "stdout",
       "text": [
        "\n",
        "sex /Users/amorgan/qsoft/Software/Cell/CellDemo/20140119_output/day1/gel2/ZSeries-01192014-1407-208//000112.fits -c /Users/amorgan/qsoft/Software/Cell/sexconfig/cell.sex  -CATALOG_NAME /Users/amorgan/qsoft/Software/Cell/CellDemo/20140119_output/day1/gel2/ZSeries-01192014-1407-208/cat000112.txt -PARAMETERS_NAME  /Users/amorgan/qsoft/Software/Cell/sexconfig/cell.param  -FILTER_NAME /Users/amorgan/qsoft/Software/Cell/sexconfig/gauss_3.0_7x7.conv  -CHECKIMAGE_TYPE APERTURES,SEGMENTATION,BACKGROUND  -CHECKIMAGE_NAME /Users/amorgan/qsoft/Software/Cell/CellDemo/20140119_output/day1/gel2/ZSeries-01192014-1407-208/ap_000112.fits,/Users/amorgan/qsoft/Software/Cell/CellDemo/20140119_output/day1/gel2/ZSeries-01192014-1407-208/seg_000112.fits,/Users/amorgan/qsoft/Software/Cell/CellDemo/20140119_output/day1/gel2/ZSeries-01192014-1407-208/back_000112.fits "
       ]
      },
      {
       "output_type": "stream",
       "stream": "stdout",
       "text": [
        "\n",
        "sex /Users/amorgan/qsoft/Software/Cell/CellDemo/20140119_output/day1/gel2/ZSeries-01192014-1407-208//000113.fits -c /Users/amorgan/qsoft/Software/Cell/sexconfig/cell.sex  -CATALOG_NAME /Users/amorgan/qsoft/Software/Cell/CellDemo/20140119_output/day1/gel2/ZSeries-01192014-1407-208/cat000113.txt -PARAMETERS_NAME  /Users/amorgan/qsoft/Software/Cell/sexconfig/cell.param  -FILTER_NAME /Users/amorgan/qsoft/Software/Cell/sexconfig/gauss_3.0_7x7.conv  -CHECKIMAGE_TYPE APERTURES,SEGMENTATION,BACKGROUND  -CHECKIMAGE_NAME /Users/amorgan/qsoft/Software/Cell/CellDemo/20140119_output/day1/gel2/ZSeries-01192014-1407-208/ap_000113.fits,/Users/amorgan/qsoft/Software/Cell/CellDemo/20140119_output/day1/gel2/ZSeries-01192014-1407-208/seg_000113.fits,/Users/amorgan/qsoft/Software/Cell/CellDemo/20140119_output/day1/gel2/ZSeries-01192014-1407-208/back_000113.fits "
       ]
      },
      {
       "output_type": "stream",
       "stream": "stdout",
       "text": [
        "\n",
        "sex /Users/amorgan/qsoft/Software/Cell/CellDemo/20140119_output/day1/gel2/ZSeries-01192014-1407-208//000114.fits -c /Users/amorgan/qsoft/Software/Cell/sexconfig/cell.sex  -CATALOG_NAME /Users/amorgan/qsoft/Software/Cell/CellDemo/20140119_output/day1/gel2/ZSeries-01192014-1407-208/cat000114.txt -PARAMETERS_NAME  /Users/amorgan/qsoft/Software/Cell/sexconfig/cell.param  -FILTER_NAME /Users/amorgan/qsoft/Software/Cell/sexconfig/gauss_3.0_7x7.conv  -CHECKIMAGE_TYPE APERTURES,SEGMENTATION,BACKGROUND  -CHECKIMAGE_NAME /Users/amorgan/qsoft/Software/Cell/CellDemo/20140119_output/day1/gel2/ZSeries-01192014-1407-208/ap_000114.fits,/Users/amorgan/qsoft/Software/Cell/CellDemo/20140119_output/day1/gel2/ZSeries-01192014-1407-208/seg_000114.fits,/Users/amorgan/qsoft/Software/Cell/CellDemo/20140119_output/day1/gel2/ZSeries-01192014-1407-208/back_000114.fits "
       ]
      },
      {
       "output_type": "stream",
       "stream": "stdout",
       "text": [
        "\n",
        "sex /Users/amorgan/qsoft/Software/Cell/CellDemo/20140119_output/day1/gel2/ZSeries-01192014-1407-208//000115.fits -c /Users/amorgan/qsoft/Software/Cell/sexconfig/cell.sex  -CATALOG_NAME /Users/amorgan/qsoft/Software/Cell/CellDemo/20140119_output/day1/gel2/ZSeries-01192014-1407-208/cat000115.txt -PARAMETERS_NAME  /Users/amorgan/qsoft/Software/Cell/sexconfig/cell.param  -FILTER_NAME /Users/amorgan/qsoft/Software/Cell/sexconfig/gauss_3.0_7x7.conv  -CHECKIMAGE_TYPE APERTURES,SEGMENTATION,BACKGROUND  -CHECKIMAGE_NAME /Users/amorgan/qsoft/Software/Cell/CellDemo/20140119_output/day1/gel2/ZSeries-01192014-1407-208/ap_000115.fits,/Users/amorgan/qsoft/Software/Cell/CellDemo/20140119_output/day1/gel2/ZSeries-01192014-1407-208/seg_000115.fits,/Users/amorgan/qsoft/Software/Cell/CellDemo/20140119_output/day1/gel2/ZSeries-01192014-1407-208/back_000115.fits "
       ]
      },
      {
       "output_type": "stream",
       "stream": "stdout",
       "text": [
        "\n",
        "sex /Users/amorgan/qsoft/Software/Cell/CellDemo/20140119_output/day1/gel2/ZSeries-01192014-1407-208//000116.fits -c /Users/amorgan/qsoft/Software/Cell/sexconfig/cell.sex  -CATALOG_NAME /Users/amorgan/qsoft/Software/Cell/CellDemo/20140119_output/day1/gel2/ZSeries-01192014-1407-208/cat000116.txt -PARAMETERS_NAME  /Users/amorgan/qsoft/Software/Cell/sexconfig/cell.param  -FILTER_NAME /Users/amorgan/qsoft/Software/Cell/sexconfig/gauss_3.0_7x7.conv  -CHECKIMAGE_TYPE APERTURES,SEGMENTATION,BACKGROUND  -CHECKIMAGE_NAME /Users/amorgan/qsoft/Software/Cell/CellDemo/20140119_output/day1/gel2/ZSeries-01192014-1407-208/ap_000116.fits,/Users/amorgan/qsoft/Software/Cell/CellDemo/20140119_output/day1/gel2/ZSeries-01192014-1407-208/seg_000116.fits,/Users/amorgan/qsoft/Software/Cell/CellDemo/20140119_output/day1/gel2/ZSeries-01192014-1407-208/back_000116.fits "
       ]
      },
      {
       "output_type": "stream",
       "stream": "stdout",
       "text": [
        "\n",
        "sex /Users/amorgan/qsoft/Software/Cell/CellDemo/20140119_output/day1/gel2/ZSeries-01192014-1407-208//000117.fits -c /Users/amorgan/qsoft/Software/Cell/sexconfig/cell.sex  -CATALOG_NAME /Users/amorgan/qsoft/Software/Cell/CellDemo/20140119_output/day1/gel2/ZSeries-01192014-1407-208/cat000117.txt -PARAMETERS_NAME  /Users/amorgan/qsoft/Software/Cell/sexconfig/cell.param  -FILTER_NAME /Users/amorgan/qsoft/Software/Cell/sexconfig/gauss_3.0_7x7.conv  -CHECKIMAGE_TYPE APERTURES,SEGMENTATION,BACKGROUND  -CHECKIMAGE_NAME /Users/amorgan/qsoft/Software/Cell/CellDemo/20140119_output/day1/gel2/ZSeries-01192014-1407-208/ap_000117.fits,/Users/amorgan/qsoft/Software/Cell/CellDemo/20140119_output/day1/gel2/ZSeries-01192014-1407-208/seg_000117.fits,/Users/amorgan/qsoft/Software/Cell/CellDemo/20140119_output/day1/gel2/ZSeries-01192014-1407-208/back_000117.fits "
       ]
      },
      {
       "output_type": "stream",
       "stream": "stdout",
       "text": [
        "\n",
        "sex /Users/amorgan/qsoft/Software/Cell/CellDemo/20140119_output/day1/gel2/ZSeries-01192014-1407-208//000118.fits -c /Users/amorgan/qsoft/Software/Cell/sexconfig/cell.sex  -CATALOG_NAME /Users/amorgan/qsoft/Software/Cell/CellDemo/20140119_output/day1/gel2/ZSeries-01192014-1407-208/cat000118.txt -PARAMETERS_NAME  /Users/amorgan/qsoft/Software/Cell/sexconfig/cell.param  -FILTER_NAME /Users/amorgan/qsoft/Software/Cell/sexconfig/gauss_3.0_7x7.conv  -CHECKIMAGE_TYPE APERTURES,SEGMENTATION,BACKGROUND  -CHECKIMAGE_NAME /Users/amorgan/qsoft/Software/Cell/CellDemo/20140119_output/day1/gel2/ZSeries-01192014-1407-208/ap_000118.fits,/Users/amorgan/qsoft/Software/Cell/CellDemo/20140119_output/day1/gel2/ZSeries-01192014-1407-208/seg_000118.fits,/Users/amorgan/qsoft/Software/Cell/CellDemo/20140119_output/day1/gel2/ZSeries-01192014-1407-208/back_000118.fits "
       ]
      },
      {
       "output_type": "stream",
       "stream": "stdout",
       "text": [
        "\n",
        "sex /Users/amorgan/qsoft/Software/Cell/CellDemo/20140119_output/day1/gel2/ZSeries-01192014-1407-208//000119.fits -c /Users/amorgan/qsoft/Software/Cell/sexconfig/cell.sex  -CATALOG_NAME /Users/amorgan/qsoft/Software/Cell/CellDemo/20140119_output/day1/gel2/ZSeries-01192014-1407-208/cat000119.txt -PARAMETERS_NAME  /Users/amorgan/qsoft/Software/Cell/sexconfig/cell.param  -FILTER_NAME /Users/amorgan/qsoft/Software/Cell/sexconfig/gauss_3.0_7x7.conv  -CHECKIMAGE_TYPE APERTURES,SEGMENTATION,BACKGROUND  -CHECKIMAGE_NAME /Users/amorgan/qsoft/Software/Cell/CellDemo/20140119_output/day1/gel2/ZSeries-01192014-1407-208/ap_000119.fits,/Users/amorgan/qsoft/Software/Cell/CellDemo/20140119_output/day1/gel2/ZSeries-01192014-1407-208/seg_000119.fits,/Users/amorgan/qsoft/Software/Cell/CellDemo/20140119_output/day1/gel2/ZSeries-01192014-1407-208/back_000119.fits "
       ]
      },
      {
       "output_type": "stream",
       "stream": "stdout",
       "text": [
        "\n",
        "sex /Users/amorgan/qsoft/Software/Cell/CellDemo/20140119_output/day1/gel2/ZSeries-01192014-1407-208//000120.fits -c /Users/amorgan/qsoft/Software/Cell/sexconfig/cell.sex  -CATALOG_NAME /Users/amorgan/qsoft/Software/Cell/CellDemo/20140119_output/day1/gel2/ZSeries-01192014-1407-208/cat000120.txt -PARAMETERS_NAME  /Users/amorgan/qsoft/Software/Cell/sexconfig/cell.param  -FILTER_NAME /Users/amorgan/qsoft/Software/Cell/sexconfig/gauss_3.0_7x7.conv  -CHECKIMAGE_TYPE APERTURES,SEGMENTATION,BACKGROUND  -CHECKIMAGE_NAME /Users/amorgan/qsoft/Software/Cell/CellDemo/20140119_output/day1/gel2/ZSeries-01192014-1407-208/ap_000120.fits,/Users/amorgan/qsoft/Software/Cell/CellDemo/20140119_output/day1/gel2/ZSeries-01192014-1407-208/seg_000120.fits,/Users/amorgan/qsoft/Software/Cell/CellDemo/20140119_output/day1/gel2/ZSeries-01192014-1407-208/back_000120.fits "
       ]
      },
      {
       "output_type": "stream",
       "stream": "stdout",
       "text": [
        "\n",
        "sex /Users/amorgan/qsoft/Software/Cell/CellDemo/20140119_output/day1/gel2/ZSeries-01192014-1407-208//000121.fits -c /Users/amorgan/qsoft/Software/Cell/sexconfig/cell.sex  -CATALOG_NAME /Users/amorgan/qsoft/Software/Cell/CellDemo/20140119_output/day1/gel2/ZSeries-01192014-1407-208/cat000121.txt -PARAMETERS_NAME  /Users/amorgan/qsoft/Software/Cell/sexconfig/cell.param  -FILTER_NAME /Users/amorgan/qsoft/Software/Cell/sexconfig/gauss_3.0_7x7.conv  -CHECKIMAGE_TYPE APERTURES,SEGMENTATION,BACKGROUND  -CHECKIMAGE_NAME /Users/amorgan/qsoft/Software/Cell/CellDemo/20140119_output/day1/gel2/ZSeries-01192014-1407-208/ap_000121.fits,/Users/amorgan/qsoft/Software/Cell/CellDemo/20140119_output/day1/gel2/ZSeries-01192014-1407-208/seg_000121.fits,/Users/amorgan/qsoft/Software/Cell/CellDemo/20140119_output/day1/gel2/ZSeries-01192014-1407-208/back_000121.fits "
       ]
      },
      {
       "output_type": "stream",
       "stream": "stdout",
       "text": [
        "\n",
        "sex /Users/amorgan/qsoft/Software/Cell/CellDemo/20140119_output/day1/gel2/ZSeries-01192014-1407-208//000122.fits -c /Users/amorgan/qsoft/Software/Cell/sexconfig/cell.sex  -CATALOG_NAME /Users/amorgan/qsoft/Software/Cell/CellDemo/20140119_output/day1/gel2/ZSeries-01192014-1407-208/cat000122.txt -PARAMETERS_NAME  /Users/amorgan/qsoft/Software/Cell/sexconfig/cell.param  -FILTER_NAME /Users/amorgan/qsoft/Software/Cell/sexconfig/gauss_3.0_7x7.conv  -CHECKIMAGE_TYPE APERTURES,SEGMENTATION,BACKGROUND  -CHECKIMAGE_NAME /Users/amorgan/qsoft/Software/Cell/CellDemo/20140119_output/day1/gel2/ZSeries-01192014-1407-208/ap_000122.fits,/Users/amorgan/qsoft/Software/Cell/CellDemo/20140119_output/day1/gel2/ZSeries-01192014-1407-208/seg_000122.fits,/Users/amorgan/qsoft/Software/Cell/CellDemo/20140119_output/day1/gel2/ZSeries-01192014-1407-208/back_000122.fits "
       ]
      },
      {
       "output_type": "stream",
       "stream": "stdout",
       "text": [
        "\n",
        "sex /Users/amorgan/qsoft/Software/Cell/CellDemo/20140119_output/day1/gel2/ZSeries-01192014-1407-208//000123.fits -c /Users/amorgan/qsoft/Software/Cell/sexconfig/cell.sex  -CATALOG_NAME /Users/amorgan/qsoft/Software/Cell/CellDemo/20140119_output/day1/gel2/ZSeries-01192014-1407-208/cat000123.txt -PARAMETERS_NAME  /Users/amorgan/qsoft/Software/Cell/sexconfig/cell.param  -FILTER_NAME /Users/amorgan/qsoft/Software/Cell/sexconfig/gauss_3.0_7x7.conv  -CHECKIMAGE_TYPE APERTURES,SEGMENTATION,BACKGROUND  -CHECKIMAGE_NAME /Users/amorgan/qsoft/Software/Cell/CellDemo/20140119_output/day1/gel2/ZSeries-01192014-1407-208/ap_000123.fits,/Users/amorgan/qsoft/Software/Cell/CellDemo/20140119_output/day1/gel2/ZSeries-01192014-1407-208/seg_000123.fits,/Users/amorgan/qsoft/Software/Cell/CellDemo/20140119_output/day1/gel2/ZSeries-01192014-1407-208/back_000123.fits "
       ]
      },
      {
       "output_type": "stream",
       "stream": "stdout",
       "text": [
        "\n",
        "sex /Users/amorgan/qsoft/Software/Cell/CellDemo/20140119_output/day1/gel2/ZSeries-01192014-1407-208//000124.fits -c /Users/amorgan/qsoft/Software/Cell/sexconfig/cell.sex  -CATALOG_NAME /Users/amorgan/qsoft/Software/Cell/CellDemo/20140119_output/day1/gel2/ZSeries-01192014-1407-208/cat000124.txt -PARAMETERS_NAME  /Users/amorgan/qsoft/Software/Cell/sexconfig/cell.param  -FILTER_NAME /Users/amorgan/qsoft/Software/Cell/sexconfig/gauss_3.0_7x7.conv  -CHECKIMAGE_TYPE APERTURES,SEGMENTATION,BACKGROUND  -CHECKIMAGE_NAME /Users/amorgan/qsoft/Software/Cell/CellDemo/20140119_output/day1/gel2/ZSeries-01192014-1407-208/ap_000124.fits,/Users/amorgan/qsoft/Software/Cell/CellDemo/20140119_output/day1/gel2/ZSeries-01192014-1407-208/seg_000124.fits,/Users/amorgan/qsoft/Software/Cell/CellDemo/20140119_output/day1/gel2/ZSeries-01192014-1407-208/back_000124.fits "
       ]
      },
      {
       "output_type": "stream",
       "stream": "stdout",
       "text": [
        "\n",
        "sex /Users/amorgan/qsoft/Software/Cell/CellDemo/20140119_output/day1/gel2/ZSeries-01192014-1407-208//000125.fits -c /Users/amorgan/qsoft/Software/Cell/sexconfig/cell.sex  -CATALOG_NAME /Users/amorgan/qsoft/Software/Cell/CellDemo/20140119_output/day1/gel2/ZSeries-01192014-1407-208/cat000125.txt -PARAMETERS_NAME  /Users/amorgan/qsoft/Software/Cell/sexconfig/cell.param  -FILTER_NAME /Users/amorgan/qsoft/Software/Cell/sexconfig/gauss_3.0_7x7.conv  -CHECKIMAGE_TYPE APERTURES,SEGMENTATION,BACKGROUND  -CHECKIMAGE_NAME /Users/amorgan/qsoft/Software/Cell/CellDemo/20140119_output/day1/gel2/ZSeries-01192014-1407-208/ap_000125.fits,/Users/amorgan/qsoft/Software/Cell/CellDemo/20140119_output/day1/gel2/ZSeries-01192014-1407-208/seg_000125.fits,/Users/amorgan/qsoft/Software/Cell/CellDemo/20140119_output/day1/gel2/ZSeries-01192014-1407-208/back_000125.fits "
       ]
      },
      {
       "output_type": "stream",
       "stream": "stdout",
       "text": [
        "\n",
        "sex /Users/amorgan/qsoft/Software/Cell/CellDemo/20140119_output/day1/gel2/ZSeries-01192014-1407-208//000126.fits -c /Users/amorgan/qsoft/Software/Cell/sexconfig/cell.sex  -CATALOG_NAME /Users/amorgan/qsoft/Software/Cell/CellDemo/20140119_output/day1/gel2/ZSeries-01192014-1407-208/cat000126.txt -PARAMETERS_NAME  /Users/amorgan/qsoft/Software/Cell/sexconfig/cell.param  -FILTER_NAME /Users/amorgan/qsoft/Software/Cell/sexconfig/gauss_3.0_7x7.conv  -CHECKIMAGE_TYPE APERTURES,SEGMENTATION,BACKGROUND  -CHECKIMAGE_NAME /Users/amorgan/qsoft/Software/Cell/CellDemo/20140119_output/day1/gel2/ZSeries-01192014-1407-208/ap_000126.fits,/Users/amorgan/qsoft/Software/Cell/CellDemo/20140119_output/day1/gel2/ZSeries-01192014-1407-208/seg_000126.fits,/Users/amorgan/qsoft/Software/Cell/CellDemo/20140119_output/day1/gel2/ZSeries-01192014-1407-208/back_000126.fits "
       ]
      },
      {
       "output_type": "stream",
       "stream": "stdout",
       "text": [
        "\n",
        "sex /Users/amorgan/qsoft/Software/Cell/CellDemo/20140119_output/day1/gel2/ZSeries-01192014-1407-208//000127.fits -c /Users/amorgan/qsoft/Software/Cell/sexconfig/cell.sex  -CATALOG_NAME /Users/amorgan/qsoft/Software/Cell/CellDemo/20140119_output/day1/gel2/ZSeries-01192014-1407-208/cat000127.txt -PARAMETERS_NAME  /Users/amorgan/qsoft/Software/Cell/sexconfig/cell.param  -FILTER_NAME /Users/amorgan/qsoft/Software/Cell/sexconfig/gauss_3.0_7x7.conv  -CHECKIMAGE_TYPE APERTURES,SEGMENTATION,BACKGROUND  -CHECKIMAGE_NAME /Users/amorgan/qsoft/Software/Cell/CellDemo/20140119_output/day1/gel2/ZSeries-01192014-1407-208/ap_000127.fits,/Users/amorgan/qsoft/Software/Cell/CellDemo/20140119_output/day1/gel2/ZSeries-01192014-1407-208/seg_000127.fits,/Users/amorgan/qsoft/Software/Cell/CellDemo/20140119_output/day1/gel2/ZSeries-01192014-1407-208/back_000127.fits "
       ]
      },
      {
       "output_type": "stream",
       "stream": "stdout",
       "text": [
        "\n",
        "sex /Users/amorgan/qsoft/Software/Cell/CellDemo/20140119_output/day1/gel2/ZSeries-01192014-1407-208//000128.fits -c /Users/amorgan/qsoft/Software/Cell/sexconfig/cell.sex  -CATALOG_NAME /Users/amorgan/qsoft/Software/Cell/CellDemo/20140119_output/day1/gel2/ZSeries-01192014-1407-208/cat000128.txt -PARAMETERS_NAME  /Users/amorgan/qsoft/Software/Cell/sexconfig/cell.param  -FILTER_NAME /Users/amorgan/qsoft/Software/Cell/sexconfig/gauss_3.0_7x7.conv  -CHECKIMAGE_TYPE APERTURES,SEGMENTATION,BACKGROUND  -CHECKIMAGE_NAME /Users/amorgan/qsoft/Software/Cell/CellDemo/20140119_output/day1/gel2/ZSeries-01192014-1407-208/ap_000128.fits,/Users/amorgan/qsoft/Software/Cell/CellDemo/20140119_output/day1/gel2/ZSeries-01192014-1407-208/seg_000128.fits,/Users/amorgan/qsoft/Software/Cell/CellDemo/20140119_output/day1/gel2/ZSeries-01192014-1407-208/back_000128.fits "
       ]
      },
      {
       "output_type": "stream",
       "stream": "stdout",
       "text": [
        "\n",
        "sex /Users/amorgan/qsoft/Software/Cell/CellDemo/20140119_output/day1/gel2/ZSeries-01192014-1407-208//000129.fits -c /Users/amorgan/qsoft/Software/Cell/sexconfig/cell.sex  -CATALOG_NAME /Users/amorgan/qsoft/Software/Cell/CellDemo/20140119_output/day1/gel2/ZSeries-01192014-1407-208/cat000129.txt -PARAMETERS_NAME  /Users/amorgan/qsoft/Software/Cell/sexconfig/cell.param  -FILTER_NAME /Users/amorgan/qsoft/Software/Cell/sexconfig/gauss_3.0_7x7.conv  -CHECKIMAGE_TYPE APERTURES,SEGMENTATION,BACKGROUND  -CHECKIMAGE_NAME /Users/amorgan/qsoft/Software/Cell/CellDemo/20140119_output/day1/gel2/ZSeries-01192014-1407-208/ap_000129.fits,/Users/amorgan/qsoft/Software/Cell/CellDemo/20140119_output/day1/gel2/ZSeries-01192014-1407-208/seg_000129.fits,/Users/amorgan/qsoft/Software/Cell/CellDemo/20140119_output/day1/gel2/ZSeries-01192014-1407-208/back_000129.fits "
       ]
      },
      {
       "output_type": "stream",
       "stream": "stdout",
       "text": [
        "\n",
        "sex /Users/amorgan/qsoft/Software/Cell/CellDemo/20140119_output/day1/gel2/ZSeries-01192014-1407-208//000130.fits -c /Users/amorgan/qsoft/Software/Cell/sexconfig/cell.sex  -CATALOG_NAME /Users/amorgan/qsoft/Software/Cell/CellDemo/20140119_output/day1/gel2/ZSeries-01192014-1407-208/cat000130.txt -PARAMETERS_NAME  /Users/amorgan/qsoft/Software/Cell/sexconfig/cell.param  -FILTER_NAME /Users/amorgan/qsoft/Software/Cell/sexconfig/gauss_3.0_7x7.conv  -CHECKIMAGE_TYPE APERTURES,SEGMENTATION,BACKGROUND  -CHECKIMAGE_NAME /Users/amorgan/qsoft/Software/Cell/CellDemo/20140119_output/day1/gel2/ZSeries-01192014-1407-208/ap_000130.fits,/Users/amorgan/qsoft/Software/Cell/CellDemo/20140119_output/day1/gel2/ZSeries-01192014-1407-208/seg_000130.fits,/Users/amorgan/qsoft/Software/Cell/CellDemo/20140119_output/day1/gel2/ZSeries-01192014-1407-208/back_000130.fits "
       ]
      },
      {
       "output_type": "stream",
       "stream": "stdout",
       "text": [
        "\n",
        "sex /Users/amorgan/qsoft/Software/Cell/CellDemo/20140119_output/day1/gel2/ZSeries-01192014-1407-208//000131.fits -c /Users/amorgan/qsoft/Software/Cell/sexconfig/cell.sex  -CATALOG_NAME /Users/amorgan/qsoft/Software/Cell/CellDemo/20140119_output/day1/gel2/ZSeries-01192014-1407-208/cat000131.txt -PARAMETERS_NAME  /Users/amorgan/qsoft/Software/Cell/sexconfig/cell.param  -FILTER_NAME /Users/amorgan/qsoft/Software/Cell/sexconfig/gauss_3.0_7x7.conv  -CHECKIMAGE_TYPE APERTURES,SEGMENTATION,BACKGROUND  -CHECKIMAGE_NAME /Users/amorgan/qsoft/Software/Cell/CellDemo/20140119_output/day1/gel2/ZSeries-01192014-1407-208/ap_000131.fits,/Users/amorgan/qsoft/Software/Cell/CellDemo/20140119_output/day1/gel2/ZSeries-01192014-1407-208/seg_000131.fits,/Users/amorgan/qsoft/Software/Cell/CellDemo/20140119_output/day1/gel2/ZSeries-01192014-1407-208/back_000131.fits "
       ]
      },
      {
       "output_type": "stream",
       "stream": "stdout",
       "text": [
        "\n",
        "sex /Users/amorgan/qsoft/Software/Cell/CellDemo/20140119_output/day1/gel2/ZSeries-01192014-1407-208//000132.fits -c /Users/amorgan/qsoft/Software/Cell/sexconfig/cell.sex  -CATALOG_NAME /Users/amorgan/qsoft/Software/Cell/CellDemo/20140119_output/day1/gel2/ZSeries-01192014-1407-208/cat000132.txt -PARAMETERS_NAME  /Users/amorgan/qsoft/Software/Cell/sexconfig/cell.param  -FILTER_NAME /Users/amorgan/qsoft/Software/Cell/sexconfig/gauss_3.0_7x7.conv  -CHECKIMAGE_TYPE APERTURES,SEGMENTATION,BACKGROUND  -CHECKIMAGE_NAME /Users/amorgan/qsoft/Software/Cell/CellDemo/20140119_output/day1/gel2/ZSeries-01192014-1407-208/ap_000132.fits,/Users/amorgan/qsoft/Software/Cell/CellDemo/20140119_output/day1/gel2/ZSeries-01192014-1407-208/seg_000132.fits,/Users/amorgan/qsoft/Software/Cell/CellDemo/20140119_output/day1/gel2/ZSeries-01192014-1407-208/back_000132.fits "
       ]
      },
      {
       "output_type": "stream",
       "stream": "stdout",
       "text": [
        "\n",
        "sex /Users/amorgan/qsoft/Software/Cell/CellDemo/20140119_output/day1/gel2/ZSeries-01192014-1407-208//000133.fits -c /Users/amorgan/qsoft/Software/Cell/sexconfig/cell.sex  -CATALOG_NAME /Users/amorgan/qsoft/Software/Cell/CellDemo/20140119_output/day1/gel2/ZSeries-01192014-1407-208/cat000133.txt -PARAMETERS_NAME  /Users/amorgan/qsoft/Software/Cell/sexconfig/cell.param  -FILTER_NAME /Users/amorgan/qsoft/Software/Cell/sexconfig/gauss_3.0_7x7.conv  -CHECKIMAGE_TYPE APERTURES,SEGMENTATION,BACKGROUND  -CHECKIMAGE_NAME /Users/amorgan/qsoft/Software/Cell/CellDemo/20140119_output/day1/gel2/ZSeries-01192014-1407-208/ap_000133.fits,/Users/amorgan/qsoft/Software/Cell/CellDemo/20140119_output/day1/gel2/ZSeries-01192014-1407-208/seg_000133.fits,/Users/amorgan/qsoft/Software/Cell/CellDemo/20140119_output/day1/gel2/ZSeries-01192014-1407-208/back_000133.fits "
       ]
      },
      {
       "output_type": "stream",
       "stream": "stdout",
       "text": [
        "\n",
        "sex /Users/amorgan/qsoft/Software/Cell/CellDemo/20140119_output/day1/gel2/ZSeries-01192014-1407-208//000134.fits -c /Users/amorgan/qsoft/Software/Cell/sexconfig/cell.sex  -CATALOG_NAME /Users/amorgan/qsoft/Software/Cell/CellDemo/20140119_output/day1/gel2/ZSeries-01192014-1407-208/cat000134.txt -PARAMETERS_NAME  /Users/amorgan/qsoft/Software/Cell/sexconfig/cell.param  -FILTER_NAME /Users/amorgan/qsoft/Software/Cell/sexconfig/gauss_3.0_7x7.conv  -CHECKIMAGE_TYPE APERTURES,SEGMENTATION,BACKGROUND  -CHECKIMAGE_NAME /Users/amorgan/qsoft/Software/Cell/CellDemo/20140119_output/day1/gel2/ZSeries-01192014-1407-208/ap_000134.fits,/Users/amorgan/qsoft/Software/Cell/CellDemo/20140119_output/day1/gel2/ZSeries-01192014-1407-208/seg_000134.fits,/Users/amorgan/qsoft/Software/Cell/CellDemo/20140119_output/day1/gel2/ZSeries-01192014-1407-208/back_000134.fits "
       ]
      },
      {
       "output_type": "stream",
       "stream": "stdout",
       "text": [
        "\n",
        "sex /Users/amorgan/qsoft/Software/Cell/CellDemo/20140119_output/day1/gel2/ZSeries-01192014-1407-208//000135.fits -c /Users/amorgan/qsoft/Software/Cell/sexconfig/cell.sex  -CATALOG_NAME /Users/amorgan/qsoft/Software/Cell/CellDemo/20140119_output/day1/gel2/ZSeries-01192014-1407-208/cat000135.txt -PARAMETERS_NAME  /Users/amorgan/qsoft/Software/Cell/sexconfig/cell.param  -FILTER_NAME /Users/amorgan/qsoft/Software/Cell/sexconfig/gauss_3.0_7x7.conv  -CHECKIMAGE_TYPE APERTURES,SEGMENTATION,BACKGROUND  -CHECKIMAGE_NAME /Users/amorgan/qsoft/Software/Cell/CellDemo/20140119_output/day1/gel2/ZSeries-01192014-1407-208/ap_000135.fits,/Users/amorgan/qsoft/Software/Cell/CellDemo/20140119_output/day1/gel2/ZSeries-01192014-1407-208/seg_000135.fits,/Users/amorgan/qsoft/Software/Cell/CellDemo/20140119_output/day1/gel2/ZSeries-01192014-1407-208/back_000135.fits "
       ]
      },
      {
       "output_type": "stream",
       "stream": "stdout",
       "text": [
        "\n",
        "sex /Users/amorgan/qsoft/Software/Cell/CellDemo/20140119_output/day1/gel2/ZSeries-01192014-1407-208//000136.fits -c /Users/amorgan/qsoft/Software/Cell/sexconfig/cell.sex  -CATALOG_NAME /Users/amorgan/qsoft/Software/Cell/CellDemo/20140119_output/day1/gel2/ZSeries-01192014-1407-208/cat000136.txt -PARAMETERS_NAME  /Users/amorgan/qsoft/Software/Cell/sexconfig/cell.param  -FILTER_NAME /Users/amorgan/qsoft/Software/Cell/sexconfig/gauss_3.0_7x7.conv  -CHECKIMAGE_TYPE APERTURES,SEGMENTATION,BACKGROUND  -CHECKIMAGE_NAME /Users/amorgan/qsoft/Software/Cell/CellDemo/20140119_output/day1/gel2/ZSeries-01192014-1407-208/ap_000136.fits,/Users/amorgan/qsoft/Software/Cell/CellDemo/20140119_output/day1/gel2/ZSeries-01192014-1407-208/seg_000136.fits,/Users/amorgan/qsoft/Software/Cell/CellDemo/20140119_output/day1/gel2/ZSeries-01192014-1407-208/back_000136.fits "
       ]
      },
      {
       "output_type": "stream",
       "stream": "stdout",
       "text": [
        "\n",
        "sex /Users/amorgan/qsoft/Software/Cell/CellDemo/20140119_output/day1/gel2/ZSeries-01192014-1407-208//000137.fits -c /Users/amorgan/qsoft/Software/Cell/sexconfig/cell.sex  -CATALOG_NAME /Users/amorgan/qsoft/Software/Cell/CellDemo/20140119_output/day1/gel2/ZSeries-01192014-1407-208/cat000137.txt -PARAMETERS_NAME  /Users/amorgan/qsoft/Software/Cell/sexconfig/cell.param  -FILTER_NAME /Users/amorgan/qsoft/Software/Cell/sexconfig/gauss_3.0_7x7.conv  -CHECKIMAGE_TYPE APERTURES,SEGMENTATION,BACKGROUND  -CHECKIMAGE_NAME /Users/amorgan/qsoft/Software/Cell/CellDemo/20140119_output/day1/gel2/ZSeries-01192014-1407-208/ap_000137.fits,/Users/amorgan/qsoft/Software/Cell/CellDemo/20140119_output/day1/gel2/ZSeries-01192014-1407-208/seg_000137.fits,/Users/amorgan/qsoft/Software/Cell/CellDemo/20140119_output/day1/gel2/ZSeries-01192014-1407-208/back_000137.fits "
       ]
      },
      {
       "output_type": "stream",
       "stream": "stdout",
       "text": [
        "\n",
        "sex /Users/amorgan/qsoft/Software/Cell/CellDemo/20140119_output/day1/gel2/ZSeries-01192014-1407-208//000138.fits -c /Users/amorgan/qsoft/Software/Cell/sexconfig/cell.sex  -CATALOG_NAME /Users/amorgan/qsoft/Software/Cell/CellDemo/20140119_output/day1/gel2/ZSeries-01192014-1407-208/cat000138.txt -PARAMETERS_NAME  /Users/amorgan/qsoft/Software/Cell/sexconfig/cell.param  -FILTER_NAME /Users/amorgan/qsoft/Software/Cell/sexconfig/gauss_3.0_7x7.conv  -CHECKIMAGE_TYPE APERTURES,SEGMENTATION,BACKGROUND  -CHECKIMAGE_NAME /Users/amorgan/qsoft/Software/Cell/CellDemo/20140119_output/day1/gel2/ZSeries-01192014-1407-208/ap_000138.fits,/Users/amorgan/qsoft/Software/Cell/CellDemo/20140119_output/day1/gel2/ZSeries-01192014-1407-208/seg_000138.fits,/Users/amorgan/qsoft/Software/Cell/CellDemo/20140119_output/day1/gel2/ZSeries-01192014-1407-208/back_000138.fits "
       ]
      },
      {
       "output_type": "stream",
       "stream": "stdout",
       "text": [
        "\n",
        "sex /Users/amorgan/qsoft/Software/Cell/CellDemo/20140119_output/day1/gel2/ZSeries-01192014-1407-208//000139.fits -c /Users/amorgan/qsoft/Software/Cell/sexconfig/cell.sex  -CATALOG_NAME /Users/amorgan/qsoft/Software/Cell/CellDemo/20140119_output/day1/gel2/ZSeries-01192014-1407-208/cat000139.txt -PARAMETERS_NAME  /Users/amorgan/qsoft/Software/Cell/sexconfig/cell.param  -FILTER_NAME /Users/amorgan/qsoft/Software/Cell/sexconfig/gauss_3.0_7x7.conv  -CHECKIMAGE_TYPE APERTURES,SEGMENTATION,BACKGROUND  -CHECKIMAGE_NAME /Users/amorgan/qsoft/Software/Cell/CellDemo/20140119_output/day1/gel2/ZSeries-01192014-1407-208/ap_000139.fits,/Users/amorgan/qsoft/Software/Cell/CellDemo/20140119_output/day1/gel2/ZSeries-01192014-1407-208/seg_000139.fits,/Users/amorgan/qsoft/Software/Cell/CellDemo/20140119_output/day1/gel2/ZSeries-01192014-1407-208/back_000139.fits "
       ]
      },
      {
       "output_type": "stream",
       "stream": "stdout",
       "text": [
        "\n",
        "sex /Users/amorgan/qsoft/Software/Cell/CellDemo/20140119_output/day1/gel2/ZSeries-01192014-1407-208//000140.fits -c /Users/amorgan/qsoft/Software/Cell/sexconfig/cell.sex  -CATALOG_NAME /Users/amorgan/qsoft/Software/Cell/CellDemo/20140119_output/day1/gel2/ZSeries-01192014-1407-208/cat000140.txt -PARAMETERS_NAME  /Users/amorgan/qsoft/Software/Cell/sexconfig/cell.param  -FILTER_NAME /Users/amorgan/qsoft/Software/Cell/sexconfig/gauss_3.0_7x7.conv  -CHECKIMAGE_TYPE APERTURES,SEGMENTATION,BACKGROUND  -CHECKIMAGE_NAME /Users/amorgan/qsoft/Software/Cell/CellDemo/20140119_output/day1/gel2/ZSeries-01192014-1407-208/ap_000140.fits,/Users/amorgan/qsoft/Software/Cell/CellDemo/20140119_output/day1/gel2/ZSeries-01192014-1407-208/seg_000140.fits,/Users/amorgan/qsoft/Software/Cell/CellDemo/20140119_output/day1/gel2/ZSeries-01192014-1407-208/back_000140.fits "
       ]
      },
      {
       "output_type": "stream",
       "stream": "stdout",
       "text": [
        "\n",
        "sex /Users/amorgan/qsoft/Software/Cell/CellDemo/20140119_output/day1/gel2/ZSeries-01192014-1407-208//000141.fits -c /Users/amorgan/qsoft/Software/Cell/sexconfig/cell.sex  -CATALOG_NAME /Users/amorgan/qsoft/Software/Cell/CellDemo/20140119_output/day1/gel2/ZSeries-01192014-1407-208/cat000141.txt -PARAMETERS_NAME  /Users/amorgan/qsoft/Software/Cell/sexconfig/cell.param  -FILTER_NAME /Users/amorgan/qsoft/Software/Cell/sexconfig/gauss_3.0_7x7.conv  -CHECKIMAGE_TYPE APERTURES,SEGMENTATION,BACKGROUND  -CHECKIMAGE_NAME /Users/amorgan/qsoft/Software/Cell/CellDemo/20140119_output/day1/gel2/ZSeries-01192014-1407-208/ap_000141.fits,/Users/amorgan/qsoft/Software/Cell/CellDemo/20140119_output/day1/gel2/ZSeries-01192014-1407-208/seg_000141.fits,/Users/amorgan/qsoft/Software/Cell/CellDemo/20140119_output/day1/gel2/ZSeries-01192014-1407-208/back_000141.fits "
       ]
      },
      {
       "output_type": "stream",
       "stream": "stdout",
       "text": [
        "\n",
        "sex /Users/amorgan/qsoft/Software/Cell/CellDemo/20140119_output/day1/gel2/ZSeries-01192014-1407-208//000142.fits -c /Users/amorgan/qsoft/Software/Cell/sexconfig/cell.sex  -CATALOG_NAME /Users/amorgan/qsoft/Software/Cell/CellDemo/20140119_output/day1/gel2/ZSeries-01192014-1407-208/cat000142.txt -PARAMETERS_NAME  /Users/amorgan/qsoft/Software/Cell/sexconfig/cell.param  -FILTER_NAME /Users/amorgan/qsoft/Software/Cell/sexconfig/gauss_3.0_7x7.conv  -CHECKIMAGE_TYPE APERTURES,SEGMENTATION,BACKGROUND  -CHECKIMAGE_NAME /Users/amorgan/qsoft/Software/Cell/CellDemo/20140119_output/day1/gel2/ZSeries-01192014-1407-208/ap_000142.fits,/Users/amorgan/qsoft/Software/Cell/CellDemo/20140119_output/day1/gel2/ZSeries-01192014-1407-208/seg_000142.fits,/Users/amorgan/qsoft/Software/Cell/CellDemo/20140119_output/day1/gel2/ZSeries-01192014-1407-208/back_000142.fits "
       ]
      },
      {
       "output_type": "stream",
       "stream": "stdout",
       "text": [
        "\n",
        "sex /Users/amorgan/qsoft/Software/Cell/CellDemo/20140119_output/day1/gel2/ZSeries-01192014-1407-208//000143.fits -c /Users/amorgan/qsoft/Software/Cell/sexconfig/cell.sex  -CATALOG_NAME /Users/amorgan/qsoft/Software/Cell/CellDemo/20140119_output/day1/gel2/ZSeries-01192014-1407-208/cat000143.txt -PARAMETERS_NAME  /Users/amorgan/qsoft/Software/Cell/sexconfig/cell.param  -FILTER_NAME /Users/amorgan/qsoft/Software/Cell/sexconfig/gauss_3.0_7x7.conv  -CHECKIMAGE_TYPE APERTURES,SEGMENTATION,BACKGROUND  -CHECKIMAGE_NAME /Users/amorgan/qsoft/Software/Cell/CellDemo/20140119_output/day1/gel2/ZSeries-01192014-1407-208/ap_000143.fits,/Users/amorgan/qsoft/Software/Cell/CellDemo/20140119_output/day1/gel2/ZSeries-01192014-1407-208/seg_000143.fits,/Users/amorgan/qsoft/Software/Cell/CellDemo/20140119_output/day1/gel2/ZSeries-01192014-1407-208/back_000143.fits "
       ]
      },
      {
       "output_type": "stream",
       "stream": "stdout",
       "text": [
        "\n",
        "sex /Users/amorgan/qsoft/Software/Cell/CellDemo/20140119_output/day1/gel2/ZSeries-01192014-1407-208//000144.fits -c /Users/amorgan/qsoft/Software/Cell/sexconfig/cell.sex  -CATALOG_NAME /Users/amorgan/qsoft/Software/Cell/CellDemo/20140119_output/day1/gel2/ZSeries-01192014-1407-208/cat000144.txt -PARAMETERS_NAME  /Users/amorgan/qsoft/Software/Cell/sexconfig/cell.param  -FILTER_NAME /Users/amorgan/qsoft/Software/Cell/sexconfig/gauss_3.0_7x7.conv  -CHECKIMAGE_TYPE APERTURES,SEGMENTATION,BACKGROUND  -CHECKIMAGE_NAME /Users/amorgan/qsoft/Software/Cell/CellDemo/20140119_output/day1/gel2/ZSeries-01192014-1407-208/ap_000144.fits,/Users/amorgan/qsoft/Software/Cell/CellDemo/20140119_output/day1/gel2/ZSeries-01192014-1407-208/seg_000144.fits,/Users/amorgan/qsoft/Software/Cell/CellDemo/20140119_output/day1/gel2/ZSeries-01192014-1407-208/back_000144.fits "
       ]
      },
      {
       "output_type": "stream",
       "stream": "stdout",
       "text": [
        "\n",
        "sex /Users/amorgan/qsoft/Software/Cell/CellDemo/20140119_output/day1/gel2/ZSeries-01192014-1407-208//000145.fits -c /Users/amorgan/qsoft/Software/Cell/sexconfig/cell.sex  -CATALOG_NAME /Users/amorgan/qsoft/Software/Cell/CellDemo/20140119_output/day1/gel2/ZSeries-01192014-1407-208/cat000145.txt -PARAMETERS_NAME  /Users/amorgan/qsoft/Software/Cell/sexconfig/cell.param  -FILTER_NAME /Users/amorgan/qsoft/Software/Cell/sexconfig/gauss_3.0_7x7.conv  -CHECKIMAGE_TYPE APERTURES,SEGMENTATION,BACKGROUND  -CHECKIMAGE_NAME /Users/amorgan/qsoft/Software/Cell/CellDemo/20140119_output/day1/gel2/ZSeries-01192014-1407-208/ap_000145.fits,/Users/amorgan/qsoft/Software/Cell/CellDemo/20140119_output/day1/gel2/ZSeries-01192014-1407-208/seg_000145.fits,/Users/amorgan/qsoft/Software/Cell/CellDemo/20140119_output/day1/gel2/ZSeries-01192014-1407-208/back_000145.fits "
       ]
      },
      {
       "output_type": "stream",
       "stream": "stdout",
       "text": [
        "\n",
        "sex /Users/amorgan/qsoft/Software/Cell/CellDemo/20140119_output/day1/gel2/ZSeries-01192014-1407-208//000146.fits -c /Users/amorgan/qsoft/Software/Cell/sexconfig/cell.sex  -CATALOG_NAME /Users/amorgan/qsoft/Software/Cell/CellDemo/20140119_output/day1/gel2/ZSeries-01192014-1407-208/cat000146.txt -PARAMETERS_NAME  /Users/amorgan/qsoft/Software/Cell/sexconfig/cell.param  -FILTER_NAME /Users/amorgan/qsoft/Software/Cell/sexconfig/gauss_3.0_7x7.conv  -CHECKIMAGE_TYPE APERTURES,SEGMENTATION,BACKGROUND  -CHECKIMAGE_NAME /Users/amorgan/qsoft/Software/Cell/CellDemo/20140119_output/day1/gel2/ZSeries-01192014-1407-208/ap_000146.fits,/Users/amorgan/qsoft/Software/Cell/CellDemo/20140119_output/day1/gel2/ZSeries-01192014-1407-208/seg_000146.fits,/Users/amorgan/qsoft/Software/Cell/CellDemo/20140119_output/day1/gel2/ZSeries-01192014-1407-208/back_000146.fits "
       ]
      },
      {
       "output_type": "stream",
       "stream": "stdout",
       "text": [
        "\n",
        "sex /Users/amorgan/qsoft/Software/Cell/CellDemo/20140119_output/day1/gel2/ZSeries-01192014-1407-208//000147.fits -c /Users/amorgan/qsoft/Software/Cell/sexconfig/cell.sex  -CATALOG_NAME /Users/amorgan/qsoft/Software/Cell/CellDemo/20140119_output/day1/gel2/ZSeries-01192014-1407-208/cat000147.txt -PARAMETERS_NAME  /Users/amorgan/qsoft/Software/Cell/sexconfig/cell.param  -FILTER_NAME /Users/amorgan/qsoft/Software/Cell/sexconfig/gauss_3.0_7x7.conv  -CHECKIMAGE_TYPE APERTURES,SEGMENTATION,BACKGROUND  -CHECKIMAGE_NAME /Users/amorgan/qsoft/Software/Cell/CellDemo/20140119_output/day1/gel2/ZSeries-01192014-1407-208/ap_000147.fits,/Users/amorgan/qsoft/Software/Cell/CellDemo/20140119_output/day1/gel2/ZSeries-01192014-1407-208/seg_000147.fits,/Users/amorgan/qsoft/Software/Cell/CellDemo/20140119_output/day1/gel2/ZSeries-01192014-1407-208/back_000147.fits "
       ]
      },
      {
       "output_type": "stream",
       "stream": "stdout",
       "text": [
        "\n",
        "sex /Users/amorgan/qsoft/Software/Cell/CellDemo/20140119_output/day1/gel2/ZSeries-01192014-1407-208//000148.fits -c /Users/amorgan/qsoft/Software/Cell/sexconfig/cell.sex  -CATALOG_NAME /Users/amorgan/qsoft/Software/Cell/CellDemo/20140119_output/day1/gel2/ZSeries-01192014-1407-208/cat000148.txt -PARAMETERS_NAME  /Users/amorgan/qsoft/Software/Cell/sexconfig/cell.param  -FILTER_NAME /Users/amorgan/qsoft/Software/Cell/sexconfig/gauss_3.0_7x7.conv  -CHECKIMAGE_TYPE APERTURES,SEGMENTATION,BACKGROUND  -CHECKIMAGE_NAME /Users/amorgan/qsoft/Software/Cell/CellDemo/20140119_output/day1/gel2/ZSeries-01192014-1407-208/ap_000148.fits,/Users/amorgan/qsoft/Software/Cell/CellDemo/20140119_output/day1/gel2/ZSeries-01192014-1407-208/seg_000148.fits,/Users/amorgan/qsoft/Software/Cell/CellDemo/20140119_output/day1/gel2/ZSeries-01192014-1407-208/back_000148.fits "
       ]
      },
      {
       "output_type": "stream",
       "stream": "stdout",
       "text": [
        "\n",
        "sex /Users/amorgan/qsoft/Software/Cell/CellDemo/20140119_output/day1/gel2/ZSeries-01192014-1407-208//000149.fits -c /Users/amorgan/qsoft/Software/Cell/sexconfig/cell.sex  -CATALOG_NAME /Users/amorgan/qsoft/Software/Cell/CellDemo/20140119_output/day1/gel2/ZSeries-01192014-1407-208/cat000149.txt -PARAMETERS_NAME  /Users/amorgan/qsoft/Software/Cell/sexconfig/cell.param  -FILTER_NAME /Users/amorgan/qsoft/Software/Cell/sexconfig/gauss_3.0_7x7.conv  -CHECKIMAGE_TYPE APERTURES,SEGMENTATION,BACKGROUND  -CHECKIMAGE_NAME /Users/amorgan/qsoft/Software/Cell/CellDemo/20140119_output/day1/gel2/ZSeries-01192014-1407-208/ap_000149.fits,/Users/amorgan/qsoft/Software/Cell/CellDemo/20140119_output/day1/gel2/ZSeries-01192014-1407-208/seg_000149.fits,/Users/amorgan/qsoft/Software/Cell/CellDemo/20140119_output/day1/gel2/ZSeries-01192014-1407-208/back_000149.fits "
       ]
      },
      {
       "output_type": "stream",
       "stream": "stdout",
       "text": [
        "\n",
        "sex /Users/amorgan/qsoft/Software/Cell/CellDemo/20140119_output/day1/gel2/ZSeries-01192014-1407-208//000150.fits -c /Users/amorgan/qsoft/Software/Cell/sexconfig/cell.sex  -CATALOG_NAME /Users/amorgan/qsoft/Software/Cell/CellDemo/20140119_output/day1/gel2/ZSeries-01192014-1407-208/cat000150.txt -PARAMETERS_NAME  /Users/amorgan/qsoft/Software/Cell/sexconfig/cell.param  -FILTER_NAME /Users/amorgan/qsoft/Software/Cell/sexconfig/gauss_3.0_7x7.conv  -CHECKIMAGE_TYPE APERTURES,SEGMENTATION,BACKGROUND  -CHECKIMAGE_NAME /Users/amorgan/qsoft/Software/Cell/CellDemo/20140119_output/day1/gel2/ZSeries-01192014-1407-208/ap_000150.fits,/Users/amorgan/qsoft/Software/Cell/CellDemo/20140119_output/day1/gel2/ZSeries-01192014-1407-208/seg_000150.fits,/Users/amorgan/qsoft/Software/Cell/CellDemo/20140119_output/day1/gel2/ZSeries-01192014-1407-208/back_000150.fits "
       ]
      },
      {
       "output_type": "stream",
       "stream": "stdout",
       "text": [
        "\n",
        "sex /Users/amorgan/qsoft/Software/Cell/CellDemo/20140119_output/day1/gel2/ZSeries-01192014-1407-208//000151.fits -c /Users/amorgan/qsoft/Software/Cell/sexconfig/cell.sex  -CATALOG_NAME /Users/amorgan/qsoft/Software/Cell/CellDemo/20140119_output/day1/gel2/ZSeries-01192014-1407-208/cat000151.txt -PARAMETERS_NAME  /Users/amorgan/qsoft/Software/Cell/sexconfig/cell.param  -FILTER_NAME /Users/amorgan/qsoft/Software/Cell/sexconfig/gauss_3.0_7x7.conv  -CHECKIMAGE_TYPE APERTURES,SEGMENTATION,BACKGROUND  -CHECKIMAGE_NAME /Users/amorgan/qsoft/Software/Cell/CellDemo/20140119_output/day1/gel2/ZSeries-01192014-1407-208/ap_000151.fits,/Users/amorgan/qsoft/Software/Cell/CellDemo/20140119_output/day1/gel2/ZSeries-01192014-1407-208/seg_000151.fits,/Users/amorgan/qsoft/Software/Cell/CellDemo/20140119_output/day1/gel2/ZSeries-01192014-1407-208/back_000151.fits "
       ]
      },
      {
       "output_type": "stream",
       "stream": "stdout",
       "text": [
        "\n",
        "sex /Users/amorgan/qsoft/Software/Cell/CellDemo/20140119_output/day1/gel2/ZSeries-01192014-1407-208//000152.fits -c /Users/amorgan/qsoft/Software/Cell/sexconfig/cell.sex  -CATALOG_NAME /Users/amorgan/qsoft/Software/Cell/CellDemo/20140119_output/day1/gel2/ZSeries-01192014-1407-208/cat000152.txt -PARAMETERS_NAME  /Users/amorgan/qsoft/Software/Cell/sexconfig/cell.param  -FILTER_NAME /Users/amorgan/qsoft/Software/Cell/sexconfig/gauss_3.0_7x7.conv  -CHECKIMAGE_TYPE APERTURES,SEGMENTATION,BACKGROUND  -CHECKIMAGE_NAME /Users/amorgan/qsoft/Software/Cell/CellDemo/20140119_output/day1/gel2/ZSeries-01192014-1407-208/ap_000152.fits,/Users/amorgan/qsoft/Software/Cell/CellDemo/20140119_output/day1/gel2/ZSeries-01192014-1407-208/seg_000152.fits,/Users/amorgan/qsoft/Software/Cell/CellDemo/20140119_output/day1/gel2/ZSeries-01192014-1407-208/back_000152.fits "
       ]
      },
      {
       "output_type": "stream",
       "stream": "stdout",
       "text": [
        "\n",
        "sex /Users/amorgan/qsoft/Software/Cell/CellDemo/20140119_output/day1/gel2/ZSeries-01192014-1407-208//000153.fits -c /Users/amorgan/qsoft/Software/Cell/sexconfig/cell.sex  -CATALOG_NAME /Users/amorgan/qsoft/Software/Cell/CellDemo/20140119_output/day1/gel2/ZSeries-01192014-1407-208/cat000153.txt -PARAMETERS_NAME  /Users/amorgan/qsoft/Software/Cell/sexconfig/cell.param  -FILTER_NAME /Users/amorgan/qsoft/Software/Cell/sexconfig/gauss_3.0_7x7.conv  -CHECKIMAGE_TYPE APERTURES,SEGMENTATION,BACKGROUND  -CHECKIMAGE_NAME /Users/amorgan/qsoft/Software/Cell/CellDemo/20140119_output/day1/gel2/ZSeries-01192014-1407-208/ap_000153.fits,/Users/amorgan/qsoft/Software/Cell/CellDemo/20140119_output/day1/gel2/ZSeries-01192014-1407-208/seg_000153.fits,/Users/amorgan/qsoft/Software/Cell/CellDemo/20140119_output/day1/gel2/ZSeries-01192014-1407-208/back_000153.fits "
       ]
      },
      {
       "output_type": "stream",
       "stream": "stdout",
       "text": [
        "\n",
        "sex /Users/amorgan/qsoft/Software/Cell/CellDemo/20140119_output/day1/gel2/ZSeries-01192014-1407-208//000154.fits -c /Users/amorgan/qsoft/Software/Cell/sexconfig/cell.sex  -CATALOG_NAME /Users/amorgan/qsoft/Software/Cell/CellDemo/20140119_output/day1/gel2/ZSeries-01192014-1407-208/cat000154.txt -PARAMETERS_NAME  /Users/amorgan/qsoft/Software/Cell/sexconfig/cell.param  -FILTER_NAME /Users/amorgan/qsoft/Software/Cell/sexconfig/gauss_3.0_7x7.conv  -CHECKIMAGE_TYPE APERTURES,SEGMENTATION,BACKGROUND  -CHECKIMAGE_NAME /Users/amorgan/qsoft/Software/Cell/CellDemo/20140119_output/day1/gel2/ZSeries-01192014-1407-208/ap_000154.fits,/Users/amorgan/qsoft/Software/Cell/CellDemo/20140119_output/day1/gel2/ZSeries-01192014-1407-208/seg_000154.fits,/Users/amorgan/qsoft/Software/Cell/CellDemo/20140119_output/day1/gel2/ZSeries-01192014-1407-208/back_000154.fits "
       ]
      },
      {
       "output_type": "stream",
       "stream": "stdout",
       "text": [
        "\n",
        "sex /Users/amorgan/qsoft/Software/Cell/CellDemo/20140119_output/day1/gel2/ZSeries-01192014-1407-208//000155.fits -c /Users/amorgan/qsoft/Software/Cell/sexconfig/cell.sex  -CATALOG_NAME /Users/amorgan/qsoft/Software/Cell/CellDemo/20140119_output/day1/gel2/ZSeries-01192014-1407-208/cat000155.txt -PARAMETERS_NAME  /Users/amorgan/qsoft/Software/Cell/sexconfig/cell.param  -FILTER_NAME /Users/amorgan/qsoft/Software/Cell/sexconfig/gauss_3.0_7x7.conv  -CHECKIMAGE_TYPE APERTURES,SEGMENTATION,BACKGROUND  -CHECKIMAGE_NAME /Users/amorgan/qsoft/Software/Cell/CellDemo/20140119_output/day1/gel2/ZSeries-01192014-1407-208/ap_000155.fits,/Users/amorgan/qsoft/Software/Cell/CellDemo/20140119_output/day1/gel2/ZSeries-01192014-1407-208/seg_000155.fits,/Users/amorgan/qsoft/Software/Cell/CellDemo/20140119_output/day1/gel2/ZSeries-01192014-1407-208/back_000155.fits "
       ]
      },
      {
       "output_type": "stream",
       "stream": "stdout",
       "text": [
        "\n",
        "sex /Users/amorgan/qsoft/Software/Cell/CellDemo/20140119_output/day1/gel2/ZSeries-01192014-1407-208//000156.fits -c /Users/amorgan/qsoft/Software/Cell/sexconfig/cell.sex  -CATALOG_NAME /Users/amorgan/qsoft/Software/Cell/CellDemo/20140119_output/day1/gel2/ZSeries-01192014-1407-208/cat000156.txt -PARAMETERS_NAME  /Users/amorgan/qsoft/Software/Cell/sexconfig/cell.param  -FILTER_NAME /Users/amorgan/qsoft/Software/Cell/sexconfig/gauss_3.0_7x7.conv  -CHECKIMAGE_TYPE APERTURES,SEGMENTATION,BACKGROUND  -CHECKIMAGE_NAME /Users/amorgan/qsoft/Software/Cell/CellDemo/20140119_output/day1/gel2/ZSeries-01192014-1407-208/ap_000156.fits,/Users/amorgan/qsoft/Software/Cell/CellDemo/20140119_output/day1/gel2/ZSeries-01192014-1407-208/seg_000156.fits,/Users/amorgan/qsoft/Software/Cell/CellDemo/20140119_output/day1/gel2/ZSeries-01192014-1407-208/back_000156.fits "
       ]
      },
      {
       "output_type": "stream",
       "stream": "stdout",
       "text": [
        "\n",
        "Source Extraction complete. Wrote 156 catalogs."
       ]
      },
      {
       "output_type": "stream",
       "stream": "stdout",
       "text": [
        "\n",
        "Ready to ReadCatalogs()\n"
       ]
      }
     ],
     "prompt_number": 8
    },
    {
     "cell_type": "code",
     "collapsed": false,
     "input": [
      "# read in the sextractor output into a table\n",
      "imgstack.ReadCatalogs()"
     ],
     "language": "python",
     "metadata": {},
     "outputs": [
      {
       "output_type": "stream",
       "stream": "stdout",
       "text": [
        "156 tables read in\n",
        "Ready for Object/Association assignment with FindObjects()\n"
       ]
      }
     ],
     "prompt_number": 9
    },
    {
     "cell_type": "code",
     "collapsed": false,
     "input": [
      "# run the object/association assignment algorithm\n",
      "imgstack.FindObjects()\n"
     ],
     "language": "python",
     "metadata": {},
     "outputs": [
      {
       "output_type": "stream",
       "stream": "stdout",
       "text": [
        "only 2 instance(s) of 1 object detections in slice 36 at x=306.908000 y=454.922000\n",
        "Just one instance of 2 object detections in slice [36]; moving to next level\n",
        "Just one instance of 3 object detections in slice [36]; moving to next level"
       ]
      },
      {
       "output_type": "stream",
       "stream": "stdout",
       "text": [
        "\n",
        "Just one instance of 2 object detections in slice [36]; moving to next level"
       ]
      },
      {
       "output_type": "stream",
       "stream": "stdout",
       "text": [
        "\n",
        "Just one instance of 3 object detections in slice [34]; moving to next level"
       ]
      },
      {
       "output_type": "stream",
       "stream": "stdout",
       "text": [
        "\n",
        "Just one instance of 2 object detections in slice [36]; moving to next level\n",
        "Just one instance of 3 object detections in slice [34]; moving to next level"
       ]
      },
      {
       "output_type": "stream",
       "stream": "stdout",
       "text": [
        "\n",
        "Just one instance of 3 object detections in slice [34]; moving to next level\n",
        "Just one instance of 2 object detections in slice [35]; moving to next level\n",
        "Just one instance of 2 object detections in slice [36]; moving to next level"
       ]
      },
      {
       "output_type": "stream",
       "stream": "stdout",
       "text": [
        "\n",
        "Just one instance of 3 object detections in slice [34]; moving to next level\n",
        "Just one instance of 2 object detections in slice [36]; moving to next level"
       ]
      },
      {
       "output_type": "stream",
       "stream": "stdout",
       "text": [
        "\n",
        "Just one instance of 3 object detections in slice [34]; moving to next level\n",
        "Just one instance of 2 object detections in slice [36]; moving to next level"
       ]
      },
      {
       "output_type": "stream",
       "stream": "stdout",
       "text": [
        "\n",
        "Just one instance of 2 object detections in slice [36]; moving to next level\n",
        "Just one instance of 3 object detections in slice [34]; moving to next level\n",
        "Just one instance of 2 object detections in slice [36]; moving to next level"
       ]
      },
      {
       "output_type": "stream",
       "stream": "stdout",
       "text": [
        "\n",
        "Just one instance of 2 object detections in slice [36]; moving to next level\n",
        "Just one instance of 3 object detections in slice [34]; moving to next level\n",
        "Just one instance of 2 object detections in slice [36]; moving to next level"
       ]
      },
      {
       "output_type": "stream",
       "stream": "stdout",
       "text": [
        "\n",
        "Just one instance of 2 object detections in slice [36]; moving to next level\n",
        "Just one instance of 3 object detections in slice [34]; moving to next level\n",
        "Just one instance of 2 object detections in slice [36]; moving to next level"
       ]
      },
      {
       "output_type": "stream",
       "stream": "stdout",
       "text": [
        "\n",
        "Just one instance of 3 object detections in slice [43]; moving to next level\n",
        "Just one instance of 2 object detections in slice [36]; moving to next level\n",
        "Just one instance of 3 object detections in slice [34]; moving to next level\n",
        "Just one instance of 3 object detections in slice [42]; moving to next level"
       ]
      },
      {
       "output_type": "stream",
       "stream": "stdout",
       "text": [
        "\n",
        "Just one instance of 2 object detections in slice [36]; moving to next level\n",
        "Just one instance of 3 object detections in slice [34]; moving to next level\n",
        "Just one instance of 3 object detections in slice [44]; moving to next level"
       ]
      },
      {
       "output_type": "stream",
       "stream": "stdout",
       "text": [
        "\n",
        "Just one instance of 2 object detections in slice [36]; moving to next level"
       ]
      },
      {
       "output_type": "stream",
       "stream": "stdout",
       "text": [
        "\n",
        "Just one instance of 2 object detections in slice [36]; moving to next level\n",
        "Just one instance of 3 object detections in slice [34]; moving to next level\n",
        "Just one instance of 2 object detections in slice [36]; moving to next level"
       ]
      },
      {
       "output_type": "stream",
       "stream": "stdout",
       "text": [
        "\n",
        "Just one instance of 2 object detections in slice [36]; moving to next level\n",
        "Just one instance of 2 object detections in slice [36]; moving to next level\n",
        "Just one instance of 3 object detections in slice [34]; moving to next level\n",
        "Just one instance of 3 object detections in slice [44]; moving to next level"
       ]
      },
      {
       "output_type": "stream",
       "stream": "stdout",
       "text": [
        "\n",
        "Just one instance of 3 object detections in slice [44]; moving to next level\n",
        "Just one instance of 3 object detections in slice [34]; moving to next level"
       ]
      },
      {
       "output_type": "stream",
       "stream": "stdout",
       "text": [
        "\n",
        "Just one instance of 2 object detections in slice [45]; moving to next level\n",
        "Just one instance of 3 object detections in slice [44]; moving to next level\n",
        "Just one instance of 3 object detections in slice [44]; moving to next level\n",
        "Too few detections for index 449"
       ]
      },
      {
       "output_type": "stream",
       "stream": "stdout",
       "text": [
        "\n",
        "Int64Index([449], dtype=int64)\n",
        "Just one instance of 3 object detections in slice [44]; moving to next level\n",
        "Just one instance of 3 object detections in slice [44]; moving to next level\n",
        "Just one instance of 3 object detections in slice [34]; moving to next level\n",
        "Just one instance of 3 object detections in slice [34]; moving to next level"
       ]
      },
      {
       "output_type": "stream",
       "stream": "stdout",
       "text": [
        "\n",
        "Just one instance of 3 object detections in slice [44]; moving to next level\n",
        "Just one instance of 3 object detections in slice [44]; moving to next level\n",
        "only 2 instance(s) of 2 object detections in slice 55 at x=507.783000 y=89.231000"
       ]
      },
      {
       "output_type": "stream",
       "stream": "stdout",
       "text": [
        "\n",
        "only 2 instance(s) of 2 object detections in slice 55 at x=499.012000 y=86.368000\n",
        "Just one instance of 3 object detections in slice [44]; moving to next level"
       ]
      },
      {
       "output_type": "stream",
       "stream": "stdout",
       "text": [
        "\n",
        "Just one instance of 3 object detections in slice [44]; moving to next level\n",
        "Just one instance of 3 object detections in slice [34]; moving to next level\n",
        "Just one instance of 3 object detections in slice [44]; moving to next level"
       ]
      },
      {
       "output_type": "stream",
       "stream": "stdout",
       "text": [
        "\n",
        "Just one instance of 3 object detections in slice [44]; moving to next level\n",
        "Just one instance of 3 object detections in slice [34]; moving to next level"
       ]
      },
      {
       "output_type": "stream",
       "stream": "stdout",
       "text": [
        "\n",
        "Just one instance of 3 object detections in slice [44]; moving to next level"
       ]
      },
      {
       "output_type": "stream",
       "stream": "stdout",
       "text": [
        "\n",
        "Just one instance of 3 object detections in slice [44]; moving to next level\n",
        "Just one instance of 3 object detections in slice [34]; moving to next level"
       ]
      },
      {
       "output_type": "stream",
       "stream": "stdout",
       "text": [
        "\n",
        "Just one instance of 3 object detections in slice [44]; moving to next level\n",
        "Just one instance of 3 object detections in slice [44]; moving to next level\n",
        "Just one instance of 3 object detections in slice [34]; moving to next level"
       ]
      },
      {
       "output_type": "stream",
       "stream": "stdout",
       "text": [
        "\n",
        "Just one instance of 2 object detections in slice [55]; moving to next level\n",
        "Just one instance of 2 object detections in slice [55]; moving to next level"
       ]
      },
      {
       "output_type": "stream",
       "stream": "stdout",
       "text": [
        "\n",
        "Just one instance of 3 object detections in slice [44]; moving to next level\n",
        "Just one instance of 3 object detections in slice [44]; moving to next level\n",
        "Just one instance of 2 object detections in slice [52]; moving to next level"
       ]
      },
      {
       "output_type": "stream",
       "stream": "stdout",
       "text": [
        "\n",
        "Just one instance of 3 object detections in slice [44]; moving to next level\n",
        "Just one instance of 3 object detections in slice [44]; moving to next level\n",
        "Just one instance of 2 object detections in slice [53]; moving to next level"
       ]
      },
      {
       "output_type": "stream",
       "stream": "stdout",
       "text": [
        "\n",
        "Just one instance of 2 object detections in slice [53]; moving to next level\n",
        "Just one instance of 2 object detections in slice [60]; moving to next level"
       ]
      },
      {
       "output_type": "stream",
       "stream": "stdout",
       "text": [
        "\n",
        "Just one instance of 2 object detections in slice [60]; moving to next level"
       ]
      },
      {
       "output_type": "stream",
       "stream": "stdout",
       "text": [
        "\n",
        "only 2 instance(s) of 2 object detections in slice 60 at x=91.442000 y=283.724000"
       ]
      },
      {
       "output_type": "stream",
       "stream": "stdout",
       "text": [
        "\n",
        "only 2 instance(s) of 2 object detections in slice 60 at x=90.267000 y=274.105000\n",
        "Just one instance of 2 object detections in slice [58]; moving to next level"
       ]
      },
      {
       "output_type": "stream",
       "stream": "stdout",
       "text": [
        "\n",
        "Just one instance of 2 object detections in slice [58]; moving to next level\n",
        "Too few detections for index 696"
       ]
      },
      {
       "output_type": "stream",
       "stream": "stdout",
       "text": [
        "\n",
        "Int64Index([696], dtype=int64)\n",
        "79 potential objects found\n",
        "587/698 detections accounted for\n",
        "Attempting to assign associations to the remaining detections\n",
        "In slice 2, object 6 is nearby detection 6 but is outside its elliptical threshold"
       ]
      },
      {
       "output_type": "stream",
       "stream": "stdout",
       "text": [
        "\n",
        "In slice 3, object 12 is nearby detection 25 but is outside its elliptical threshold\n",
        "In slice 4, object 13 is nearby detection 37 but is outside its elliptical threshold"
       ]
      },
      {
       "output_type": "stream",
       "stream": "stdout",
       "text": [
        "\n",
        "In slice 5, object 6 is nearby detection 54 but is outside its elliptical threshold"
       ]
      },
      {
       "output_type": "stream",
       "stream": "stdout",
       "text": [
        "\n",
        "In slice 10, object 13 is nearby detection 120 but is outside its elliptical threshold"
       ]
      },
      {
       "output_type": "stream",
       "stream": "stdout",
       "text": [
        "\n",
        "In slice 10, object 11 is nearby detection 121 but is outside its elliptical threshold\n",
        "In slice 11, object 11 is nearby detection 133 but is outside its elliptical threshold\n",
        "In slice 32, object 17 is nearby detection 175 but is outside its elliptical threshold"
       ]
      },
      {
       "output_type": "stream",
       "stream": "stdout",
       "text": [
        "\n",
        "In slice 32, object 22 is nearby detection 175 but is outside its elliptical threshold\n",
        "In slice 32, object 27 is nearby detection 175 but is outside its elliptical threshold\n",
        "In slice 32, object 28 is nearby detection 175 but is outside its elliptical threshold\n",
        "In slice 32, object 25 is nearby detection 176 but is outside its elliptical threshold\n",
        "In slice 33, object 27 is nearby detection 177 but is outside its elliptical threshold\n",
        "In slice 34, object 25 is nearby detection 180 but is outside its elliptical threshold\n",
        "In slice 34, object 19 is nearby detection 182 but is outside its elliptical threshold"
       ]
      },
      {
       "output_type": "stream",
       "stream": "stdout",
       "text": [
        "\n",
        "In slice 34, object 30 is nearby detection 182 but is outside its elliptical threshold\n",
        "In slice 35, object 26 is nearby detection 187 but is outside its elliptical threshold\n",
        "In slice 35, object 19 is nearby detection 189 but is outside its elliptical threshold\n",
        "In slice 35, not associating detection 189 with object 30 as it exists already in that slice.\n",
        "In slice 36, object 25 is nearby detection 196 but is outside its elliptical threshold\n",
        "In slice 36, object 20 is nearby detection 197 but is outside its elliptical threshold\n",
        "In slice 36, object 19 is nearby detection 200 but is outside its elliptical threshold"
       ]
      },
      {
       "output_type": "stream",
       "stream": "stdout",
       "text": [
        "\n",
        "In slice 36, not associating detection 200 with object 30 as it exists already in that slice.\n",
        "In slice 36, object 33 is nearby detection 207 but is outside its elliptical threshold\n",
        "In slice 37, not associating detection 214 with object 19 as it exists already in that slice.\n",
        "In slice 37, not associating detection 214 with object 30 as it exists already in that slice.\n",
        "In slice 38, not associating detection 229 with object 19 as it exists already in that slice."
       ]
      },
      {
       "output_type": "stream",
       "stream": "stdout",
       "text": [
        "\n",
        "In slice 38, not associating detection 229 with object 30 as it exists already in that slice.\n",
        "In slice 39, object 38 is nearby detection 260 but is outside its elliptical threshold\n",
        "In slice 40, object 47 is nearby detection 261 but is outside its elliptical threshold\n",
        "In slice 40, detection 281 is close to object 43 in x,y space but is 8 slices away.\n",
        "In slice 40, detection 281 is close to object 44 in x,y space but is 8 slices away."
       ]
      },
      {
       "output_type": "stream",
       "stream": "stdout",
       "text": [
        "\n",
        "In slice 40, detection 281 is close to object 45 in x,y space but is 8 slices away.\n",
        "In slice 40, detection 281 is close to object 67 in x,y space but is 10 slices away.\n",
        "Could not find an association for detection 281 in slice 40\n",
        "In slice 41, detection 282 is close to object 6 in x,y space but is 29 slices away.\n",
        "In slice 41, object 46 is nearby detection 282 but is outside its elliptical threshold\n",
        "In slice 41, object 47 is nearby detection 282 but is outside its elliptical threshold\n",
        "In slice 41, object 41 is nearby detection 303 but is outside its elliptical threshold\n",
        "In slice 41, object 42 is nearby detection 303 but is outside its elliptical threshold\n",
        "In slice 41, detection 304 is close to object 67 in x,y space but is 9 slices away."
       ]
      },
      {
       "output_type": "stream",
       "stream": "stdout",
       "text": [
        "\n",
        "In slice 42, not associating detection 305 with object 47 as it exists already in that slice.\n",
        "In slice 42, object 48 is nearby detection 325 but is outside its elliptical threshold\n",
        "In slice 42, object 48 is nearby detection 326 but is outside its elliptical threshold\n",
        "In slice 42, detection 332 is close to object 0 in x,y space but is 31 slices away.\n",
        "In slice 42, detection 332 is close to object 67 in x,y space but is 8 slices away.\n",
        "In slice 43, detection 333 is close to object 0 in x,y space but is 32 slices away."
       ]
      },
      {
       "output_type": "stream",
       "stream": "stdout",
       "text": [
        "\n",
        "In slice 43, not associating detection 334 with object 47 as it exists already in that slice.\n",
        "In slice 44, detection 362 is close to object 0 in x,y space but is 33 slices away.\n",
        "In slice 44, object 20 is nearby detection 365 but is outside its elliptical threshold\n",
        "In slice 44, object 21 is nearby detection 365 but is outside its elliptical threshold\n",
        "In slice 44, object 25 is nearby detection 365 but is outside its elliptical threshold\n",
        "In slice 44, object 19 is nearby detection 366 but is outside its elliptical threshold"
       ]
      },
      {
       "output_type": "stream",
       "stream": "stdout",
       "text": [
        "\n",
        "In slice 44, object 30 is nearby detection 366 but is outside its elliptical threshold\n",
        "In slice 45, detection 391 is close to object 0 in x,y space but is 34 slices away.\n",
        "In slice 45, object 19 is nearby detection 394 but is outside its elliptical threshold\n",
        "In slice 45, object 30 is nearby detection 394 but is outside its elliptical threshold\n",
        "In slice 45, object 56 is nearby detection 416 but is outside its elliptical threshold"
       ]
      },
      {
       "output_type": "stream",
       "stream": "stdout",
       "text": [
        "\n",
        "In slice 46, detection 419 is close to object 0 in x,y space but is 35 slices away.\n",
        "In slice 46, detection 421 is close to object 17 in x,y space but is 10 slices away.\n",
        "In slice 46, detection 421 is close to object 18 in x,y space but is 10 slices away.\n",
        "In slice 46, detection 421 is close to object 22 in x,y space but is 10 slices away.\n",
        "In slice 47, detection 445 is close to object 0 in x,y space but is 36 slices away.\n",
        "Could not find an association for detection 449 in slice 47"
       ]
      },
      {
       "output_type": "stream",
       "stream": "stdout",
       "text": [
        "\n",
        "In slice 47, detection 461 is close to object 17 in x,y space but is 11 slices away.\n",
        "In slice 47, detection 461 is close to object 18 in x,y space but is 11 slices away.\n",
        "In slice 47, detection 461 is close to object 22 in x,y space but is 11 slices away.\n",
        "In slice 48, detection 474 is close to object 17 in x,y space but is 12 slices away.\n",
        "In slice 48, detection 474 is close to object 18 in x,y space but is 12 slices away.\n",
        "In slice 48, detection 474 is close to object 22 in x,y space but is 12 slices away.\n",
        "In slice 48, object 27 is nearby detection 474 but is outside its elliptical threshold\n",
        "In slice 48, object 40 is nearby detection 483 but is outside its elliptical threshold\n",
        "In slice 48, object 19 is nearby detection 497 but is outside its elliptical threshold\n",
        "In slice 48, object 21 is nearby detection 497 but is outside its elliptical threshold\n",
        "In slice 49, object 47 is nearby detection 512 but is outside its elliptical threshold"
       ]
      },
      {
       "output_type": "stream",
       "stream": "stdout",
       "text": [
        "\n",
        "In slice 49, detection 518 is close to object 17 in x,y space but is 13 slices away.\n",
        "In slice 49, detection 518 is close to object 18 in x,y space but is 13 slices away.\n",
        "In slice 49, detection 518 is close to object 22 in x,y space but is 13 slices away.\n",
        "In slice 49, object 27 is nearby detection 518 but is outside its elliptical threshold\n",
        "In slice 50, detection 540 is close to object 17 in x,y space but is 14 slices away.\n",
        "In slice 50, detection 540 is close to object 18 in x,y space but is 14 slices away.\n",
        "In slice 50, detection 540 is close to object 22 in x,y space but is 14 slices away.\n",
        "In slice 51, object 49 is nearby detection 545 but is outside its elliptical threshold\n",
        "In slice 51, detection 561 is close to object 17 in x,y space but is 15 slices away.\n",
        "In slice 51, detection 561 is close to object 18 in x,y space but is 15 slices away.\n",
        "In slice 51, detection 561 is close to object 22 in x,y space but is 15 slices away.\n",
        "In slice 51, object 27 is nearby detection 561 but is outside its elliptical threshold\n",
        "In slice 52, object 49 is nearby detection 566 but is outside its elliptical threshold\n",
        "In slice 52, detection 581 is close to object 17 in x,y space but is 16 slices away."
       ]
      },
      {
       "output_type": "stream",
       "stream": "stdout",
       "text": [
        "\n",
        "In slice 52, detection 581 is close to object 18 in x,y space but is 16 slices away.\n",
        "In slice 52, detection 581 is close to object 22 in x,y space but is 16 slices away.\n",
        "In slice 52, object 27 is nearby detection 581 but is outside its elliptical threshold\n",
        "In slice 53, detection 583 is close to object 0 in x,y space but is 42 slices away.\n",
        "In slice 53, not associating detection 583 with object 67 as it exists already in that slice.\n",
        "In slice 53, not associating detection 598 with object 52 as it exists already in that slice.\n",
        "In slice 53, not associating detection 598 with object 53 as it exists already in that slice.\n",
        "Could not find an association for detection 598 in slice 53\n",
        "In slice 54, detection 599 is close to object 0 in x,y space but is 43 slices away.\n",
        "In slice 54, not associating detection 599 with object 67 as it exists already in that slice.\n",
        "In slice 55, detection 611 is close to object 0 in x,y space but is 44 slices away.\n",
        "In slice 55, not associating detection 611 with object 67 as it exists already in that slice.\n",
        "In slice 55, object 53 is nearby detection 615 but is outside its elliptical threshold"
       ]
      },
      {
       "output_type": "stream",
       "stream": "stdout",
       "text": [
        "\n",
        "In slice 56, detection 626 is close to object 0 in x,y space but is 45 slices away.\n",
        "In slice 56, not associating detection 626 with object 67 as it exists already in that slice.\n",
        "In slice 57, detection 633 is close to object 0 in x,y space but is 46 slices away.\n",
        "In slice 58, detection 638 is close to object 0 in x,y space but is 47 slices away.\n",
        "In slice 59, detection 641 is close to object 0 in x,y space but is 48 slices away.\n",
        "In slice 60, detection 645 is close to object 0 in x,y space but is 49 slices away."
       ]
      },
      {
       "output_type": "stream",
       "stream": "stdout",
       "text": [
        "\n",
        "In slice 60, detection 645 is close to object 43 in x,y space but is 8 slices away.\n",
        "In slice 60, detection 645 is close to object 44 in x,y space but is 8 slices away.\n",
        "In slice 60, detection 645 is close to object 45 in x,y space but is 8 slices away.\n",
        "In slice 61, detection 648 is close to object 43 in x,y space but is 9 slices away.\n",
        "In slice 61, detection 648 is close to object 44 in x,y space but is 9 slices away.\n",
        "In slice 61, detection 648 is close to object 45 in x,y space but is 9 slices away.\n",
        "Could not find an association for detection 648 in slice 61\n",
        "In slice 116, detection 696 is close to object 12 in x,y space but is 107 slices away.\n",
        "In slice 116, detection 696 is close to object 13 in x,y space but is 107 slices away.\n",
        "Could not find an association for detection 696 in slice 116\n",
        "693/698 detections associated\n",
        "Object/association table generation complete.\n",
        "Can create verification images [MakeVerificationImages()]\n",
        "Or generate histograms [PlotCountHist()]\n"
       ]
      }
     ],
     "prompt_number": 10
    },
    {
     "cell_type": "code",
     "collapsed": false,
     "input": [
      "# save the image stack\n",
      "imgstack.Save()"
     ],
     "language": "python",
     "metadata": {},
     "outputs": [
      {
       "output_type": "stream",
       "stream": "stdout",
       "text": [
        "/Users/amorgan/qsoft/Software/Cell/CellDemo/20140119_output/day1/gel2/ZSeries-01192014-1407-208/ZSeries-01192014-1407-208.pkl already exists and clobber == False; not overwriting.\n"
       ]
      }
     ],
     "prompt_number": 43
    },
    {
     "cell_type": "code",
     "collapsed": false,
     "input": [
      "# optional: plot count histogram\n",
      "imgstack.PlotCountHist()"
     ],
     "language": "python",
     "metadata": {},
     "outputs": [
      {
       "metadata": {},
       "output_type": "display_data",
       "png": "[encoded data removed]",
       "text": [
        "<matplotlib.figure.Figure at 0x106a09450>"
       ]
      }
     ],
     "prompt_number": 13
    },
    {
     "cell_type": "code",
     "collapsed": false,
     "input": [
      "imgstack.detection_table.head()"
     ],
     "language": "python",
     "metadata": {},
     "outputs": [
      {
       "html": [
        "<div style=\"max-height:1000px;max-width:1500px;overflow:auto;\">\n",
        "<table border=\"1\" class=\"dataframe\">\n",
        "  <thead>\n",
        "    <tr style=\"text-align: right;\">\n",
        "      <th></th>\n",
        "      <th>z_index</th>\n",
        "      <th>x</th>\n",
        "      <th>y</th>\n",
        "      <th>A</th>\n",
        "      <th>B</th>\n",
        "      <th>ellipticity</th>\n",
        "      <th>theta</th>\n",
        "      <th>r_kron</th>\n",
        "      <th>r_flux</th>\n",
        "      <th>mu_max</th>\n",
        "      <th>mag_auto</th>\n",
        "      <th>magerr_auto</th>\n",
        "      <th>mag_iso</th>\n",
        "      <th>magerr_iso</th>\n",
        "      <th>fwhm</th>\n",
        "      <th>flags</th>\n",
        "    </tr>\n",
        "  </thead>\n",
        "  <tbody>\n",
        "    <tr>\n",
        "      <th>0</th>\n",
        "      <td> 1</td>\n",
        "      <td> 321.563</td>\n",
        "      <td>  61.960</td>\n",
        "      <td> 2.035</td>\n",
        "      <td> 1.198</td>\n",
        "      <td> 0.411</td>\n",
        "      <td>-42.5</td>\n",
        "      <td> 8.73</td>\n",
        "      <td> 4.913</td>\n",
        "      <td> 16.4512</td>\n",
        "      <td> 11.6558</td>\n",
        "      <td> 0.0220</td>\n",
        "      <td> 13.3136</td>\n",
        "      <td> 0.0289</td>\n",
        "      <td>  8.15</td>\n",
        "      <td> 2</td>\n",
        "    </tr>\n",
        "    <tr>\n",
        "      <th>1</th>\n",
        "      <td> 1</td>\n",
        "      <td> 350.204</td>\n",
        "      <td> 362.229</td>\n",
        "      <td> 3.837</td>\n",
        "      <td> 1.556</td>\n",
        "      <td> 0.595</td>\n",
        "      <td> 64.6</td>\n",
        "      <td> 7.93</td>\n",
        "      <td> 6.087</td>\n",
        "      <td> 16.4580</td>\n",
        "      <td> 11.1115</td>\n",
        "      <td> 0.0188</td>\n",
        "      <td> 12.7596</td>\n",
        "      <td> 0.0219</td>\n",
        "      <td> 14.65</td>\n",
        "      <td> 0</td>\n",
        "    </tr>\n",
        "    <tr>\n",
        "      <th>2</th>\n",
        "      <td> 1</td>\n",
        "      <td> 402.067</td>\n",
        "      <td> 338.188</td>\n",
        "      <td> 4.307</td>\n",
        "      <td> 1.884</td>\n",
        "      <td> 0.563</td>\n",
        "      <td> 82.0</td>\n",
        "      <td> 7.39</td>\n",
        "      <td> 6.052</td>\n",
        "      <td> 16.6040</td>\n",
        "      <td> 11.1231</td>\n",
        "      <td> 0.0207</td>\n",
        "      <td> 12.5483</td>\n",
        "      <td> 0.0203</td>\n",
        "      <td> 17.09</td>\n",
        "      <td> 0</td>\n",
        "    </tr>\n",
        "    <tr>\n",
        "      <th>3</th>\n",
        "      <td> 1</td>\n",
        "      <td> 346.482</td>\n",
        "      <td> 182.273</td>\n",
        "      <td> 5.312</td>\n",
        "      <td> 2.936</td>\n",
        "      <td> 0.447</td>\n",
        "      <td> 83.6</td>\n",
        "      <td> 6.94</td>\n",
        "      <td> 6.865</td>\n",
        "      <td> 16.0522</td>\n",
        "      <td> 10.4077</td>\n",
        "      <td> 0.0139</td>\n",
        "      <td> 11.5328</td>\n",
        "      <td> 0.0116</td>\n",
        "      <td> 23.70</td>\n",
        "      <td> 0</td>\n",
        "    </tr>\n",
        "    <tr>\n",
        "      <th>4</th>\n",
        "      <td> 1</td>\n",
        "      <td> 284.162</td>\n",
        "      <td> 186.212</td>\n",
        "      <td> 2.440</td>\n",
        "      <td> 1.517</td>\n",
        "      <td> 0.378</td>\n",
        "      <td> 89.9</td>\n",
        "      <td> 8.62</td>\n",
        "      <td> 5.690</td>\n",
        "      <td> 16.6521</td>\n",
        "      <td> 11.3527</td>\n",
        "      <td> 0.0201</td>\n",
        "      <td> 13.4485</td>\n",
        "      <td> 0.0316</td>\n",
        "      <td> 11.53</td>\n",
        "      <td> 0</td>\n",
        "    </tr>\n",
        "  </tbody>\n",
        "</table>\n",
        "</div>"
       ],
       "metadata": {},
       "output_type": "pyout",
       "prompt_number": 14,
       "text": [
        "   z_index        x        y      A      B  ellipticity  theta  r_kron  \\\n",
        "0        1  321.563   61.960  2.035  1.198        0.411  -42.5    8.73   \n",
        "1        1  350.204  362.229  3.837  1.556        0.595   64.6    7.93   \n",
        "2        1  402.067  338.188  4.307  1.884        0.563   82.0    7.39   \n",
        "3        1  346.482  182.273  5.312  2.936        0.447   83.6    6.94   \n",
        "4        1  284.162  186.212  2.440  1.517        0.378   89.9    8.62   \n",
        "\n",
        "   r_flux   mu_max  mag_auto  magerr_auto  mag_iso  magerr_iso   fwhm  flags  \n",
        "0   4.913  16.4512   11.6558       0.0220  13.3136      0.0289   8.15      2  \n",
        "1   6.087  16.4580   11.1115       0.0188  12.7596      0.0219  14.65      0  \n",
        "2   6.052  16.6040   11.1231       0.0207  12.5483      0.0203  17.09      0  \n",
        "3   6.865  16.0522   10.4077       0.0139  11.5328      0.0116  23.70      0  \n",
        "4   5.690  16.6521   11.3527       0.0201  13.4485      0.0316  11.53      0  "
       ]
      }
     ],
     "prompt_number": 14
    },
    {
     "cell_type": "code",
     "collapsed": false,
     "input": [
      "imgstack.object_table.head()"
     ],
     "language": "python",
     "metadata": {},
     "outputs": [
      {
       "html": [
        "<div style=\"max-height:1000px;max-width:1500px;overflow:auto;\">\n",
        "<table border=\"1\" class=\"dataframe\">\n",
        "  <thead>\n",
        "    <tr style=\"text-align: right;\">\n",
        "      <th></th>\n",
        "      <th>z_mean</th>\n",
        "      <th>z_std</th>\n",
        "      <th>x_mean</th>\n",
        "      <th>x_std</th>\n",
        "      <th>y_mean</th>\n",
        "      <th>y_std</th>\n",
        "      <th>z_min_mu_max</th>\n",
        "      <th>detections</th>\n",
        "      <th>associations</th>\n",
        "    </tr>\n",
        "  </thead>\n",
        "  <tbody>\n",
        "    <tr>\n",
        "      <th>0</th>\n",
        "      <td> 6.0</td>\n",
        "      <td> 3.316625</td>\n",
        "      <td> 322.824455</td>\n",
        "      <td> 0.656347</td>\n",
        "      <td>  63.797091</td>\n",
        "      <td> 1.757279</td>\n",
        "      <td> 4</td>\n",
        "      <td> 11</td>\n",
        "      <td> 11</td>\n",
        "    </tr>\n",
        "    <tr>\n",
        "      <th>1</th>\n",
        "      <td> 6.5</td>\n",
        "      <td> 3.605551</td>\n",
        "      <td> 351.204750</td>\n",
        "      <td> 0.743495</td>\n",
        "      <td> 361.789833</td>\n",
        "      <td> 0.643920</td>\n",
        "      <td> 6</td>\n",
        "      <td> 12</td>\n",
        "      <td> 12</td>\n",
        "    </tr>\n",
        "    <tr>\n",
        "      <th>2</th>\n",
        "      <td> 6.5</td>\n",
        "      <td> 3.605551</td>\n",
        "      <td> 402.278000</td>\n",
        "      <td> 0.769054</td>\n",
        "      <td> 338.400167</td>\n",
        "      <td> 0.549030</td>\n",
        "      <td> 6</td>\n",
        "      <td> 12</td>\n",
        "      <td> 12</td>\n",
        "    </tr>\n",
        "    <tr>\n",
        "      <th>3</th>\n",
        "      <td> 7.5</td>\n",
        "      <td> 4.183300</td>\n",
        "      <td> 347.878143</td>\n",
        "      <td> 0.839826</td>\n",
        "      <td> 183.062429</td>\n",
        "      <td> 1.415046</td>\n",
        "      <td> 6</td>\n",
        "      <td> 14</td>\n",
        "      <td> 14</td>\n",
        "    </tr>\n",
        "    <tr>\n",
        "      <th>4</th>\n",
        "      <td> 7.0</td>\n",
        "      <td> 3.894440</td>\n",
        "      <td> 284.894077</td>\n",
        "      <td> 0.557741</td>\n",
        "      <td> 187.510154</td>\n",
        "      <td> 0.944850</td>\n",
        "      <td> 7</td>\n",
        "      <td> 13</td>\n",
        "      <td> 13</td>\n",
        "    </tr>\n",
        "  </tbody>\n",
        "</table>\n",
        "</div>"
       ],
       "metadata": {},
       "output_type": "pyout",
       "prompt_number": 15,
       "text": [
        "   z_mean     z_std      x_mean     x_std      y_mean     y_std  z_min_mu_max  \\\n",
        "0     6.0  3.316625  322.824455  0.656347   63.797091  1.757279             4   \n",
        "1     6.5  3.605551  351.204750  0.743495  361.789833  0.643920             6   \n",
        "2     6.5  3.605551  402.278000  0.769054  338.400167  0.549030             6   \n",
        "3     7.5  4.183300  347.878143  0.839826  183.062429  1.415046             6   \n",
        "4     7.0  3.894440  284.894077  0.557741  187.510154  0.944850             7   \n",
        "\n",
        "   detections  associations  \n",
        "0          11            11  \n",
        "1          12            12  \n",
        "2          12            12  \n",
        "3          14            14  \n",
        "4          13            13  "
       ]
      }
     ],
     "prompt_number": 15
    },
    {
     "cell_type": "code",
     "collapsed": false,
     "input": [
      "imgstack.detection_object_link_table.head()"
     ],
     "language": "python",
     "metadata": {},
     "outputs": [
      {
       "html": [
        "<div style=\"max-height:1000px;max-width:1500px;overflow:auto;\">\n",
        "<table border=\"1\" class=\"dataframe\">\n",
        "  <thead>\n",
        "    <tr style=\"text-align: right;\">\n",
        "      <th></th>\n",
        "      <th>det_id</th>\n",
        "      <th>obj_id</th>\n",
        "    </tr>\n",
        "  </thead>\n",
        "  <tbody>\n",
        "    <tr>\n",
        "      <th>0</th>\n",
        "      <td> 67</td>\n",
        "      <td> 0</td>\n",
        "    </tr>\n",
        "    <tr>\n",
        "      <th>1</th>\n",
        "      <td>  0</td>\n",
        "      <td> 0</td>\n",
        "    </tr>\n",
        "    <tr>\n",
        "      <th>2</th>\n",
        "      <td> 15</td>\n",
        "      <td> 0</td>\n",
        "    </tr>\n",
        "    <tr>\n",
        "      <th>3</th>\n",
        "      <td> 27</td>\n",
        "      <td> 0</td>\n",
        "    </tr>\n",
        "    <tr>\n",
        "      <th>4</th>\n",
        "      <td> 39</td>\n",
        "      <td> 0</td>\n",
        "    </tr>\n",
        "  </tbody>\n",
        "</table>\n",
        "</div>"
       ],
       "metadata": {},
       "output_type": "pyout",
       "prompt_number": 16,
       "text": [
        "   det_id  obj_id\n",
        "0      67       0\n",
        "1       0       0\n",
        "2      15       0\n",
        "3      27       0\n",
        "4      39       0"
       ]
      }
     ],
     "prompt_number": 16
    },
    {
     "cell_type": "code",
     "collapsed": false,
     "input": [
      "# optional: export to an excel file \n",
      "imgstack.ExportToExcel()\n",
      "\n",
      "# optional: prepare verification images (takes several minutes)\n",
      "# imgstack.PrepareVerificationImages()\n",
      "\n",
      "# optional: create verification images\n",
      "# imgstack.MakeVerificationImages()\n"
     ],
     "language": "python",
     "metadata": {},
     "outputs": [],
     "prompt_number": 17
    },
    {
     "cell_type": "code",
     "collapsed": false,
     "input": [
      "# Can plot a histogram of cells as a function of depth for:\n",
      "#  An individual stack:\n",
      "Image(\"20140119_output/day1_200pa_380umRGDgel2ZSeries-01192014-1407-208.png\")"
     ],
     "language": "python",
     "metadata": {},
     "outputs": [
      {
       "metadata": {},
       "output_type": "pyout",
       "png": "[encoded data removed]",
       "prompt_number": 49,
       "text": [
        "<IPython.core.display.Image at 0x106222990>"
       ]
      }
     ],
     "prompt_number": 49
    },
    {
     "cell_type": "code",
     "collapsed": false,
     "input": [
      "# All imaging locations for a particular gel:\n",
      "Image(\"20140119_output/day1_200pa_380umRGDgel3.png\")"
     ],
     "language": "python",
     "metadata": {},
     "outputs": [
      {
       "metadata": {},
       "output_type": "pyout",
       "png": "[encoded data removed]",
       "prompt_number": 50,
       "text": [
        "<IPython.core.display.Image at 0x1062227d0>"
       ]
      }
     ],
     "prompt_number": 50
    },
    {
     "cell_type": "code",
     "collapsed": false,
     "input": [
      "# All gels for a particular experimental condition:\n",
      "Image(\"20140119_output/combined-day1_200pa_380umRGD.png\")"
     ],
     "language": "python",
     "metadata": {},
     "outputs": [
      {
       "metadata": {},
       "output_type": "pyout",
       "png": "[encoded data removed]",
       "prompt_number": 51,
       "text": [
        "<IPython.core.display.Image at 0x10631a550>"
       ]
      }
     ],
     "prompt_number": 51
    },
    {
     "cell_type": "markdown",
     "metadata": {},
     "source": [
      "---"
     ]
    },
    {
     "cell_type": "markdown",
     "metadata": {},
     "source": [
      "### UPDATE: LSM IMAGING"
     ]
    },
    {
     "cell_type": "code",
     "collapsed": false,
     "input": [],
     "language": "python",
     "metadata": {},
     "outputs": []
    }
   ],
   "metadata": {}
  }
 ]
}